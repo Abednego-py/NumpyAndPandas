{
 "cells": [
  {
   "cell_type": "markdown",
   "id": "1498f3d0",
   "metadata": {},
   "source": [
    "#### Numpy\n",
    "\n",
    "`Numpy` - Numerical Python"
   ]
  },
  {
   "cell_type": "code",
   "execution_count": 2,
   "id": "1fd2cf85",
   "metadata": {},
   "outputs": [],
   "source": [
    "import numpy as np"
   ]
  },
  {
   "cell_type": "code",
   "execution_count": 3,
   "id": "bfbe1818",
   "metadata": {},
   "outputs": [],
   "source": [
    "arr = np.array([2,3,4,5,6])"
   ]
  },
  {
   "cell_type": "code",
   "execution_count": 4,
   "id": "81e7edc6",
   "metadata": {},
   "outputs": [
    {
     "name": "stdout",
     "output_type": "stream",
     "text": [
      "[2 3 4 5 6]\n"
     ]
    }
   ],
   "source": [
    "print(arr)"
   ]
  },
  {
   "cell_type": "code",
   "execution_count": 5,
   "id": "b9ef05b7",
   "metadata": {},
   "outputs": [
    {
     "data": {
      "text/plain": [
       "1"
      ]
     },
     "execution_count": 5,
     "metadata": {},
     "output_type": "execute_result"
    }
   ],
   "source": [
    "arr.ndim"
   ]
  },
  {
   "cell_type": "code",
   "execution_count": 6,
   "id": "1b7c0d66",
   "metadata": {},
   "outputs": [],
   "source": [
    "arr2 = np.array([\n",
    "    [3,4,5,6],\n",
    "    [4,5,6,7]\n",
    "])"
   ]
  },
  {
   "cell_type": "code",
   "execution_count": 7,
   "id": "423b5696",
   "metadata": {},
   "outputs": [
    {
     "data": {
      "text/plain": [
       "array([[3, 4, 5, 6],\n",
       "       [4, 5, 6, 7]])"
      ]
     },
     "execution_count": 7,
     "metadata": {},
     "output_type": "execute_result"
    }
   ],
   "source": [
    "arr2"
   ]
  },
  {
   "cell_type": "code",
   "execution_count": 8,
   "id": "d0e02511",
   "metadata": {},
   "outputs": [
    {
     "data": {
      "text/plain": [
       "2"
      ]
     },
     "execution_count": 8,
     "metadata": {},
     "output_type": "execute_result"
    }
   ],
   "source": [
    "arr2.ndim"
   ]
  },
  {
   "cell_type": "code",
   "execution_count": 10,
   "id": "02d011e8",
   "metadata": {},
   "outputs": [
    {
     "data": {
      "text/plain": [
       "(2, 4)"
      ]
     },
     "execution_count": 10,
     "metadata": {},
     "output_type": "execute_result"
    }
   ],
   "source": [
    "arr2.shape"
   ]
  },
  {
   "cell_type": "code",
   "execution_count": 17,
   "id": "33f5dfc0",
   "metadata": {},
   "outputs": [],
   "source": [
    "arr1 = np.array((2,3,4,5))"
   ]
  },
  {
   "cell_type": "code",
   "execution_count": 18,
   "id": "68a6d1e9",
   "metadata": {},
   "outputs": [
    {
     "data": {
      "text/plain": [
       "array([2, 3, 4, 5])"
      ]
     },
     "execution_count": 18,
     "metadata": {},
     "output_type": "execute_result"
    }
   ],
   "source": [
    "arr1"
   ]
  },
  {
   "cell_type": "code",
   "execution_count": 19,
   "id": "75cbc9f7",
   "metadata": {},
   "outputs": [
    {
     "data": {
      "text/plain": [
       "numpy.ndarray"
      ]
     },
     "execution_count": 19,
     "metadata": {},
     "output_type": "execute_result"
    }
   ],
   "source": [
    "type(arr1)"
   ]
  },
  {
   "cell_type": "code",
   "execution_count": 21,
   "id": "1e9f924b",
   "metadata": {},
   "outputs": [],
   "source": [
    "arr_ = np.array([\n",
    "    [3,4,5],\n",
    "    [3,1,2],\n",
    "    [1,3,5]\n",
    "])"
   ]
  },
  {
   "cell_type": "code",
   "execution_count": 22,
   "id": "89f75863",
   "metadata": {},
   "outputs": [
    {
     "data": {
      "text/plain": [
       "(3, 3)"
      ]
     },
     "execution_count": 22,
     "metadata": {},
     "output_type": "execute_result"
    }
   ],
   "source": [
    "arr_.shape"
   ]
  },
  {
   "cell_type": "code",
   "execution_count": 23,
   "id": "683c4160",
   "metadata": {},
   "outputs": [],
   "source": [
    "names_array = np.array(['Toluwani', 'Elizabeth', 'Gift'])"
   ]
  },
  {
   "cell_type": "code",
   "execution_count": 24,
   "id": "3c7148d3",
   "metadata": {},
   "outputs": [
    {
     "data": {
      "text/plain": [
       "array(['Toluwani', 'Elizabeth', 'Gift'], dtype='<U9')"
      ]
     },
     "execution_count": 24,
     "metadata": {},
     "output_type": "execute_result"
    }
   ],
   "source": [
    "names_array"
   ]
  },
  {
   "cell_type": "code",
   "execution_count": 25,
   "id": "7d14da7f",
   "metadata": {},
   "outputs": [
    {
     "data": {
      "text/plain": [
       "dtype('int32')"
      ]
     },
     "execution_count": 25,
     "metadata": {},
     "output_type": "execute_result"
    }
   ],
   "source": [
    "arr_.dtype"
   ]
  },
  {
   "cell_type": "code",
   "execution_count": 26,
   "id": "b4d15c60",
   "metadata": {},
   "outputs": [
    {
     "data": {
      "text/plain": [
       "dtype('<U9')"
      ]
     },
     "execution_count": 26,
     "metadata": {},
     "output_type": "execute_result"
    }
   ],
   "source": [
    "names_array.dtype"
   ]
  },
  {
   "cell_type": "code",
   "execution_count": 27,
   "id": "87e2fd25",
   "metadata": {},
   "outputs": [
    {
     "data": {
      "text/plain": [
       "array([2, 3, 4, 5, 6])"
      ]
     },
     "execution_count": 27,
     "metadata": {},
     "output_type": "execute_result"
    }
   ],
   "source": [
    "arr"
   ]
  },
  {
   "cell_type": "code",
   "execution_count": 28,
   "id": "b88d6978",
   "metadata": {},
   "outputs": [
    {
     "data": {
      "text/plain": [
       "dtype('int32')"
      ]
     },
     "execution_count": 28,
     "metadata": {},
     "output_type": "execute_result"
    }
   ],
   "source": [
    "arr.dtype"
   ]
  },
  {
   "cell_type": "code",
   "execution_count": 32,
   "id": "14c4c585",
   "metadata": {},
   "outputs": [],
   "source": [
    "arr = arr.astype('str')"
   ]
  },
  {
   "cell_type": "code",
   "execution_count": 33,
   "id": "e51c4b2e",
   "metadata": {},
   "outputs": [
    {
     "data": {
      "text/plain": [
       "array(['2', '3', '4', '5', '6'], dtype='<U11')"
      ]
     },
     "execution_count": 33,
     "metadata": {},
     "output_type": "execute_result"
    }
   ],
   "source": [
    "arr"
   ]
  },
  {
   "cell_type": "code",
   "execution_count": 34,
   "id": "d5abc908",
   "metadata": {},
   "outputs": [],
   "source": [
    "arr3 = np.array([\n",
    "    [[1,2,3,4],\n",
    "        [1,2,4,5]],\n",
    "    \n",
    "    [[2,1,3,4],\n",
    "        [2,3,4,5]]\n",
    "])"
   ]
  },
  {
   "cell_type": "code",
   "execution_count": 35,
   "id": "7ea894af",
   "metadata": {},
   "outputs": [
    {
     "data": {
      "text/plain": [
       "3"
      ]
     },
     "execution_count": 35,
     "metadata": {},
     "output_type": "execute_result"
    }
   ],
   "source": [
    "arr3.ndim"
   ]
  },
  {
   "cell_type": "code",
   "execution_count": 36,
   "id": "827cab73",
   "metadata": {},
   "outputs": [
    {
     "data": {
      "text/plain": [
       "(2, 2, 4)"
      ]
     },
     "execution_count": 36,
     "metadata": {},
     "output_type": "execute_result"
    }
   ],
   "source": [
    "arr3.shape"
   ]
  },
  {
   "cell_type": "markdown",
   "id": "6c331129",
   "metadata": {},
   "source": [
    "#### Indexing and Slicing an array"
   ]
  },
  {
   "cell_type": "code",
   "execution_count": 37,
   "id": "05b85276",
   "metadata": {},
   "outputs": [
    {
     "data": {
      "text/plain": [
       "array(['2', '3', '4', '5', '6'], dtype='<U11')"
      ]
     },
     "execution_count": 37,
     "metadata": {},
     "output_type": "execute_result"
    }
   ],
   "source": [
    "arr"
   ]
  },
  {
   "cell_type": "code",
   "execution_count": 38,
   "id": "4fd562a6",
   "metadata": {},
   "outputs": [],
   "source": [
    "arr = arr.astype('int32')"
   ]
  },
  {
   "cell_type": "code",
   "execution_count": 39,
   "id": "ab968984",
   "metadata": {},
   "outputs": [
    {
     "data": {
      "text/plain": [
       "array([2, 3, 4, 5, 6])"
      ]
     },
     "execution_count": 39,
     "metadata": {},
     "output_type": "execute_result"
    }
   ],
   "source": [
    "arr"
   ]
  },
  {
   "cell_type": "code",
   "execution_count": 40,
   "id": "458bd160",
   "metadata": {},
   "outputs": [
    {
     "data": {
      "text/plain": [
       "dtype('int32')"
      ]
     },
     "execution_count": 40,
     "metadata": {},
     "output_type": "execute_result"
    }
   ],
   "source": [
    "arr.dtype"
   ]
  },
  {
   "cell_type": "code",
   "execution_count": 41,
   "id": "9d4e1715",
   "metadata": {},
   "outputs": [
    {
     "data": {
      "text/plain": [
       "1"
      ]
     },
     "execution_count": 41,
     "metadata": {},
     "output_type": "execute_result"
    }
   ],
   "source": [
    "arr.ndim"
   ]
  },
  {
   "cell_type": "code",
   "execution_count": 42,
   "id": "6292055e",
   "metadata": {},
   "outputs": [
    {
     "data": {
      "text/plain": [
       "array([2, 3, 4, 5, 6])"
      ]
     },
     "execution_count": 42,
     "metadata": {},
     "output_type": "execute_result"
    }
   ],
   "source": [
    "arr"
   ]
  },
  {
   "cell_type": "code",
   "execution_count": 43,
   "id": "ce013d0b",
   "metadata": {},
   "outputs": [
    {
     "data": {
      "text/plain": [
       "2"
      ]
     },
     "execution_count": 43,
     "metadata": {},
     "output_type": "execute_result"
    }
   ],
   "source": [
    "arr[0]"
   ]
  },
  {
   "cell_type": "code",
   "execution_count": 44,
   "id": "5740abf2",
   "metadata": {},
   "outputs": [
    {
     "data": {
      "text/plain": [
       "6"
      ]
     },
     "execution_count": 44,
     "metadata": {},
     "output_type": "execute_result"
    }
   ],
   "source": [
    "arr[-1]"
   ]
  },
  {
   "cell_type": "code",
   "execution_count": 45,
   "id": "4ceb88ee",
   "metadata": {},
   "outputs": [
    {
     "data": {
      "text/plain": [
       "5"
      ]
     },
     "execution_count": 45,
     "metadata": {},
     "output_type": "execute_result"
    }
   ],
   "source": [
    "arr[-2]"
   ]
  },
  {
   "cell_type": "code",
   "execution_count": 46,
   "id": "303e6dfd",
   "metadata": {},
   "outputs": [
    {
     "data": {
      "text/plain": [
       "5"
      ]
     },
     "execution_count": 46,
     "metadata": {},
     "output_type": "execute_result"
    }
   ],
   "source": [
    "arr[3]"
   ]
  },
  {
   "cell_type": "code",
   "execution_count": 47,
   "id": "f945067c",
   "metadata": {},
   "outputs": [
    {
     "data": {
      "text/plain": [
       "array([2, 3, 4])"
      ]
     },
     "execution_count": 47,
     "metadata": {},
     "output_type": "execute_result"
    }
   ],
   "source": [
    "arr[0:3]"
   ]
  },
  {
   "cell_type": "code",
   "execution_count": 48,
   "id": "ded90af2",
   "metadata": {},
   "outputs": [
    {
     "data": {
      "text/plain": [
       "array([2, 3, 4])"
      ]
     },
     "execution_count": 48,
     "metadata": {},
     "output_type": "execute_result"
    }
   ],
   "source": [
    "arr[:3]"
   ]
  },
  {
   "cell_type": "markdown",
   "id": "0f508689",
   "metadata": {},
   "source": [
    "##### 2dim array"
   ]
  },
  {
   "cell_type": "code",
   "execution_count": 49,
   "id": "dc37c20e",
   "metadata": {},
   "outputs": [
    {
     "data": {
      "text/plain": [
       "array([[3, 4, 5, 6],\n",
       "       [4, 5, 6, 7]])"
      ]
     },
     "execution_count": 49,
     "metadata": {},
     "output_type": "execute_result"
    }
   ],
   "source": [
    "arr2"
   ]
  },
  {
   "cell_type": "code",
   "execution_count": 50,
   "id": "5b79e4fe",
   "metadata": {},
   "outputs": [
    {
     "data": {
      "text/plain": [
       "3"
      ]
     },
     "execution_count": 50,
     "metadata": {},
     "output_type": "execute_result"
    }
   ],
   "source": [
    "arr2[0,0]"
   ]
  },
  {
   "cell_type": "code",
   "execution_count": 51,
   "id": "733d8494",
   "metadata": {},
   "outputs": [
    {
     "data": {
      "text/plain": [
       "6"
      ]
     },
     "execution_count": 51,
     "metadata": {},
     "output_type": "execute_result"
    }
   ],
   "source": [
    "arr2[1,2]"
   ]
  },
  {
   "cell_type": "code",
   "execution_count": 52,
   "id": "c695ede1",
   "metadata": {},
   "outputs": [
    {
     "data": {
      "text/plain": [
       "array([3, 4, 5, 6])"
      ]
     },
     "execution_count": 52,
     "metadata": {},
     "output_type": "execute_result"
    }
   ],
   "source": [
    "arr2[0,:]"
   ]
  },
  {
   "cell_type": "code",
   "execution_count": 53,
   "id": "b40f6f06",
   "metadata": {},
   "outputs": [
    {
     "data": {
      "text/plain": [
       "array([[5, 6],\n",
       "       [6, 7]])"
      ]
     },
     "execution_count": 53,
     "metadata": {},
     "output_type": "execute_result"
    }
   ],
   "source": [
    "arr2[0:2,2:]"
   ]
  },
  {
   "cell_type": "code",
   "execution_count": 57,
   "id": "30664798",
   "metadata": {},
   "outputs": [
    {
     "data": {
      "text/plain": [
       "array([[4],\n",
       "       [5]])"
      ]
     },
     "execution_count": 57,
     "metadata": {},
     "output_type": "execute_result"
    }
   ],
   "source": [
    "arr2[0:2,1:2]"
   ]
  },
  {
   "cell_type": "markdown",
   "id": "c084bc5d",
   "metadata": {},
   "source": [
    "#### Array Reshaping"
   ]
  },
  {
   "cell_type": "code",
   "execution_count": 58,
   "id": "48263880",
   "metadata": {},
   "outputs": [],
   "source": [
    "scores = np.array([30,40,20,10,20,43,40,50])"
   ]
  },
  {
   "cell_type": "code",
   "execution_count": 59,
   "id": "9d385624",
   "metadata": {},
   "outputs": [
    {
     "data": {
      "text/plain": [
       "(8,)"
      ]
     },
     "execution_count": 59,
     "metadata": {},
     "output_type": "execute_result"
    }
   ],
   "source": [
    "scores.shape"
   ]
  },
  {
   "cell_type": "code",
   "execution_count": 60,
   "id": "76083617",
   "metadata": {},
   "outputs": [],
   "source": [
    "scores = scores.reshape(4,2)"
   ]
  },
  {
   "cell_type": "code",
   "execution_count": 61,
   "id": "784a91dd",
   "metadata": {},
   "outputs": [
    {
     "data": {
      "text/plain": [
       "array([[30, 40],\n",
       "       [20, 10],\n",
       "       [20, 43],\n",
       "       [40, 50]])"
      ]
     },
     "execution_count": 61,
     "metadata": {},
     "output_type": "execute_result"
    }
   ],
   "source": [
    "scores"
   ]
  },
  {
   "cell_type": "code",
   "execution_count": 62,
   "id": "e9f82022",
   "metadata": {},
   "outputs": [
    {
     "data": {
      "text/plain": [
       "(4, 2)"
      ]
     },
     "execution_count": 62,
     "metadata": {},
     "output_type": "execute_result"
    }
   ],
   "source": [
    "scores.shape"
   ]
  },
  {
   "cell_type": "markdown",
   "id": "ac285490",
   "metadata": {},
   "source": [
    "##### Array flattening"
   ]
  },
  {
   "cell_type": "code",
   "execution_count": 63,
   "id": "926e63ad",
   "metadata": {},
   "outputs": [
    {
     "data": {
      "text/plain": [
       "array([[30, 40],\n",
       "       [20, 10],\n",
       "       [20, 43],\n",
       "       [40, 50]])"
      ]
     },
     "execution_count": 63,
     "metadata": {},
     "output_type": "execute_result"
    }
   ],
   "source": [
    "scores"
   ]
  },
  {
   "cell_type": "code",
   "execution_count": 65,
   "id": "6192d1ce",
   "metadata": {},
   "outputs": [],
   "source": [
    "scores = scores.reshape(-1)"
   ]
  },
  {
   "cell_type": "code",
   "execution_count": 66,
   "id": "195eb655",
   "metadata": {},
   "outputs": [
    {
     "data": {
      "text/plain": [
       "array([30, 40, 20, 10, 20, 43, 40, 50])"
      ]
     },
     "execution_count": 66,
     "metadata": {},
     "output_type": "execute_result"
    }
   ],
   "source": [
    "scores"
   ]
  },
  {
   "cell_type": "code",
   "execution_count": 67,
   "id": "0d10b788",
   "metadata": {},
   "outputs": [
    {
     "data": {
      "text/plain": [
       "array([[[1, 2, 3, 4],\n",
       "        [1, 2, 4, 5]],\n",
       "\n",
       "       [[2, 1, 3, 4],\n",
       "        [2, 3, 4, 5]]])"
      ]
     },
     "execution_count": 67,
     "metadata": {},
     "output_type": "execute_result"
    }
   ],
   "source": [
    "arr3"
   ]
  },
  {
   "cell_type": "code",
   "execution_count": 68,
   "id": "fbd74a58",
   "metadata": {},
   "outputs": [],
   "source": [
    "arr3 = arr3.reshape(-1)"
   ]
  },
  {
   "cell_type": "code",
   "execution_count": 69,
   "id": "b1e9d476",
   "metadata": {},
   "outputs": [
    {
     "data": {
      "text/plain": [
       "array([1, 2, 3, 4, 1, 2, 4, 5, 2, 1, 3, 4, 2, 3, 4, 5])"
      ]
     },
     "execution_count": 69,
     "metadata": {},
     "output_type": "execute_result"
    }
   ],
   "source": [
    "arr3"
   ]
  },
  {
   "cell_type": "markdown",
   "id": "87821f67",
   "metadata": {},
   "source": [
    "#### Stats functions in numpy arrays"
   ]
  },
  {
   "cell_type": "code",
   "execution_count": 70,
   "id": "7f9f27ec",
   "metadata": {},
   "outputs": [
    {
     "data": {
      "text/plain": [
       "array([2, 3, 4, 5, 6])"
      ]
     },
     "execution_count": 70,
     "metadata": {},
     "output_type": "execute_result"
    }
   ],
   "source": [
    "arr"
   ]
  },
  {
   "cell_type": "code",
   "execution_count": 71,
   "id": "e8986d42",
   "metadata": {},
   "outputs": [
    {
     "data": {
      "text/plain": [
       "4.0"
      ]
     },
     "execution_count": 71,
     "metadata": {},
     "output_type": "execute_result"
    }
   ],
   "source": [
    "arr.mean()"
   ]
  },
  {
   "cell_type": "code",
   "execution_count": 72,
   "id": "9bfe5391",
   "metadata": {},
   "outputs": [
    {
     "data": {
      "text/plain": [
       "4.0"
      ]
     },
     "execution_count": 72,
     "metadata": {},
     "output_type": "execute_result"
    }
   ],
   "source": [
    "np.mean(arr)"
   ]
  },
  {
   "cell_type": "code",
   "execution_count": 73,
   "id": "93e84fc1",
   "metadata": {},
   "outputs": [
    {
     "data": {
      "text/plain": [
       "4.0"
      ]
     },
     "execution_count": 73,
     "metadata": {},
     "output_type": "execute_result"
    }
   ],
   "source": [
    "np.median(arr)"
   ]
  },
  {
   "cell_type": "code",
   "execution_count": 74,
   "id": "26e34baf",
   "metadata": {},
   "outputs": [
    {
     "data": {
      "text/plain": [
       "1.4142135623730951"
      ]
     },
     "execution_count": 74,
     "metadata": {},
     "output_type": "execute_result"
    }
   ],
   "source": [
    "np.std(arr)"
   ]
  },
  {
   "cell_type": "code",
   "execution_count": 75,
   "id": "ddb73983",
   "metadata": {},
   "outputs": [
    {
     "data": {
      "text/plain": [
       "2.0"
      ]
     },
     "execution_count": 75,
     "metadata": {},
     "output_type": "execute_result"
    }
   ],
   "source": [
    "np.var(arr)"
   ]
  },
  {
   "cell_type": "code",
   "execution_count": null,
   "id": "3fa852f3",
   "metadata": {},
   "outputs": [],
   "source": []
  },
  {
   "cell_type": "markdown",
   "id": "59e97cd5",
   "metadata": {},
   "source": [
    "#### Pandas"
   ]
  },
  {
   "cell_type": "code",
   "execution_count": 77,
   "id": "5d001ac0",
   "metadata": {},
   "outputs": [
    {
     "name": "stderr",
     "output_type": "stream",
     "text": [
      "C:\\Users\\aaginam\\AppData\\Local\\anaconda3\\Lib\\site-packages\\pandas\\core\\arrays\\masked.py:60: UserWarning: Pandas requires version '1.3.6' or newer of 'bottleneck' (version '1.3.5' currently installed).\n",
      "  from pandas.core import (\n"
     ]
    }
   ],
   "source": [
    "import pandas as pd"
   ]
  },
  {
   "cell_type": "markdown",
   "id": "65c06bd8",
   "metadata": {},
   "source": [
    "####  Data Structures in Pandas\n",
    "- Series\n",
    " \n",
    "- DataFrame"
   ]
  },
  {
   "cell_type": "code",
   "execution_count": 78,
   "id": "5025610b",
   "metadata": {},
   "outputs": [],
   "source": [
    "# Series\n",
    "\n",
    "from pandas import Series"
   ]
  },
  {
   "cell_type": "code",
   "execution_count": 84,
   "id": "79ded1da",
   "metadata": {},
   "outputs": [],
   "source": [
    "name = Series(['Tolu', 'Lizzy', 'Gift', 'Temi'], index=['a', 'b', 'c', 'd'])"
   ]
  },
  {
   "cell_type": "code",
   "execution_count": 85,
   "id": "5a596b9f",
   "metadata": {},
   "outputs": [
    {
     "data": {
      "text/plain": [
       "a     Tolu\n",
       "b    Lizzy\n",
       "c     Gift\n",
       "d     Temi\n",
       "dtype: object"
      ]
     },
     "execution_count": 85,
     "metadata": {},
     "output_type": "execute_result"
    }
   ],
   "source": [
    "name"
   ]
  },
  {
   "cell_type": "code",
   "execution_count": 81,
   "id": "a7fd89d2",
   "metadata": {},
   "outputs": [
    {
     "data": {
      "text/plain": [
       "pandas.core.series.Series"
      ]
     },
     "execution_count": 81,
     "metadata": {},
     "output_type": "execute_result"
    }
   ],
   "source": [
    "type(name)"
   ]
  },
  {
   "cell_type": "code",
   "execution_count": 86,
   "id": "5c5a9a60",
   "metadata": {},
   "outputs": [
    {
     "data": {
      "text/plain": [
       "dtype('O')"
      ]
     },
     "execution_count": 86,
     "metadata": {},
     "output_type": "execute_result"
    }
   ],
   "source": [
    "name.dtype"
   ]
  },
  {
   "cell_type": "code",
   "execution_count": 87,
   "id": "3948abe0",
   "metadata": {},
   "outputs": [],
   "source": [
    "scores = Series([34, 20, 10, 67], index=['a', 'b', 'c', 'd'])"
   ]
  },
  {
   "cell_type": "code",
   "execution_count": 88,
   "id": "0660cc62",
   "metadata": {},
   "outputs": [
    {
     "data": {
      "text/plain": [
       "a    34\n",
       "b    20\n",
       "c    10\n",
       "d    67\n",
       "dtype: int64"
      ]
     },
     "execution_count": 88,
     "metadata": {},
     "output_type": "execute_result"
    }
   ],
   "source": [
    "scores"
   ]
  },
  {
   "cell_type": "code",
   "execution_count": 89,
   "id": "3d081061",
   "metadata": {},
   "outputs": [
    {
     "data": {
      "text/plain": [
       "67"
      ]
     },
     "execution_count": 89,
     "metadata": {},
     "output_type": "execute_result"
    }
   ],
   "source": [
    "scores['d']"
   ]
  },
  {
   "cell_type": "code",
   "execution_count": 91,
   "id": "7890c3e6",
   "metadata": {},
   "outputs": [],
   "source": [
    "from pandas import DataFrame"
   ]
  },
  {
   "cell_type": "code",
   "execution_count": 94,
   "id": "c68cf9d6",
   "metadata": {},
   "outputs": [],
   "source": [
    "df = DataFrame({'Name' : name, 'Score' : scores})"
   ]
  },
  {
   "cell_type": "code",
   "execution_count": 95,
   "id": "42c5c39f",
   "metadata": {},
   "outputs": [
    {
     "data": {
      "text/html": [
       "<div>\n",
       "<style scoped>\n",
       "    .dataframe tbody tr th:only-of-type {\n",
       "        vertical-align: middle;\n",
       "    }\n",
       "\n",
       "    .dataframe tbody tr th {\n",
       "        vertical-align: top;\n",
       "    }\n",
       "\n",
       "    .dataframe thead th {\n",
       "        text-align: right;\n",
       "    }\n",
       "</style>\n",
       "<table border=\"1\" class=\"dataframe\">\n",
       "  <thead>\n",
       "    <tr style=\"text-align: right;\">\n",
       "      <th></th>\n",
       "      <th>Name</th>\n",
       "      <th>Score</th>\n",
       "    </tr>\n",
       "  </thead>\n",
       "  <tbody>\n",
       "    <tr>\n",
       "      <th>a</th>\n",
       "      <td>Tolu</td>\n",
       "      <td>34</td>\n",
       "    </tr>\n",
       "    <tr>\n",
       "      <th>b</th>\n",
       "      <td>Lizzy</td>\n",
       "      <td>20</td>\n",
       "    </tr>\n",
       "    <tr>\n",
       "      <th>c</th>\n",
       "      <td>Gift</td>\n",
       "      <td>10</td>\n",
       "    </tr>\n",
       "    <tr>\n",
       "      <th>d</th>\n",
       "      <td>Temi</td>\n",
       "      <td>67</td>\n",
       "    </tr>\n",
       "  </tbody>\n",
       "</table>\n",
       "</div>"
      ],
      "text/plain": [
       "    Name  Score\n",
       "a   Tolu     34\n",
       "b  Lizzy     20\n",
       "c   Gift     10\n",
       "d   Temi     67"
      ]
     },
     "execution_count": 95,
     "metadata": {},
     "output_type": "execute_result"
    }
   ],
   "source": [
    "df"
   ]
  },
  {
   "cell_type": "markdown",
   "id": "c6baed31",
   "metadata": {},
   "source": [
    "#### Problem Statement\n",
    "\n",
    "We want to know how the lagos branch is performing and insights on her product lines and customer type.\n",
    "\n",
    "#### Problem Framing\n",
    "In order to analyze how the lagos branch sales and come up with insights, we need the following\n",
    "\n",
    "- `Sales dataset for last 6 months`\n",
    "\n",
    "- `contains sales information that would include: `\n",
    "    \n",
    "    - Sale price\n",
    "    \n",
    "    - Cost price \n",
    "    \n",
    " The steps to take:\n",
    " \n",
    " - `Explore the data to understand it`\n",
    " \n",
    " - `Prepare the data`\n",
    " \n",
    " - `Ask a couple of questions that would include \n",
    " \n",
    "    - "
   ]
  },
  {
   "cell_type": "code",
   "execution_count": 1,
   "id": "8402f606",
   "metadata": {},
   "outputs": [
    {
     "name": "stderr",
     "output_type": "stream",
     "text": [
      "C:\\Users\\aaginam\\AppData\\Local\\anaconda3\\Lib\\site-packages\\pandas\\core\\arrays\\masked.py:60: UserWarning: Pandas requires version '1.3.6' or newer of 'bottleneck' (version '1.3.5' currently installed).\n",
      "  from pandas.core import (\n"
     ]
    }
   ],
   "source": [
    "import numpy as np\n",
    "import pandas as pd\n",
    "import matplotlib.pyplot as plt\n",
    "import seaborn as sb\n",
    "\n",
    "%matplotlib inline"
   ]
  },
  {
   "cell_type": "code",
   "execution_count": 2,
   "id": "8e6a1e70",
   "metadata": {},
   "outputs": [],
   "source": [
    "data = pd.read_csv('Lagos_Branch_csv.csv', sep=',')"
   ]
  },
  {
   "cell_type": "code",
   "execution_count": 3,
   "id": "f1eca4b6",
   "metadata": {},
   "outputs": [
    {
     "data": {
      "text/html": [
       "<div>\n",
       "<style scoped>\n",
       "    .dataframe tbody tr th:only-of-type {\n",
       "        vertical-align: middle;\n",
       "    }\n",
       "\n",
       "    .dataframe tbody tr th {\n",
       "        vertical-align: top;\n",
       "    }\n",
       "\n",
       "    .dataframe thead th {\n",
       "        text-align: right;\n",
       "    }\n",
       "</style>\n",
       "<table border=\"1\" class=\"dataframe\">\n",
       "  <thead>\n",
       "    <tr style=\"text-align: right;\">\n",
       "      <th></th>\n",
       "      <th>Invoice ID</th>\n",
       "      <th>Branch</th>\n",
       "      <th>City</th>\n",
       "      <th>Customer type</th>\n",
       "      <th>Gender</th>\n",
       "      <th>Product line</th>\n",
       "      <th>Product line.1</th>\n",
       "      <th>Unit price</th>\n",
       "      <th>Quantity</th>\n",
       "      <th>Tax 5%</th>\n",
       "      <th>...</th>\n",
       "      <th>Rating</th>\n",
       "      <th>Unnamed: 18</th>\n",
       "      <th>Unnamed: 19</th>\n",
       "      <th>Unnamed: 20</th>\n",
       "      <th>Unnamed: 21</th>\n",
       "      <th>Unnamed: 22</th>\n",
       "      <th>Unnamed: 23</th>\n",
       "      <th>Unnamed: 24</th>\n",
       "      <th>Unnamed: 25</th>\n",
       "      <th>Unnamed: 26</th>\n",
       "    </tr>\n",
       "  </thead>\n",
       "  <tbody>\n",
       "    <tr>\n",
       "      <th>0</th>\n",
       "      <td>750-67-8428</td>\n",
       "      <td>A</td>\n",
       "      <td>Lag</td>\n",
       "      <td>Member</td>\n",
       "      <td>F</td>\n",
       "      <td>HEALTH and Beauty</td>\n",
       "      <td>HEALTH and Beauty-750-67-8428</td>\n",
       "      <td>N26,888.40</td>\n",
       "      <td>7.0</td>\n",
       "      <td>9410.94</td>\n",
       "      <td>...</td>\n",
       "      <td>9.1</td>\n",
       "      <td>NaN</td>\n",
       "      <td>NaN</td>\n",
       "      <td>NaN</td>\n",
       "      <td>NaN</td>\n",
       "      <td>NaN</td>\n",
       "      <td>NaN</td>\n",
       "      <td>NaN</td>\n",
       "      <td>NaN</td>\n",
       "      <td>NaN</td>\n",
       "    </tr>\n",
       "    <tr>\n",
       "      <th>1</th>\n",
       "      <td>631-41-3108</td>\n",
       "      <td>A</td>\n",
       "      <td>Lag</td>\n",
       "      <td>Normal</td>\n",
       "      <td>M</td>\n",
       "      <td>Home and lifestyle</td>\n",
       "      <td>Home and lifestyle-631-41-3108</td>\n",
       "      <td>N16,678.80</td>\n",
       "      <td>7.0</td>\n",
       "      <td>5837.58</td>\n",
       "      <td>...</td>\n",
       "      <td>7.4</td>\n",
       "      <td>NaN</td>\n",
       "      <td>NaN</td>\n",
       "      <td>NaN</td>\n",
       "      <td>NaN</td>\n",
       "      <td>NaN</td>\n",
       "      <td>NaN</td>\n",
       "      <td>NaN</td>\n",
       "      <td>NaN</td>\n",
       "      <td>NaN</td>\n",
       "    </tr>\n",
       "    <tr>\n",
       "      <th>2</th>\n",
       "      <td>123-19-1176</td>\n",
       "      <td>A</td>\n",
       "      <td>Lag</td>\n",
       "      <td>Member</td>\n",
       "      <td>M</td>\n",
       "      <td>HEALTH and Beauty</td>\n",
       "      <td>HEALTH and Beauty-123-19-1176</td>\n",
       "      <td>N20,959.20</td>\n",
       "      <td>8.0</td>\n",
       "      <td>8383.68</td>\n",
       "      <td>...</td>\n",
       "      <td>8.4</td>\n",
       "      <td>NaN</td>\n",
       "      <td>NaN</td>\n",
       "      <td>NaN</td>\n",
       "      <td>NaN</td>\n",
       "      <td>NaN</td>\n",
       "      <td>NaN</td>\n",
       "      <td>NaN</td>\n",
       "      <td>NaN</td>\n",
       "      <td>NaN</td>\n",
       "    </tr>\n",
       "    <tr>\n",
       "      <th>3</th>\n",
       "      <td>373-73-7910</td>\n",
       "      <td>A</td>\n",
       "      <td>Lag</td>\n",
       "      <td>Normal</td>\n",
       "      <td>M</td>\n",
       "      <td>Sports and travel</td>\n",
       "      <td>Sports and travel-373-73-7910</td>\n",
       "      <td>N31,071.60</td>\n",
       "      <td>7.0</td>\n",
       "      <td>10875.06</td>\n",
       "      <td>...</td>\n",
       "      <td>5.3</td>\n",
       "      <td>NaN</td>\n",
       "      <td>NaN</td>\n",
       "      <td>NaN</td>\n",
       "      <td>NaN</td>\n",
       "      <td>NaN</td>\n",
       "      <td>NaN</td>\n",
       "      <td>NaN</td>\n",
       "      <td>NaN</td>\n",
       "      <td>NaN</td>\n",
       "    </tr>\n",
       "    <tr>\n",
       "      <th>4</th>\n",
       "      <td>355-53-5943</td>\n",
       "      <td>A</td>\n",
       "      <td>Lag</td>\n",
       "      <td>Member</td>\n",
       "      <td>F</td>\n",
       "      <td>Electronic accessories</td>\n",
       "      <td>Electronic accessories-355-53-5943</td>\n",
       "      <td>N24,782.40</td>\n",
       "      <td>6.0</td>\n",
       "      <td>7434.72</td>\n",
       "      <td>...</td>\n",
       "      <td>5.8</td>\n",
       "      <td>NaN</td>\n",
       "      <td>NaN</td>\n",
       "      <td>NaN</td>\n",
       "      <td>NaN</td>\n",
       "      <td>NaN</td>\n",
       "      <td>NaN</td>\n",
       "      <td>NaN</td>\n",
       "      <td>NaN</td>\n",
       "      <td>NaN</td>\n",
       "    </tr>\n",
       "    <tr>\n",
       "      <th>...</th>\n",
       "      <td>...</td>\n",
       "      <td>...</td>\n",
       "      <td>...</td>\n",
       "      <td>...</td>\n",
       "      <td>...</td>\n",
       "      <td>...</td>\n",
       "      <td>...</td>\n",
       "      <td>...</td>\n",
       "      <td>...</td>\n",
       "      <td>...</td>\n",
       "      <td>...</td>\n",
       "      <td>...</td>\n",
       "      <td>...</td>\n",
       "      <td>...</td>\n",
       "      <td>...</td>\n",
       "      <td>...</td>\n",
       "      <td>...</td>\n",
       "      <td>...</td>\n",
       "      <td>...</td>\n",
       "      <td>...</td>\n",
       "      <td>...</td>\n",
       "    </tr>\n",
       "    <tr>\n",
       "      <th>994</th>\n",
       "      <td>NaN</td>\n",
       "      <td>NaN</td>\n",
       "      <td>NaN</td>\n",
       "      <td>NaN</td>\n",
       "      <td>NaN</td>\n",
       "      <td>NaN</td>\n",
       "      <td>NaN</td>\n",
       "      <td>NaN</td>\n",
       "      <td>NaN</td>\n",
       "      <td>NaN</td>\n",
       "      <td>...</td>\n",
       "      <td>NaN</td>\n",
       "      <td>NaN</td>\n",
       "      <td>NaN</td>\n",
       "      <td>NaN</td>\n",
       "      <td>NaN</td>\n",
       "      <td>NaN</td>\n",
       "      <td>NaN</td>\n",
       "      <td>NaN</td>\n",
       "      <td>NaN</td>\n",
       "      <td>NaN</td>\n",
       "    </tr>\n",
       "    <tr>\n",
       "      <th>995</th>\n",
       "      <td>NaN</td>\n",
       "      <td>NaN</td>\n",
       "      <td>NaN</td>\n",
       "      <td>NaN</td>\n",
       "      <td>NaN</td>\n",
       "      <td>NaN</td>\n",
       "      <td>NaN</td>\n",
       "      <td>NaN</td>\n",
       "      <td>NaN</td>\n",
       "      <td>NaN</td>\n",
       "      <td>...</td>\n",
       "      <td>NaN</td>\n",
       "      <td>NaN</td>\n",
       "      <td>NaN</td>\n",
       "      <td>NaN</td>\n",
       "      <td>NaN</td>\n",
       "      <td>NaN</td>\n",
       "      <td>NaN</td>\n",
       "      <td>NaN</td>\n",
       "      <td>NaN</td>\n",
       "      <td>NaN</td>\n",
       "    </tr>\n",
       "    <tr>\n",
       "      <th>996</th>\n",
       "      <td>NaN</td>\n",
       "      <td>NaN</td>\n",
       "      <td>NaN</td>\n",
       "      <td>NaN</td>\n",
       "      <td>NaN</td>\n",
       "      <td>NaN</td>\n",
       "      <td>NaN</td>\n",
       "      <td>NaN</td>\n",
       "      <td>NaN</td>\n",
       "      <td>NaN</td>\n",
       "      <td>...</td>\n",
       "      <td>NaN</td>\n",
       "      <td>NaN</td>\n",
       "      <td>NaN</td>\n",
       "      <td>NaN</td>\n",
       "      <td>NaN</td>\n",
       "      <td>NaN</td>\n",
       "      <td>NaN</td>\n",
       "      <td>NaN</td>\n",
       "      <td>NaN</td>\n",
       "      <td>NaN</td>\n",
       "    </tr>\n",
       "    <tr>\n",
       "      <th>997</th>\n",
       "      <td>NaN</td>\n",
       "      <td>NaN</td>\n",
       "      <td>NaN</td>\n",
       "      <td>NaN</td>\n",
       "      <td>NaN</td>\n",
       "      <td>NaN</td>\n",
       "      <td>NaN</td>\n",
       "      <td>NaN</td>\n",
       "      <td>NaN</td>\n",
       "      <td>NaN</td>\n",
       "      <td>...</td>\n",
       "      <td>NaN</td>\n",
       "      <td>NaN</td>\n",
       "      <td>NaN</td>\n",
       "      <td>NaN</td>\n",
       "      <td>NaN</td>\n",
       "      <td>NaN</td>\n",
       "      <td>NaN</td>\n",
       "      <td>NaN</td>\n",
       "      <td>NaN</td>\n",
       "      <td>NaN</td>\n",
       "    </tr>\n",
       "    <tr>\n",
       "      <th>998</th>\n",
       "      <td>NaN</td>\n",
       "      <td>NaN</td>\n",
       "      <td>NaN</td>\n",
       "      <td>NaN</td>\n",
       "      <td>NaN</td>\n",
       "      <td>NaN</td>\n",
       "      <td>NaN</td>\n",
       "      <td>NaN</td>\n",
       "      <td>NaN</td>\n",
       "      <td>NaN</td>\n",
       "      <td>...</td>\n",
       "      <td>NaN</td>\n",
       "      <td>NaN</td>\n",
       "      <td>NaN</td>\n",
       "      <td>NaN</td>\n",
       "      <td>NaN</td>\n",
       "      <td>NaN</td>\n",
       "      <td>NaN</td>\n",
       "      <td>NaN</td>\n",
       "      <td>NaN</td>\n",
       "      <td>NaN</td>\n",
       "    </tr>\n",
       "  </tbody>\n",
       "</table>\n",
       "<p>999 rows × 27 columns</p>\n",
       "</div>"
      ],
      "text/plain": [
       "      Invoice ID Branch City Customer type Gender            Product line  \\\n",
       "0    750-67-8428      A  Lag        Member      F       HEALTH and Beauty   \n",
       "1    631-41-3108      A  Lag        Normal      M      Home and lifestyle   \n",
       "2    123-19-1176      A  Lag        Member      M       HEALTH and Beauty   \n",
       "3    373-73-7910      A  Lag        Normal      M       Sports and travel   \n",
       "4    355-53-5943      A  Lag        Member      F  Electronic accessories   \n",
       "..           ...    ...  ...           ...    ...                     ...   \n",
       "994          NaN    NaN  NaN           NaN    NaN                     NaN   \n",
       "995          NaN    NaN  NaN           NaN    NaN                     NaN   \n",
       "996          NaN    NaN  NaN           NaN    NaN                     NaN   \n",
       "997          NaN    NaN  NaN           NaN    NaN                     NaN   \n",
       "998          NaN    NaN  NaN           NaN    NaN                     NaN   \n",
       "\n",
       "                         Product line.1  Unit price  Quantity    Tax 5%  ...  \\\n",
       "0         HEALTH and Beauty-750-67-8428  N26,888.40       7.0   9410.94  ...   \n",
       "1        Home and lifestyle-631-41-3108  N16,678.80       7.0   5837.58  ...   \n",
       "2         HEALTH and Beauty-123-19-1176  N20,959.20       8.0   8383.68  ...   \n",
       "3         Sports and travel-373-73-7910  N31,071.60       7.0  10875.06  ...   \n",
       "4    Electronic accessories-355-53-5943  N24,782.40       6.0   7434.72  ...   \n",
       "..                                  ...         ...       ...       ...  ...   \n",
       "994                                 NaN         NaN       NaN       NaN  ...   \n",
       "995                                 NaN         NaN       NaN       NaN  ...   \n",
       "996                                 NaN         NaN       NaN       NaN  ...   \n",
       "997                                 NaN         NaN       NaN       NaN  ...   \n",
       "998                                 NaN         NaN       NaN       NaN  ...   \n",
       "\n",
       "     Rating Unnamed: 18 Unnamed: 19 Unnamed: 20  Unnamed: 21  Unnamed: 22  \\\n",
       "0       9.1         NaN         NaN         NaN          NaN          NaN   \n",
       "1       7.4         NaN         NaN         NaN          NaN          NaN   \n",
       "2       8.4         NaN         NaN         NaN          NaN          NaN   \n",
       "3       5.3         NaN         NaN         NaN          NaN          NaN   \n",
       "4       5.8         NaN         NaN         NaN          NaN          NaN   \n",
       "..      ...         ...         ...         ...          ...          ...   \n",
       "994     NaN         NaN         NaN         NaN          NaN          NaN   \n",
       "995     NaN         NaN         NaN         NaN          NaN          NaN   \n",
       "996     NaN         NaN         NaN         NaN          NaN          NaN   \n",
       "997     NaN         NaN         NaN         NaN          NaN          NaN   \n",
       "998     NaN         NaN         NaN         NaN          NaN          NaN   \n",
       "\n",
       "    Unnamed: 23  Unnamed: 24  Unnamed: 25  Unnamed: 26  \n",
       "0           NaN          NaN          NaN          NaN  \n",
       "1           NaN          NaN          NaN          NaN  \n",
       "2           NaN          NaN          NaN          NaN  \n",
       "3           NaN          NaN          NaN          NaN  \n",
       "4           NaN          NaN          NaN          NaN  \n",
       "..          ...          ...          ...          ...  \n",
       "994         NaN          NaN          NaN          NaN  \n",
       "995         NaN          NaN          NaN          NaN  \n",
       "996         NaN          NaN          NaN          NaN  \n",
       "997         NaN          NaN          NaN          NaN  \n",
       "998         NaN          NaN          NaN          NaN  \n",
       "\n",
       "[999 rows x 27 columns]"
      ]
     },
     "execution_count": 3,
     "metadata": {},
     "output_type": "execute_result"
    }
   ],
   "source": [
    "data"
   ]
  },
  {
   "cell_type": "code",
   "execution_count": 4,
   "id": "4734bbd8",
   "metadata": {},
   "outputs": [
    {
     "data": {
      "text/plain": [
       "pandas.core.frame.DataFrame"
      ]
     },
     "execution_count": 4,
     "metadata": {},
     "output_type": "execute_result"
    }
   ],
   "source": [
    "type(data)"
   ]
  },
  {
   "cell_type": "code",
   "execution_count": 5,
   "id": "ef7ea0a6",
   "metadata": {},
   "outputs": [
    {
     "data": {
      "text/html": [
       "<div>\n",
       "<style scoped>\n",
       "    .dataframe tbody tr th:only-of-type {\n",
       "        vertical-align: middle;\n",
       "    }\n",
       "\n",
       "    .dataframe tbody tr th {\n",
       "        vertical-align: top;\n",
       "    }\n",
       "\n",
       "    .dataframe thead th {\n",
       "        text-align: right;\n",
       "    }\n",
       "</style>\n",
       "<table border=\"1\" class=\"dataframe\">\n",
       "  <thead>\n",
       "    <tr style=\"text-align: right;\">\n",
       "      <th></th>\n",
       "      <th>Invoice ID</th>\n",
       "      <th>Branch</th>\n",
       "      <th>City</th>\n",
       "      <th>Customer type</th>\n",
       "      <th>Gender</th>\n",
       "      <th>Product line</th>\n",
       "      <th>Product line.1</th>\n",
       "      <th>Unit price</th>\n",
       "      <th>Quantity</th>\n",
       "      <th>Tax 5%</th>\n",
       "      <th>...</th>\n",
       "      <th>Rating</th>\n",
       "      <th>Unnamed: 18</th>\n",
       "      <th>Unnamed: 19</th>\n",
       "      <th>Unnamed: 20</th>\n",
       "      <th>Unnamed: 21</th>\n",
       "      <th>Unnamed: 22</th>\n",
       "      <th>Unnamed: 23</th>\n",
       "      <th>Unnamed: 24</th>\n",
       "      <th>Unnamed: 25</th>\n",
       "      <th>Unnamed: 26</th>\n",
       "    </tr>\n",
       "  </thead>\n",
       "  <tbody>\n",
       "    <tr>\n",
       "      <th>0</th>\n",
       "      <td>750-67-8428</td>\n",
       "      <td>A</td>\n",
       "      <td>Lag</td>\n",
       "      <td>Member</td>\n",
       "      <td>F</td>\n",
       "      <td>HEALTH and Beauty</td>\n",
       "      <td>HEALTH and Beauty-750-67-8428</td>\n",
       "      <td>N26,888.40</td>\n",
       "      <td>7.0</td>\n",
       "      <td>9410.94</td>\n",
       "      <td>...</td>\n",
       "      <td>9.1</td>\n",
       "      <td>NaN</td>\n",
       "      <td>NaN</td>\n",
       "      <td>NaN</td>\n",
       "      <td>NaN</td>\n",
       "      <td>NaN</td>\n",
       "      <td>NaN</td>\n",
       "      <td>NaN</td>\n",
       "      <td>NaN</td>\n",
       "      <td>NaN</td>\n",
       "    </tr>\n",
       "    <tr>\n",
       "      <th>1</th>\n",
       "      <td>631-41-3108</td>\n",
       "      <td>A</td>\n",
       "      <td>Lag</td>\n",
       "      <td>Normal</td>\n",
       "      <td>M</td>\n",
       "      <td>Home and lifestyle</td>\n",
       "      <td>Home and lifestyle-631-41-3108</td>\n",
       "      <td>N16,678.80</td>\n",
       "      <td>7.0</td>\n",
       "      <td>5837.58</td>\n",
       "      <td>...</td>\n",
       "      <td>7.4</td>\n",
       "      <td>NaN</td>\n",
       "      <td>NaN</td>\n",
       "      <td>NaN</td>\n",
       "      <td>NaN</td>\n",
       "      <td>NaN</td>\n",
       "      <td>NaN</td>\n",
       "      <td>NaN</td>\n",
       "      <td>NaN</td>\n",
       "      <td>NaN</td>\n",
       "    </tr>\n",
       "    <tr>\n",
       "      <th>2</th>\n",
       "      <td>123-19-1176</td>\n",
       "      <td>A</td>\n",
       "      <td>Lag</td>\n",
       "      <td>Member</td>\n",
       "      <td>M</td>\n",
       "      <td>HEALTH and Beauty</td>\n",
       "      <td>HEALTH and Beauty-123-19-1176</td>\n",
       "      <td>N20,959.20</td>\n",
       "      <td>8.0</td>\n",
       "      <td>8383.68</td>\n",
       "      <td>...</td>\n",
       "      <td>8.4</td>\n",
       "      <td>NaN</td>\n",
       "      <td>NaN</td>\n",
       "      <td>NaN</td>\n",
       "      <td>NaN</td>\n",
       "      <td>NaN</td>\n",
       "      <td>NaN</td>\n",
       "      <td>NaN</td>\n",
       "      <td>NaN</td>\n",
       "      <td>NaN</td>\n",
       "    </tr>\n",
       "    <tr>\n",
       "      <th>3</th>\n",
       "      <td>373-73-7910</td>\n",
       "      <td>A</td>\n",
       "      <td>Lag</td>\n",
       "      <td>Normal</td>\n",
       "      <td>M</td>\n",
       "      <td>Sports and travel</td>\n",
       "      <td>Sports and travel-373-73-7910</td>\n",
       "      <td>N31,071.60</td>\n",
       "      <td>7.0</td>\n",
       "      <td>10875.06</td>\n",
       "      <td>...</td>\n",
       "      <td>5.3</td>\n",
       "      <td>NaN</td>\n",
       "      <td>NaN</td>\n",
       "      <td>NaN</td>\n",
       "      <td>NaN</td>\n",
       "      <td>NaN</td>\n",
       "      <td>NaN</td>\n",
       "      <td>NaN</td>\n",
       "      <td>NaN</td>\n",
       "      <td>NaN</td>\n",
       "    </tr>\n",
       "    <tr>\n",
       "      <th>4</th>\n",
       "      <td>355-53-5943</td>\n",
       "      <td>A</td>\n",
       "      <td>Lag</td>\n",
       "      <td>Member</td>\n",
       "      <td>F</td>\n",
       "      <td>Electronic accessories</td>\n",
       "      <td>Electronic accessories-355-53-5943</td>\n",
       "      <td>N24,782.40</td>\n",
       "      <td>6.0</td>\n",
       "      <td>7434.72</td>\n",
       "      <td>...</td>\n",
       "      <td>5.8</td>\n",
       "      <td>NaN</td>\n",
       "      <td>NaN</td>\n",
       "      <td>NaN</td>\n",
       "      <td>NaN</td>\n",
       "      <td>NaN</td>\n",
       "      <td>NaN</td>\n",
       "      <td>NaN</td>\n",
       "      <td>NaN</td>\n",
       "      <td>NaN</td>\n",
       "    </tr>\n",
       "    <tr>\n",
       "      <th>5</th>\n",
       "      <td>665-32-9167</td>\n",
       "      <td>A</td>\n",
       "      <td>Lagos</td>\n",
       "      <td>Member</td>\n",
       "      <td>F</td>\n",
       "      <td>HEALTH and Beauty</td>\n",
       "      <td>HEALTH and Beauty-665-32-9167</td>\n",
       "      <td>N13,053.60</td>\n",
       "      <td>2.0</td>\n",
       "      <td>1305.36</td>\n",
       "      <td>...</td>\n",
       "      <td>7.2</td>\n",
       "      <td>NaN</td>\n",
       "      <td>NaN</td>\n",
       "      <td>NaN</td>\n",
       "      <td>NaN</td>\n",
       "      <td>NaN</td>\n",
       "      <td>NaN</td>\n",
       "      <td>NaN</td>\n",
       "      <td>NaN</td>\n",
       "      <td>NaN</td>\n",
       "    </tr>\n",
       "    <tr>\n",
       "      <th>6</th>\n",
       "      <td>365-64-0515</td>\n",
       "      <td>A</td>\n",
       "      <td>Lag</td>\n",
       "      <td>Normal</td>\n",
       "      <td>F</td>\n",
       "      <td>Electronic accessories</td>\n",
       "      <td>Electronic accessories-365-64-0515</td>\n",
       "      <td>N16,902.00</td>\n",
       "      <td>5.0</td>\n",
       "      <td>4225.50</td>\n",
       "      <td>...</td>\n",
       "      <td>7.1</td>\n",
       "      <td>NaN</td>\n",
       "      <td>NaN</td>\n",
       "      <td>NaN</td>\n",
       "      <td>NaN</td>\n",
       "      <td>NaN</td>\n",
       "      <td>NaN</td>\n",
       "      <td>NaN</td>\n",
       "      <td>NaN</td>\n",
       "      <td>NaN</td>\n",
       "    </tr>\n",
       "    <tr>\n",
       "      <th>7</th>\n",
       "      <td>252-56-2699</td>\n",
       "      <td>A</td>\n",
       "      <td>Lag</td>\n",
       "      <td>Normal</td>\n",
       "      <td>M</td>\n",
       "      <td>Food and beverages</td>\n",
       "      <td>Food and beverages-252-56-2699</td>\n",
       "      <td>N15,548.40</td>\n",
       "      <td>10.0</td>\n",
       "      <td>7774.20</td>\n",
       "      <td>...</td>\n",
       "      <td>8.2</td>\n",
       "      <td>NaN</td>\n",
       "      <td>NaN</td>\n",
       "      <td>NaN</td>\n",
       "      <td>NaN</td>\n",
       "      <td>NaN</td>\n",
       "      <td>NaN</td>\n",
       "      <td>NaN</td>\n",
       "      <td>NaN</td>\n",
       "      <td>NaN</td>\n",
       "    </tr>\n",
       "    <tr>\n",
       "      <th>8</th>\n",
       "      <td>829-34-3910</td>\n",
       "      <td>A</td>\n",
       "      <td>Lagos</td>\n",
       "      <td>Normal</td>\n",
       "      <td>F</td>\n",
       "      <td>HEALTH and Beauty</td>\n",
       "      <td>HEALTH and Beauty-829-34-3910</td>\n",
       "      <td>N25,696.80</td>\n",
       "      <td>10.0</td>\n",
       "      <td>12848.40</td>\n",
       "      <td>...</td>\n",
       "      <td>5.7</td>\n",
       "      <td>NaN</td>\n",
       "      <td>NaN</td>\n",
       "      <td>NaN</td>\n",
       "      <td>NaN</td>\n",
       "      <td>NaN</td>\n",
       "      <td>NaN</td>\n",
       "      <td>NaN</td>\n",
       "      <td>NaN</td>\n",
       "      <td>NaN</td>\n",
       "    </tr>\n",
       "    <tr>\n",
       "      <th>9</th>\n",
       "      <td>656-95-9349</td>\n",
       "      <td>A</td>\n",
       "      <td>Lagos</td>\n",
       "      <td>Member</td>\n",
       "      <td>F</td>\n",
       "      <td>HEALTH and Beauty</td>\n",
       "      <td>HEALTH and Beauty-656-95-9349</td>\n",
       "      <td>N24,814.80</td>\n",
       "      <td>7.0</td>\n",
       "      <td>8685.18</td>\n",
       "      <td>...</td>\n",
       "      <td>4.6</td>\n",
       "      <td>NaN</td>\n",
       "      <td>NaN</td>\n",
       "      <td>NaN</td>\n",
       "      <td>NaN</td>\n",
       "      <td>NaN</td>\n",
       "      <td>NaN</td>\n",
       "      <td>NaN</td>\n",
       "      <td>NaN</td>\n",
       "      <td>NaN</td>\n",
       "    </tr>\n",
       "  </tbody>\n",
       "</table>\n",
       "<p>10 rows × 27 columns</p>\n",
       "</div>"
      ],
      "text/plain": [
       "    Invoice ID Branch   City Customer type Gender            Product line  \\\n",
       "0  750-67-8428      A    Lag        Member      F       HEALTH and Beauty   \n",
       "1  631-41-3108      A    Lag        Normal      M      Home and lifestyle   \n",
       "2  123-19-1176      A    Lag        Member      M       HEALTH and Beauty   \n",
       "3  373-73-7910      A    Lag        Normal      M       Sports and travel   \n",
       "4  355-53-5943      A    Lag        Member      F  Electronic accessories   \n",
       "5  665-32-9167      A  Lagos        Member      F       HEALTH and Beauty   \n",
       "6  365-64-0515      A    Lag        Normal      F  Electronic accessories   \n",
       "7  252-56-2699      A    Lag        Normal      M      Food and beverages   \n",
       "8  829-34-3910      A  Lagos        Normal      F       HEALTH and Beauty   \n",
       "9  656-95-9349      A  Lagos        Member      F       HEALTH and Beauty   \n",
       "\n",
       "                       Product line.1  Unit price  Quantity    Tax 5%  ...  \\\n",
       "0       HEALTH and Beauty-750-67-8428  N26,888.40       7.0   9410.94  ...   \n",
       "1      Home and lifestyle-631-41-3108  N16,678.80       7.0   5837.58  ...   \n",
       "2       HEALTH and Beauty-123-19-1176  N20,959.20       8.0   8383.68  ...   \n",
       "3       Sports and travel-373-73-7910  N31,071.60       7.0  10875.06  ...   \n",
       "4  Electronic accessories-355-53-5943  N24,782.40       6.0   7434.72  ...   \n",
       "5       HEALTH and Beauty-665-32-9167  N13,053.60       2.0   1305.36  ...   \n",
       "6  Electronic accessories-365-64-0515  N16,902.00       5.0   4225.50  ...   \n",
       "7      Food and beverages-252-56-2699  N15,548.40      10.0   7774.20  ...   \n",
       "8       HEALTH and Beauty-829-34-3910  N25,696.80      10.0  12848.40  ...   \n",
       "9       HEALTH and Beauty-656-95-9349  N24,814.80       7.0   8685.18  ...   \n",
       "\n",
       "   Rating Unnamed: 18 Unnamed: 19 Unnamed: 20  Unnamed: 21  Unnamed: 22  \\\n",
       "0     9.1         NaN         NaN         NaN          NaN          NaN   \n",
       "1     7.4         NaN         NaN         NaN          NaN          NaN   \n",
       "2     8.4         NaN         NaN         NaN          NaN          NaN   \n",
       "3     5.3         NaN         NaN         NaN          NaN          NaN   \n",
       "4     5.8         NaN         NaN         NaN          NaN          NaN   \n",
       "5     7.2         NaN         NaN         NaN          NaN          NaN   \n",
       "6     7.1         NaN         NaN         NaN          NaN          NaN   \n",
       "7     8.2         NaN         NaN         NaN          NaN          NaN   \n",
       "8     5.7         NaN         NaN         NaN          NaN          NaN   \n",
       "9     4.6         NaN         NaN         NaN          NaN          NaN   \n",
       "\n",
       "  Unnamed: 23  Unnamed: 24  Unnamed: 25  Unnamed: 26  \n",
       "0         NaN          NaN          NaN          NaN  \n",
       "1         NaN          NaN          NaN          NaN  \n",
       "2         NaN          NaN          NaN          NaN  \n",
       "3         NaN          NaN          NaN          NaN  \n",
       "4         NaN          NaN          NaN          NaN  \n",
       "5         NaN          NaN          NaN          NaN  \n",
       "6         NaN          NaN          NaN          NaN  \n",
       "7         NaN          NaN          NaN          NaN  \n",
       "8         NaN          NaN          NaN          NaN  \n",
       "9         NaN          NaN          NaN          NaN  \n",
       "\n",
       "[10 rows x 27 columns]"
      ]
     },
     "execution_count": 5,
     "metadata": {},
     "output_type": "execute_result"
    }
   ],
   "source": [
    "data.head(10)"
   ]
  },
  {
   "cell_type": "code",
   "execution_count": 6,
   "id": "dd6a279b",
   "metadata": {},
   "outputs": [
    {
     "data": {
      "text/html": [
       "<div>\n",
       "<style scoped>\n",
       "    .dataframe tbody tr th:only-of-type {\n",
       "        vertical-align: middle;\n",
       "    }\n",
       "\n",
       "    .dataframe tbody tr th {\n",
       "        vertical-align: top;\n",
       "    }\n",
       "\n",
       "    .dataframe thead th {\n",
       "        text-align: right;\n",
       "    }\n",
       "</style>\n",
       "<table border=\"1\" class=\"dataframe\">\n",
       "  <thead>\n",
       "    <tr style=\"text-align: right;\">\n",
       "      <th></th>\n",
       "      <th>Invoice ID</th>\n",
       "      <th>Branch</th>\n",
       "      <th>City</th>\n",
       "      <th>Customer type</th>\n",
       "      <th>Gender</th>\n",
       "      <th>Product line</th>\n",
       "      <th>Product line.1</th>\n",
       "      <th>Unit price</th>\n",
       "      <th>Quantity</th>\n",
       "      <th>Tax 5%</th>\n",
       "      <th>...</th>\n",
       "      <th>Rating</th>\n",
       "      <th>Unnamed: 18</th>\n",
       "      <th>Unnamed: 19</th>\n",
       "      <th>Unnamed: 20</th>\n",
       "      <th>Unnamed: 21</th>\n",
       "      <th>Unnamed: 22</th>\n",
       "      <th>Unnamed: 23</th>\n",
       "      <th>Unnamed: 24</th>\n",
       "      <th>Unnamed: 25</th>\n",
       "      <th>Unnamed: 26</th>\n",
       "    </tr>\n",
       "  </thead>\n",
       "  <tbody>\n",
       "    <tr>\n",
       "      <th>994</th>\n",
       "      <td>NaN</td>\n",
       "      <td>NaN</td>\n",
       "      <td>NaN</td>\n",
       "      <td>NaN</td>\n",
       "      <td>NaN</td>\n",
       "      <td>NaN</td>\n",
       "      <td>NaN</td>\n",
       "      <td>NaN</td>\n",
       "      <td>NaN</td>\n",
       "      <td>NaN</td>\n",
       "      <td>...</td>\n",
       "      <td>NaN</td>\n",
       "      <td>NaN</td>\n",
       "      <td>NaN</td>\n",
       "      <td>NaN</td>\n",
       "      <td>NaN</td>\n",
       "      <td>NaN</td>\n",
       "      <td>NaN</td>\n",
       "      <td>NaN</td>\n",
       "      <td>NaN</td>\n",
       "      <td>NaN</td>\n",
       "    </tr>\n",
       "    <tr>\n",
       "      <th>995</th>\n",
       "      <td>NaN</td>\n",
       "      <td>NaN</td>\n",
       "      <td>NaN</td>\n",
       "      <td>NaN</td>\n",
       "      <td>NaN</td>\n",
       "      <td>NaN</td>\n",
       "      <td>NaN</td>\n",
       "      <td>NaN</td>\n",
       "      <td>NaN</td>\n",
       "      <td>NaN</td>\n",
       "      <td>...</td>\n",
       "      <td>NaN</td>\n",
       "      <td>NaN</td>\n",
       "      <td>NaN</td>\n",
       "      <td>NaN</td>\n",
       "      <td>NaN</td>\n",
       "      <td>NaN</td>\n",
       "      <td>NaN</td>\n",
       "      <td>NaN</td>\n",
       "      <td>NaN</td>\n",
       "      <td>NaN</td>\n",
       "    </tr>\n",
       "    <tr>\n",
       "      <th>996</th>\n",
       "      <td>NaN</td>\n",
       "      <td>NaN</td>\n",
       "      <td>NaN</td>\n",
       "      <td>NaN</td>\n",
       "      <td>NaN</td>\n",
       "      <td>NaN</td>\n",
       "      <td>NaN</td>\n",
       "      <td>NaN</td>\n",
       "      <td>NaN</td>\n",
       "      <td>NaN</td>\n",
       "      <td>...</td>\n",
       "      <td>NaN</td>\n",
       "      <td>NaN</td>\n",
       "      <td>NaN</td>\n",
       "      <td>NaN</td>\n",
       "      <td>NaN</td>\n",
       "      <td>NaN</td>\n",
       "      <td>NaN</td>\n",
       "      <td>NaN</td>\n",
       "      <td>NaN</td>\n",
       "      <td>NaN</td>\n",
       "    </tr>\n",
       "    <tr>\n",
       "      <th>997</th>\n",
       "      <td>NaN</td>\n",
       "      <td>NaN</td>\n",
       "      <td>NaN</td>\n",
       "      <td>NaN</td>\n",
       "      <td>NaN</td>\n",
       "      <td>NaN</td>\n",
       "      <td>NaN</td>\n",
       "      <td>NaN</td>\n",
       "      <td>NaN</td>\n",
       "      <td>NaN</td>\n",
       "      <td>...</td>\n",
       "      <td>NaN</td>\n",
       "      <td>NaN</td>\n",
       "      <td>NaN</td>\n",
       "      <td>NaN</td>\n",
       "      <td>NaN</td>\n",
       "      <td>NaN</td>\n",
       "      <td>NaN</td>\n",
       "      <td>NaN</td>\n",
       "      <td>NaN</td>\n",
       "      <td>NaN</td>\n",
       "    </tr>\n",
       "    <tr>\n",
       "      <th>998</th>\n",
       "      <td>NaN</td>\n",
       "      <td>NaN</td>\n",
       "      <td>NaN</td>\n",
       "      <td>NaN</td>\n",
       "      <td>NaN</td>\n",
       "      <td>NaN</td>\n",
       "      <td>NaN</td>\n",
       "      <td>NaN</td>\n",
       "      <td>NaN</td>\n",
       "      <td>NaN</td>\n",
       "      <td>...</td>\n",
       "      <td>NaN</td>\n",
       "      <td>NaN</td>\n",
       "      <td>NaN</td>\n",
       "      <td>NaN</td>\n",
       "      <td>NaN</td>\n",
       "      <td>NaN</td>\n",
       "      <td>NaN</td>\n",
       "      <td>NaN</td>\n",
       "      <td>NaN</td>\n",
       "      <td>NaN</td>\n",
       "    </tr>\n",
       "  </tbody>\n",
       "</table>\n",
       "<p>5 rows × 27 columns</p>\n",
       "</div>"
      ],
      "text/plain": [
       "    Invoice ID Branch City Customer type Gender Product line Product line.1  \\\n",
       "994        NaN    NaN  NaN           NaN    NaN          NaN            NaN   \n",
       "995        NaN    NaN  NaN           NaN    NaN          NaN            NaN   \n",
       "996        NaN    NaN  NaN           NaN    NaN          NaN            NaN   \n",
       "997        NaN    NaN  NaN           NaN    NaN          NaN            NaN   \n",
       "998        NaN    NaN  NaN           NaN    NaN          NaN            NaN   \n",
       "\n",
       "    Unit price  Quantity  Tax 5%  ...  Rating Unnamed: 18 Unnamed: 19  \\\n",
       "994        NaN       NaN     NaN  ...     NaN         NaN         NaN   \n",
       "995        NaN       NaN     NaN  ...     NaN         NaN         NaN   \n",
       "996        NaN       NaN     NaN  ...     NaN         NaN         NaN   \n",
       "997        NaN       NaN     NaN  ...     NaN         NaN         NaN   \n",
       "998        NaN       NaN     NaN  ...     NaN         NaN         NaN   \n",
       "\n",
       "    Unnamed: 20  Unnamed: 21  Unnamed: 22 Unnamed: 23  Unnamed: 24  \\\n",
       "994         NaN          NaN          NaN         NaN          NaN   \n",
       "995         NaN          NaN          NaN         NaN          NaN   \n",
       "996         NaN          NaN          NaN         NaN          NaN   \n",
       "997         NaN          NaN          NaN         NaN          NaN   \n",
       "998         NaN          NaN          NaN         NaN          NaN   \n",
       "\n",
       "     Unnamed: 25  Unnamed: 26  \n",
       "994          NaN          NaN  \n",
       "995          NaN          NaN  \n",
       "996          NaN          NaN  \n",
       "997          NaN          NaN  \n",
       "998          NaN          NaN  \n",
       "\n",
       "[5 rows x 27 columns]"
      ]
     },
     "execution_count": 6,
     "metadata": {},
     "output_type": "execute_result"
    }
   ],
   "source": [
    "data.tail()"
   ]
  },
  {
   "cell_type": "markdown",
   "id": "5f61fad7",
   "metadata": {},
   "source": [
    "#### Data Profiling/Exploration"
   ]
  },
  {
   "cell_type": "code",
   "execution_count": 7,
   "id": "5b785689",
   "metadata": {},
   "outputs": [
    {
     "name": "stdout",
     "output_type": "stream",
     "text": [
      "<class 'pandas.core.frame.DataFrame'>\n",
      "RangeIndex: 999 entries, 0 to 998\n",
      "Data columns (total 27 columns):\n",
      " #   Column                   Non-Null Count  Dtype  \n",
      "---  ------                   --------------  -----  \n",
      " 0   Invoice ID               340 non-null    object \n",
      " 1   Branch                   340 non-null    object \n",
      " 2   City                     340 non-null    object \n",
      " 3   Customer type            340 non-null    object \n",
      " 4   Gender                   340 non-null    object \n",
      " 5   Product line             340 non-null    object \n",
      " 6   Product line.1           340 non-null    object \n",
      " 7   Unit price               340 non-null    object \n",
      " 8   Quantity                 340 non-null    float64\n",
      " 9   Tax 5%                   340 non-null    float64\n",
      " 10  Total                    340 non-null    float64\n",
      " 11  Date                     340 non-null    object \n",
      " 12  Time                     340 non-null    object \n",
      " 13  Payment                  340 non-null    object \n",
      " 14  cogs                     340 non-null    float64\n",
      " 15  gross margin percentage  340 non-null    float64\n",
      " 16  gross income             340 non-null    object \n",
      " 17  Rating                   340 non-null    float64\n",
      " 18  Unnamed: 18              0 non-null      float64\n",
      " 19  Unnamed: 19              0 non-null      float64\n",
      " 20  Unnamed: 20              0 non-null      float64\n",
      " 21  Unnamed: 21              0 non-null      float64\n",
      " 22  Unnamed: 22              0 non-null      float64\n",
      " 23  Unnamed: 23              0 non-null      float64\n",
      " 24  Unnamed: 24              0 non-null      float64\n",
      " 25  Unnamed: 25              0 non-null      float64\n",
      " 26  Unnamed: 26              0 non-null      float64\n",
      "dtypes: float64(15), object(12)\n",
      "memory usage: 210.9+ KB\n"
     ]
    }
   ],
   "source": [
    "data.info()"
   ]
  },
  {
   "cell_type": "code",
   "execution_count": 8,
   "id": "b56a0098",
   "metadata": {},
   "outputs": [
    {
     "data": {
      "text/html": [
       "<div>\n",
       "<style scoped>\n",
       "    .dataframe tbody tr th:only-of-type {\n",
       "        vertical-align: middle;\n",
       "    }\n",
       "\n",
       "    .dataframe tbody tr th {\n",
       "        vertical-align: top;\n",
       "    }\n",
       "\n",
       "    .dataframe thead th {\n",
       "        text-align: right;\n",
       "    }\n",
       "</style>\n",
       "<table border=\"1\" class=\"dataframe\">\n",
       "  <thead>\n",
       "    <tr style=\"text-align: right;\">\n",
       "      <th></th>\n",
       "      <th>Invoice ID</th>\n",
       "      <th>Branch</th>\n",
       "      <th>City</th>\n",
       "      <th>Customer type</th>\n",
       "      <th>Gender</th>\n",
       "      <th>Product line</th>\n",
       "      <th>Product line.1</th>\n",
       "      <th>Unit price</th>\n",
       "      <th>Quantity</th>\n",
       "      <th>Tax 5%</th>\n",
       "      <th>Total</th>\n",
       "      <th>Date</th>\n",
       "      <th>Time</th>\n",
       "      <th>Payment</th>\n",
       "      <th>cogs</th>\n",
       "      <th>gross margin percentage</th>\n",
       "      <th>gross income</th>\n",
       "      <th>Rating</th>\n",
       "    </tr>\n",
       "  </thead>\n",
       "  <tbody>\n",
       "    <tr>\n",
       "      <th>0</th>\n",
       "      <td>750-67-8428</td>\n",
       "      <td>A</td>\n",
       "      <td>Lag</td>\n",
       "      <td>Member</td>\n",
       "      <td>F</td>\n",
       "      <td>HEALTH and Beauty</td>\n",
       "      <td>HEALTH and Beauty-750-67-8428</td>\n",
       "      <td>N26,888.40</td>\n",
       "      <td>7.0</td>\n",
       "      <td>9410.94</td>\n",
       "      <td>197629.74</td>\n",
       "      <td>1/5/2019</td>\n",
       "      <td>13:08</td>\n",
       "      <td>Epay</td>\n",
       "      <td>188218.8</td>\n",
       "      <td>4.761905</td>\n",
       "      <td>N9,410.94</td>\n",
       "      <td>9.1</td>\n",
       "    </tr>\n",
       "    <tr>\n",
       "      <th>1</th>\n",
       "      <td>631-41-3108</td>\n",
       "      <td>A</td>\n",
       "      <td>Lag</td>\n",
       "      <td>Normal</td>\n",
       "      <td>M</td>\n",
       "      <td>Home and lifestyle</td>\n",
       "      <td>Home and lifestyle-631-41-3108</td>\n",
       "      <td>N16,678.80</td>\n",
       "      <td>7.0</td>\n",
       "      <td>5837.58</td>\n",
       "      <td>122589.18</td>\n",
       "      <td>3/3/2019</td>\n",
       "      <td>13:23</td>\n",
       "      <td>Card</td>\n",
       "      <td>116751.6</td>\n",
       "      <td>4.761905</td>\n",
       "      <td>N5,837.58</td>\n",
       "      <td>7.4</td>\n",
       "    </tr>\n",
       "    <tr>\n",
       "      <th>2</th>\n",
       "      <td>123-19-1176</td>\n",
       "      <td>A</td>\n",
       "      <td>Lag</td>\n",
       "      <td>Member</td>\n",
       "      <td>M</td>\n",
       "      <td>HEALTH and Beauty</td>\n",
       "      <td>HEALTH and Beauty-123-19-1176</td>\n",
       "      <td>N20,959.20</td>\n",
       "      <td>8.0</td>\n",
       "      <td>8383.68</td>\n",
       "      <td>176057.28</td>\n",
       "      <td>1/27/2019</td>\n",
       "      <td>20:33</td>\n",
       "      <td>Epay</td>\n",
       "      <td>167673.6</td>\n",
       "      <td>4.761905</td>\n",
       "      <td>N8,383.68</td>\n",
       "      <td>8.4</td>\n",
       "    </tr>\n",
       "    <tr>\n",
       "      <th>3</th>\n",
       "      <td>373-73-7910</td>\n",
       "      <td>A</td>\n",
       "      <td>Lag</td>\n",
       "      <td>Normal</td>\n",
       "      <td>M</td>\n",
       "      <td>Sports and travel</td>\n",
       "      <td>Sports and travel-373-73-7910</td>\n",
       "      <td>N31,071.60</td>\n",
       "      <td>7.0</td>\n",
       "      <td>10875.06</td>\n",
       "      <td>228376.26</td>\n",
       "      <td>2/8/2019</td>\n",
       "      <td>10:37</td>\n",
       "      <td>Epay</td>\n",
       "      <td>217501.2</td>\n",
       "      <td>4.761905</td>\n",
       "      <td>N10,875.06</td>\n",
       "      <td>5.3</td>\n",
       "    </tr>\n",
       "    <tr>\n",
       "      <th>4</th>\n",
       "      <td>355-53-5943</td>\n",
       "      <td>A</td>\n",
       "      <td>Lag</td>\n",
       "      <td>Member</td>\n",
       "      <td>F</td>\n",
       "      <td>Electronic accessories</td>\n",
       "      <td>Electronic accessories-355-53-5943</td>\n",
       "      <td>N24,782.40</td>\n",
       "      <td>6.0</td>\n",
       "      <td>7434.72</td>\n",
       "      <td>156129.12</td>\n",
       "      <td>2/25/2019</td>\n",
       "      <td>14:36</td>\n",
       "      <td>Epay</td>\n",
       "      <td>148694.4</td>\n",
       "      <td>4.761905</td>\n",
       "      <td>N7,434.72</td>\n",
       "      <td>5.8</td>\n",
       "    </tr>\n",
       "    <tr>\n",
       "      <th>5</th>\n",
       "      <td>665-32-9167</td>\n",
       "      <td>A</td>\n",
       "      <td>Lagos</td>\n",
       "      <td>Member</td>\n",
       "      <td>F</td>\n",
       "      <td>HEALTH and Beauty</td>\n",
       "      <td>HEALTH and Beauty-665-32-9167</td>\n",
       "      <td>N13,053.60</td>\n",
       "      <td>2.0</td>\n",
       "      <td>1305.36</td>\n",
       "      <td>27412.56</td>\n",
       "      <td>1/10/2019</td>\n",
       "      <td>17:15</td>\n",
       "      <td>Card</td>\n",
       "      <td>26107.2</td>\n",
       "      <td>4.761905</td>\n",
       "      <td>N1,305.36</td>\n",
       "      <td>7.2</td>\n",
       "    </tr>\n",
       "  </tbody>\n",
       "</table>\n",
       "</div>"
      ],
      "text/plain": [
       "    Invoice ID Branch   City Customer type Gender            Product line  \\\n",
       "0  750-67-8428      A    Lag        Member      F       HEALTH and Beauty   \n",
       "1  631-41-3108      A    Lag        Normal      M      Home and lifestyle   \n",
       "2  123-19-1176      A    Lag        Member      M       HEALTH and Beauty   \n",
       "3  373-73-7910      A    Lag        Normal      M       Sports and travel   \n",
       "4  355-53-5943      A    Lag        Member      F  Electronic accessories   \n",
       "5  665-32-9167      A  Lagos        Member      F       HEALTH and Beauty   \n",
       "\n",
       "                       Product line.1  Unit price  Quantity    Tax 5%  \\\n",
       "0       HEALTH and Beauty-750-67-8428  N26,888.40       7.0   9410.94   \n",
       "1      Home and lifestyle-631-41-3108  N16,678.80       7.0   5837.58   \n",
       "2       HEALTH and Beauty-123-19-1176  N20,959.20       8.0   8383.68   \n",
       "3       Sports and travel-373-73-7910  N31,071.60       7.0  10875.06   \n",
       "4  Electronic accessories-355-53-5943  N24,782.40       6.0   7434.72   \n",
       "5       HEALTH and Beauty-665-32-9167  N13,053.60       2.0   1305.36   \n",
       "\n",
       "       Total       Date   Time  Payment      cogs  gross margin percentage  \\\n",
       "0  197629.74   1/5/2019  13:08     Epay  188218.8                 4.761905   \n",
       "1  122589.18   3/3/2019  13:23     Card  116751.6                 4.761905   \n",
       "2  176057.28  1/27/2019  20:33     Epay  167673.6                 4.761905   \n",
       "3  228376.26   2/8/2019  10:37     Epay  217501.2                 4.761905   \n",
       "4  156129.12  2/25/2019  14:36     Epay  148694.4                 4.761905   \n",
       "5   27412.56  1/10/2019  17:15     Card   26107.2                 4.761905   \n",
       "\n",
       "  gross income  Rating  \n",
       "0    N9,410.94     9.1  \n",
       "1    N5,837.58     7.4  \n",
       "2    N8,383.68     8.4  \n",
       "3   N10,875.06     5.3  \n",
       "4    N7,434.72     5.8  \n",
       "5    N1,305.36     7.2  "
      ]
     },
     "execution_count": 8,
     "metadata": {},
     "output_type": "execute_result"
    }
   ],
   "source": [
    "data.loc[:5, \"Invoice ID\": \"Rating\"]"
   ]
  },
  {
   "cell_type": "markdown",
   "id": "2e7735dc",
   "metadata": {},
   "source": [
    "##### It is obvious that the dataset is for the Lagos branch and the identity is A. "
   ]
  },
  {
   "cell_type": "code",
   "execution_count": 9,
   "id": "4099a15a",
   "metadata": {},
   "outputs": [
    {
     "data": {
      "text/plain": [
       "(999, 27)"
      ]
     },
     "execution_count": 9,
     "metadata": {},
     "output_type": "execute_result"
    }
   ],
   "source": [
    "data.shape"
   ]
  },
  {
   "cell_type": "code",
   "execution_count": 10,
   "id": "89a50730",
   "metadata": {},
   "outputs": [
    {
     "data": {
      "text/html": [
       "<div>\n",
       "<style scoped>\n",
       "    .dataframe tbody tr th:only-of-type {\n",
       "        vertical-align: middle;\n",
       "    }\n",
       "\n",
       "    .dataframe tbody tr th {\n",
       "        vertical-align: top;\n",
       "    }\n",
       "\n",
       "    .dataframe thead th {\n",
       "        text-align: right;\n",
       "    }\n",
       "</style>\n",
       "<table border=\"1\" class=\"dataframe\">\n",
       "  <thead>\n",
       "    <tr style=\"text-align: right;\">\n",
       "      <th></th>\n",
       "      <th>Invoice ID</th>\n",
       "      <th>Branch</th>\n",
       "      <th>City</th>\n",
       "      <th>Customer type</th>\n",
       "      <th>Gender</th>\n",
       "      <th>Product line</th>\n",
       "      <th>Product line.1</th>\n",
       "      <th>Unit price</th>\n",
       "      <th>Quantity</th>\n",
       "      <th>Tax 5%</th>\n",
       "      <th>...</th>\n",
       "      <th>Rating</th>\n",
       "      <th>Unnamed: 18</th>\n",
       "      <th>Unnamed: 19</th>\n",
       "      <th>Unnamed: 20</th>\n",
       "      <th>Unnamed: 21</th>\n",
       "      <th>Unnamed: 22</th>\n",
       "      <th>Unnamed: 23</th>\n",
       "      <th>Unnamed: 24</th>\n",
       "      <th>Unnamed: 25</th>\n",
       "      <th>Unnamed: 26</th>\n",
       "    </tr>\n",
       "  </thead>\n",
       "  <tbody>\n",
       "    <tr>\n",
       "      <th>0</th>\n",
       "      <td>NaN</td>\n",
       "      <td>NaN</td>\n",
       "      <td>NaN</td>\n",
       "      <td>NaN</td>\n",
       "      <td>NaN</td>\n",
       "      <td>NaN</td>\n",
       "      <td>NaN</td>\n",
       "      <td>NaN</td>\n",
       "      <td>NaN</td>\n",
       "      <td>NaN</td>\n",
       "      <td>...</td>\n",
       "      <td>NaN</td>\n",
       "      <td>NaN</td>\n",
       "      <td>NaN</td>\n",
       "      <td>NaN</td>\n",
       "      <td>NaN</td>\n",
       "      <td>NaN</td>\n",
       "      <td>NaN</td>\n",
       "      <td>NaN</td>\n",
       "      <td>NaN</td>\n",
       "      <td>NaN</td>\n",
       "    </tr>\n",
       "    <tr>\n",
       "      <th>1</th>\n",
       "      <td>NaN</td>\n",
       "      <td>NaN</td>\n",
       "      <td>NaN</td>\n",
       "      <td>NaN</td>\n",
       "      <td>NaN</td>\n",
       "      <td>NaN</td>\n",
       "      <td>NaN</td>\n",
       "      <td>NaN</td>\n",
       "      <td>NaN</td>\n",
       "      <td>NaN</td>\n",
       "      <td>...</td>\n",
       "      <td>NaN</td>\n",
       "      <td>NaN</td>\n",
       "      <td>NaN</td>\n",
       "      <td>NaN</td>\n",
       "      <td>NaN</td>\n",
       "      <td>NaN</td>\n",
       "      <td>NaN</td>\n",
       "      <td>NaN</td>\n",
       "      <td>NaN</td>\n",
       "      <td>NaN</td>\n",
       "    </tr>\n",
       "    <tr>\n",
       "      <th>2</th>\n",
       "      <td>NaN</td>\n",
       "      <td>NaN</td>\n",
       "      <td>NaN</td>\n",
       "      <td>NaN</td>\n",
       "      <td>NaN</td>\n",
       "      <td>NaN</td>\n",
       "      <td>NaN</td>\n",
       "      <td>NaN</td>\n",
       "      <td>NaN</td>\n",
       "      <td>NaN</td>\n",
       "      <td>...</td>\n",
       "      <td>NaN</td>\n",
       "      <td>NaN</td>\n",
       "      <td>NaN</td>\n",
       "      <td>NaN</td>\n",
       "      <td>NaN</td>\n",
       "      <td>NaN</td>\n",
       "      <td>NaN</td>\n",
       "      <td>NaN</td>\n",
       "      <td>NaN</td>\n",
       "      <td>NaN</td>\n",
       "    </tr>\n",
       "    <tr>\n",
       "      <th>3</th>\n",
       "      <td>NaN</td>\n",
       "      <td>NaN</td>\n",
       "      <td>NaN</td>\n",
       "      <td>NaN</td>\n",
       "      <td>NaN</td>\n",
       "      <td>NaN</td>\n",
       "      <td>NaN</td>\n",
       "      <td>NaN</td>\n",
       "      <td>NaN</td>\n",
       "      <td>NaN</td>\n",
       "      <td>...</td>\n",
       "      <td>NaN</td>\n",
       "      <td>NaN</td>\n",
       "      <td>NaN</td>\n",
       "      <td>NaN</td>\n",
       "      <td>NaN</td>\n",
       "      <td>NaN</td>\n",
       "      <td>NaN</td>\n",
       "      <td>NaN</td>\n",
       "      <td>NaN</td>\n",
       "      <td>NaN</td>\n",
       "    </tr>\n",
       "    <tr>\n",
       "      <th>4</th>\n",
       "      <td>NaN</td>\n",
       "      <td>NaN</td>\n",
       "      <td>NaN</td>\n",
       "      <td>NaN</td>\n",
       "      <td>NaN</td>\n",
       "      <td>NaN</td>\n",
       "      <td>NaN</td>\n",
       "      <td>NaN</td>\n",
       "      <td>NaN</td>\n",
       "      <td>NaN</td>\n",
       "      <td>...</td>\n",
       "      <td>NaN</td>\n",
       "      <td>NaN</td>\n",
       "      <td>NaN</td>\n",
       "      <td>NaN</td>\n",
       "      <td>NaN</td>\n",
       "      <td>NaN</td>\n",
       "      <td>NaN</td>\n",
       "      <td>NaN</td>\n",
       "      <td>NaN</td>\n",
       "      <td>NaN</td>\n",
       "    </tr>\n",
       "    <tr>\n",
       "      <th>...</th>\n",
       "      <td>...</td>\n",
       "      <td>...</td>\n",
       "      <td>...</td>\n",
       "      <td>...</td>\n",
       "      <td>...</td>\n",
       "      <td>...</td>\n",
       "      <td>...</td>\n",
       "      <td>...</td>\n",
       "      <td>...</td>\n",
       "      <td>...</td>\n",
       "      <td>...</td>\n",
       "      <td>...</td>\n",
       "      <td>...</td>\n",
       "      <td>...</td>\n",
       "      <td>...</td>\n",
       "      <td>...</td>\n",
       "      <td>...</td>\n",
       "      <td>...</td>\n",
       "      <td>...</td>\n",
       "      <td>...</td>\n",
       "      <td>...</td>\n",
       "    </tr>\n",
       "    <tr>\n",
       "      <th>994</th>\n",
       "      <td>NaN</td>\n",
       "      <td>NaN</td>\n",
       "      <td>NaN</td>\n",
       "      <td>NaN</td>\n",
       "      <td>NaN</td>\n",
       "      <td>NaN</td>\n",
       "      <td>NaN</td>\n",
       "      <td>NaN</td>\n",
       "      <td>NaN</td>\n",
       "      <td>NaN</td>\n",
       "      <td>...</td>\n",
       "      <td>NaN</td>\n",
       "      <td>NaN</td>\n",
       "      <td>NaN</td>\n",
       "      <td>NaN</td>\n",
       "      <td>NaN</td>\n",
       "      <td>NaN</td>\n",
       "      <td>NaN</td>\n",
       "      <td>NaN</td>\n",
       "      <td>NaN</td>\n",
       "      <td>NaN</td>\n",
       "    </tr>\n",
       "    <tr>\n",
       "      <th>995</th>\n",
       "      <td>NaN</td>\n",
       "      <td>NaN</td>\n",
       "      <td>NaN</td>\n",
       "      <td>NaN</td>\n",
       "      <td>NaN</td>\n",
       "      <td>NaN</td>\n",
       "      <td>NaN</td>\n",
       "      <td>NaN</td>\n",
       "      <td>NaN</td>\n",
       "      <td>NaN</td>\n",
       "      <td>...</td>\n",
       "      <td>NaN</td>\n",
       "      <td>NaN</td>\n",
       "      <td>NaN</td>\n",
       "      <td>NaN</td>\n",
       "      <td>NaN</td>\n",
       "      <td>NaN</td>\n",
       "      <td>NaN</td>\n",
       "      <td>NaN</td>\n",
       "      <td>NaN</td>\n",
       "      <td>NaN</td>\n",
       "    </tr>\n",
       "    <tr>\n",
       "      <th>996</th>\n",
       "      <td>NaN</td>\n",
       "      <td>NaN</td>\n",
       "      <td>NaN</td>\n",
       "      <td>NaN</td>\n",
       "      <td>NaN</td>\n",
       "      <td>NaN</td>\n",
       "      <td>NaN</td>\n",
       "      <td>NaN</td>\n",
       "      <td>NaN</td>\n",
       "      <td>NaN</td>\n",
       "      <td>...</td>\n",
       "      <td>NaN</td>\n",
       "      <td>NaN</td>\n",
       "      <td>NaN</td>\n",
       "      <td>NaN</td>\n",
       "      <td>NaN</td>\n",
       "      <td>NaN</td>\n",
       "      <td>NaN</td>\n",
       "      <td>NaN</td>\n",
       "      <td>NaN</td>\n",
       "      <td>NaN</td>\n",
       "    </tr>\n",
       "    <tr>\n",
       "      <th>997</th>\n",
       "      <td>NaN</td>\n",
       "      <td>NaN</td>\n",
       "      <td>NaN</td>\n",
       "      <td>NaN</td>\n",
       "      <td>NaN</td>\n",
       "      <td>NaN</td>\n",
       "      <td>NaN</td>\n",
       "      <td>NaN</td>\n",
       "      <td>NaN</td>\n",
       "      <td>NaN</td>\n",
       "      <td>...</td>\n",
       "      <td>NaN</td>\n",
       "      <td>NaN</td>\n",
       "      <td>NaN</td>\n",
       "      <td>NaN</td>\n",
       "      <td>NaN</td>\n",
       "      <td>NaN</td>\n",
       "      <td>NaN</td>\n",
       "      <td>NaN</td>\n",
       "      <td>NaN</td>\n",
       "      <td>NaN</td>\n",
       "    </tr>\n",
       "    <tr>\n",
       "      <th>998</th>\n",
       "      <td>NaN</td>\n",
       "      <td>NaN</td>\n",
       "      <td>NaN</td>\n",
       "      <td>NaN</td>\n",
       "      <td>NaN</td>\n",
       "      <td>NaN</td>\n",
       "      <td>NaN</td>\n",
       "      <td>NaN</td>\n",
       "      <td>NaN</td>\n",
       "      <td>NaN</td>\n",
       "      <td>...</td>\n",
       "      <td>NaN</td>\n",
       "      <td>NaN</td>\n",
       "      <td>NaN</td>\n",
       "      <td>NaN</td>\n",
       "      <td>NaN</td>\n",
       "      <td>NaN</td>\n",
       "      <td>NaN</td>\n",
       "      <td>NaN</td>\n",
       "      <td>NaN</td>\n",
       "      <td>NaN</td>\n",
       "    </tr>\n",
       "  </tbody>\n",
       "</table>\n",
       "<p>999 rows × 27 columns</p>\n",
       "</div>"
      ],
      "text/plain": [
       "    Invoice ID Branch City Customer type Gender Product line Product line.1  \\\n",
       "0          NaN    NaN  NaN           NaN    NaN          NaN            NaN   \n",
       "1          NaN    NaN  NaN           NaN    NaN          NaN            NaN   \n",
       "2          NaN    NaN  NaN           NaN    NaN          NaN            NaN   \n",
       "3          NaN    NaN  NaN           NaN    NaN          NaN            NaN   \n",
       "4          NaN    NaN  NaN           NaN    NaN          NaN            NaN   \n",
       "..         ...    ...  ...           ...    ...          ...            ...   \n",
       "994        NaN    NaN  NaN           NaN    NaN          NaN            NaN   \n",
       "995        NaN    NaN  NaN           NaN    NaN          NaN            NaN   \n",
       "996        NaN    NaN  NaN           NaN    NaN          NaN            NaN   \n",
       "997        NaN    NaN  NaN           NaN    NaN          NaN            NaN   \n",
       "998        NaN    NaN  NaN           NaN    NaN          NaN            NaN   \n",
       "\n",
       "    Unit price  Quantity  Tax 5%  ...  Rating Unnamed: 18 Unnamed: 19  \\\n",
       "0          NaN       NaN     NaN  ...     NaN         NaN         NaN   \n",
       "1          NaN       NaN     NaN  ...     NaN         NaN         NaN   \n",
       "2          NaN       NaN     NaN  ...     NaN         NaN         NaN   \n",
       "3          NaN       NaN     NaN  ...     NaN         NaN         NaN   \n",
       "4          NaN       NaN     NaN  ...     NaN         NaN         NaN   \n",
       "..         ...       ...     ...  ...     ...         ...         ...   \n",
       "994        NaN       NaN     NaN  ...     NaN         NaN         NaN   \n",
       "995        NaN       NaN     NaN  ...     NaN         NaN         NaN   \n",
       "996        NaN       NaN     NaN  ...     NaN         NaN         NaN   \n",
       "997        NaN       NaN     NaN  ...     NaN         NaN         NaN   \n",
       "998        NaN       NaN     NaN  ...     NaN         NaN         NaN   \n",
       "\n",
       "    Unnamed: 20  Unnamed: 21  Unnamed: 22 Unnamed: 23  Unnamed: 24  \\\n",
       "0           NaN          NaN          NaN         NaN          NaN   \n",
       "1           NaN          NaN          NaN         NaN          NaN   \n",
       "2           NaN          NaN          NaN         NaN          NaN   \n",
       "3           NaN          NaN          NaN         NaN          NaN   \n",
       "4           NaN          NaN          NaN         NaN          NaN   \n",
       "..          ...          ...          ...         ...          ...   \n",
       "994         NaN          NaN          NaN         NaN          NaN   \n",
       "995         NaN          NaN          NaN         NaN          NaN   \n",
       "996         NaN          NaN          NaN         NaN          NaN   \n",
       "997         NaN          NaN          NaN         NaN          NaN   \n",
       "998         NaN          NaN          NaN         NaN          NaN   \n",
       "\n",
       "     Unnamed: 25  Unnamed: 26  \n",
       "0            NaN          NaN  \n",
       "1            NaN          NaN  \n",
       "2            NaN          NaN  \n",
       "3            NaN          NaN  \n",
       "4            NaN          NaN  \n",
       "..           ...          ...  \n",
       "994          NaN          NaN  \n",
       "995          NaN          NaN  \n",
       "996          NaN          NaN  \n",
       "997          NaN          NaN  \n",
       "998          NaN          NaN  \n",
       "\n",
       "[999 rows x 27 columns]"
      ]
     },
     "execution_count": 10,
     "metadata": {},
     "output_type": "execute_result"
    }
   ],
   "source": [
    "data[data.isnull()]"
   ]
  },
  {
   "cell_type": "markdown",
   "id": "5303f999",
   "metadata": {},
   "source": [
    "#### Data Cleaning"
   ]
  },
  {
   "cell_type": "code",
   "execution_count": 11,
   "id": "de35e7a8",
   "metadata": {},
   "outputs": [
    {
     "data": {
      "text/plain": [
       "Index(['Invoice ID', 'Branch', 'City', 'Customer type', 'Gender',\n",
       "       'Product line', 'Product line.1', 'Unit price', 'Quantity', 'Tax 5%',\n",
       "       'Total', 'Date', 'Time', 'Payment', 'cogs', 'gross margin percentage',\n",
       "       'gross income', 'Rating', 'Unnamed: 18', 'Unnamed: 19', 'Unnamed: 20',\n",
       "       'Unnamed: 21', 'Unnamed: 22', 'Unnamed: 23', 'Unnamed: 24',\n",
       "       'Unnamed: 25', 'Unnamed: 26'],\n",
       "      dtype='object')"
      ]
     },
     "execution_count": 11,
     "metadata": {},
     "output_type": "execute_result"
    }
   ],
   "source": [
    "data.columns"
   ]
  },
  {
   "cell_type": "code",
   "execution_count": 12,
   "id": "0deeddda",
   "metadata": {},
   "outputs": [],
   "source": [
    "# drop columns\n",
    "data.drop(['Unnamed: 18', 'Unnamed: 19', 'Unnamed: 20',\n",
    "       'Unnamed: 21', 'Unnamed: 22', 'Unnamed: 23', 'Unnamed: 24',\n",
    "       'Unnamed: 25', 'Unnamed: 26', 'Branch', 'City', 'Product line.1'], axis=1, inplace=True)"
   ]
  },
  {
   "cell_type": "code",
   "execution_count": 13,
   "id": "e6c9da6a",
   "metadata": {},
   "outputs": [
    {
     "name": "stdout",
     "output_type": "stream",
     "text": [
      "<class 'pandas.core.frame.DataFrame'>\n",
      "RangeIndex: 999 entries, 0 to 998\n",
      "Data columns (total 15 columns):\n",
      " #   Column                   Non-Null Count  Dtype  \n",
      "---  ------                   --------------  -----  \n",
      " 0   Invoice ID               340 non-null    object \n",
      " 1   Customer type            340 non-null    object \n",
      " 2   Gender                   340 non-null    object \n",
      " 3   Product line             340 non-null    object \n",
      " 4   Unit price               340 non-null    object \n",
      " 5   Quantity                 340 non-null    float64\n",
      " 6   Tax 5%                   340 non-null    float64\n",
      " 7   Total                    340 non-null    float64\n",
      " 8   Date                     340 non-null    object \n",
      " 9   Time                     340 non-null    object \n",
      " 10  Payment                  340 non-null    object \n",
      " 11  cogs                     340 non-null    float64\n",
      " 12  gross margin percentage  340 non-null    float64\n",
      " 13  gross income             340 non-null    object \n",
      " 14  Rating                   340 non-null    float64\n",
      "dtypes: float64(6), object(9)\n",
      "memory usage: 117.2+ KB\n"
     ]
    }
   ],
   "source": [
    "data.info()"
   ]
  },
  {
   "cell_type": "code",
   "execution_count": 14,
   "id": "37ae1f34",
   "metadata": {},
   "outputs": [
    {
     "data": {
      "text/html": [
       "<div>\n",
       "<style scoped>\n",
       "    .dataframe tbody tr th:only-of-type {\n",
       "        vertical-align: middle;\n",
       "    }\n",
       "\n",
       "    .dataframe tbody tr th {\n",
       "        vertical-align: top;\n",
       "    }\n",
       "\n",
       "    .dataframe thead th {\n",
       "        text-align: right;\n",
       "    }\n",
       "</style>\n",
       "<table border=\"1\" class=\"dataframe\">\n",
       "  <thead>\n",
       "    <tr style=\"text-align: right;\">\n",
       "      <th></th>\n",
       "      <th>Invoice ID</th>\n",
       "      <th>Customer type</th>\n",
       "      <th>Gender</th>\n",
       "      <th>Product line</th>\n",
       "      <th>Unit price</th>\n",
       "      <th>Quantity</th>\n",
       "      <th>Tax 5%</th>\n",
       "      <th>Total</th>\n",
       "      <th>Date</th>\n",
       "      <th>Time</th>\n",
       "      <th>Payment</th>\n",
       "      <th>cogs</th>\n",
       "      <th>gross margin percentage</th>\n",
       "      <th>gross income</th>\n",
       "      <th>Rating</th>\n",
       "    </tr>\n",
       "  </thead>\n",
       "  <tbody>\n",
       "    <tr>\n",
       "      <th>0</th>\n",
       "      <td>750-67-8428</td>\n",
       "      <td>Member</td>\n",
       "      <td>F</td>\n",
       "      <td>HEALTH and Beauty</td>\n",
       "      <td>N26,888.40</td>\n",
       "      <td>7.0</td>\n",
       "      <td>9410.94</td>\n",
       "      <td>197629.74</td>\n",
       "      <td>1/5/2019</td>\n",
       "      <td>13:08</td>\n",
       "      <td>Epay</td>\n",
       "      <td>188218.8</td>\n",
       "      <td>4.761905</td>\n",
       "      <td>N9,410.94</td>\n",
       "      <td>9.1</td>\n",
       "    </tr>\n",
       "    <tr>\n",
       "      <th>1</th>\n",
       "      <td>631-41-3108</td>\n",
       "      <td>Normal</td>\n",
       "      <td>M</td>\n",
       "      <td>Home and lifestyle</td>\n",
       "      <td>N16,678.80</td>\n",
       "      <td>7.0</td>\n",
       "      <td>5837.58</td>\n",
       "      <td>122589.18</td>\n",
       "      <td>3/3/2019</td>\n",
       "      <td>13:23</td>\n",
       "      <td>Card</td>\n",
       "      <td>116751.6</td>\n",
       "      <td>4.761905</td>\n",
       "      <td>N5,837.58</td>\n",
       "      <td>7.4</td>\n",
       "    </tr>\n",
       "    <tr>\n",
       "      <th>2</th>\n",
       "      <td>123-19-1176</td>\n",
       "      <td>Member</td>\n",
       "      <td>M</td>\n",
       "      <td>HEALTH and Beauty</td>\n",
       "      <td>N20,959.20</td>\n",
       "      <td>8.0</td>\n",
       "      <td>8383.68</td>\n",
       "      <td>176057.28</td>\n",
       "      <td>1/27/2019</td>\n",
       "      <td>20:33</td>\n",
       "      <td>Epay</td>\n",
       "      <td>167673.6</td>\n",
       "      <td>4.761905</td>\n",
       "      <td>N8,383.68</td>\n",
       "      <td>8.4</td>\n",
       "    </tr>\n",
       "    <tr>\n",
       "      <th>3</th>\n",
       "      <td>373-73-7910</td>\n",
       "      <td>Normal</td>\n",
       "      <td>M</td>\n",
       "      <td>Sports and travel</td>\n",
       "      <td>N31,071.60</td>\n",
       "      <td>7.0</td>\n",
       "      <td>10875.06</td>\n",
       "      <td>228376.26</td>\n",
       "      <td>2/8/2019</td>\n",
       "      <td>10:37</td>\n",
       "      <td>Epay</td>\n",
       "      <td>217501.2</td>\n",
       "      <td>4.761905</td>\n",
       "      <td>N10,875.06</td>\n",
       "      <td>5.3</td>\n",
       "    </tr>\n",
       "    <tr>\n",
       "      <th>4</th>\n",
       "      <td>355-53-5943</td>\n",
       "      <td>Member</td>\n",
       "      <td>F</td>\n",
       "      <td>Electronic accessories</td>\n",
       "      <td>N24,782.40</td>\n",
       "      <td>6.0</td>\n",
       "      <td>7434.72</td>\n",
       "      <td>156129.12</td>\n",
       "      <td>2/25/2019</td>\n",
       "      <td>14:36</td>\n",
       "      <td>Epay</td>\n",
       "      <td>148694.4</td>\n",
       "      <td>4.761905</td>\n",
       "      <td>N7,434.72</td>\n",
       "      <td>5.8</td>\n",
       "    </tr>\n",
       "    <tr>\n",
       "      <th>...</th>\n",
       "      <td>...</td>\n",
       "      <td>...</td>\n",
       "      <td>...</td>\n",
       "      <td>...</td>\n",
       "      <td>...</td>\n",
       "      <td>...</td>\n",
       "      <td>...</td>\n",
       "      <td>...</td>\n",
       "      <td>...</td>\n",
       "      <td>...</td>\n",
       "      <td>...</td>\n",
       "      <td>...</td>\n",
       "      <td>...</td>\n",
       "      <td>...</td>\n",
       "      <td>...</td>\n",
       "    </tr>\n",
       "    <tr>\n",
       "      <th>994</th>\n",
       "      <td>NaN</td>\n",
       "      <td>NaN</td>\n",
       "      <td>NaN</td>\n",
       "      <td>NaN</td>\n",
       "      <td>NaN</td>\n",
       "      <td>NaN</td>\n",
       "      <td>NaN</td>\n",
       "      <td>NaN</td>\n",
       "      <td>NaN</td>\n",
       "      <td>NaN</td>\n",
       "      <td>NaN</td>\n",
       "      <td>NaN</td>\n",
       "      <td>NaN</td>\n",
       "      <td>NaN</td>\n",
       "      <td>NaN</td>\n",
       "    </tr>\n",
       "    <tr>\n",
       "      <th>995</th>\n",
       "      <td>NaN</td>\n",
       "      <td>NaN</td>\n",
       "      <td>NaN</td>\n",
       "      <td>NaN</td>\n",
       "      <td>NaN</td>\n",
       "      <td>NaN</td>\n",
       "      <td>NaN</td>\n",
       "      <td>NaN</td>\n",
       "      <td>NaN</td>\n",
       "      <td>NaN</td>\n",
       "      <td>NaN</td>\n",
       "      <td>NaN</td>\n",
       "      <td>NaN</td>\n",
       "      <td>NaN</td>\n",
       "      <td>NaN</td>\n",
       "    </tr>\n",
       "    <tr>\n",
       "      <th>996</th>\n",
       "      <td>NaN</td>\n",
       "      <td>NaN</td>\n",
       "      <td>NaN</td>\n",
       "      <td>NaN</td>\n",
       "      <td>NaN</td>\n",
       "      <td>NaN</td>\n",
       "      <td>NaN</td>\n",
       "      <td>NaN</td>\n",
       "      <td>NaN</td>\n",
       "      <td>NaN</td>\n",
       "      <td>NaN</td>\n",
       "      <td>NaN</td>\n",
       "      <td>NaN</td>\n",
       "      <td>NaN</td>\n",
       "      <td>NaN</td>\n",
       "    </tr>\n",
       "    <tr>\n",
       "      <th>997</th>\n",
       "      <td>NaN</td>\n",
       "      <td>NaN</td>\n",
       "      <td>NaN</td>\n",
       "      <td>NaN</td>\n",
       "      <td>NaN</td>\n",
       "      <td>NaN</td>\n",
       "      <td>NaN</td>\n",
       "      <td>NaN</td>\n",
       "      <td>NaN</td>\n",
       "      <td>NaN</td>\n",
       "      <td>NaN</td>\n",
       "      <td>NaN</td>\n",
       "      <td>NaN</td>\n",
       "      <td>NaN</td>\n",
       "      <td>NaN</td>\n",
       "    </tr>\n",
       "    <tr>\n",
       "      <th>998</th>\n",
       "      <td>NaN</td>\n",
       "      <td>NaN</td>\n",
       "      <td>NaN</td>\n",
       "      <td>NaN</td>\n",
       "      <td>NaN</td>\n",
       "      <td>NaN</td>\n",
       "      <td>NaN</td>\n",
       "      <td>NaN</td>\n",
       "      <td>NaN</td>\n",
       "      <td>NaN</td>\n",
       "      <td>NaN</td>\n",
       "      <td>NaN</td>\n",
       "      <td>NaN</td>\n",
       "      <td>NaN</td>\n",
       "      <td>NaN</td>\n",
       "    </tr>\n",
       "  </tbody>\n",
       "</table>\n",
       "<p>999 rows × 15 columns</p>\n",
       "</div>"
      ],
      "text/plain": [
       "      Invoice ID Customer type Gender            Product line  Unit price  \\\n",
       "0    750-67-8428        Member      F       HEALTH and Beauty  N26,888.40   \n",
       "1    631-41-3108        Normal      M      Home and lifestyle  N16,678.80   \n",
       "2    123-19-1176        Member      M       HEALTH and Beauty  N20,959.20   \n",
       "3    373-73-7910        Normal      M       Sports and travel  N31,071.60   \n",
       "4    355-53-5943        Member      F  Electronic accessories  N24,782.40   \n",
       "..           ...           ...    ...                     ...         ...   \n",
       "994          NaN           NaN    NaN                     NaN         NaN   \n",
       "995          NaN           NaN    NaN                     NaN         NaN   \n",
       "996          NaN           NaN    NaN                     NaN         NaN   \n",
       "997          NaN           NaN    NaN                     NaN         NaN   \n",
       "998          NaN           NaN    NaN                     NaN         NaN   \n",
       "\n",
       "     Quantity    Tax 5%      Total       Date   Time  Payment      cogs  \\\n",
       "0         7.0   9410.94  197629.74   1/5/2019  13:08     Epay  188218.8   \n",
       "1         7.0   5837.58  122589.18   3/3/2019  13:23     Card  116751.6   \n",
       "2         8.0   8383.68  176057.28  1/27/2019  20:33     Epay  167673.6   \n",
       "3         7.0  10875.06  228376.26   2/8/2019  10:37     Epay  217501.2   \n",
       "4         6.0   7434.72  156129.12  2/25/2019  14:36     Epay  148694.4   \n",
       "..        ...       ...        ...        ...    ...      ...       ...   \n",
       "994       NaN       NaN        NaN        NaN    NaN      NaN       NaN   \n",
       "995       NaN       NaN        NaN        NaN    NaN      NaN       NaN   \n",
       "996       NaN       NaN        NaN        NaN    NaN      NaN       NaN   \n",
       "997       NaN       NaN        NaN        NaN    NaN      NaN       NaN   \n",
       "998       NaN       NaN        NaN        NaN    NaN      NaN       NaN   \n",
       "\n",
       "     gross margin percentage gross income  Rating  \n",
       "0                   4.761905    N9,410.94     9.1  \n",
       "1                   4.761905    N5,837.58     7.4  \n",
       "2                   4.761905    N8,383.68     8.4  \n",
       "3                   4.761905   N10,875.06     5.3  \n",
       "4                   4.761905    N7,434.72     5.8  \n",
       "..                       ...          ...     ...  \n",
       "994                      NaN          NaN     NaN  \n",
       "995                      NaN          NaN     NaN  \n",
       "996                      NaN          NaN     NaN  \n",
       "997                      NaN          NaN     NaN  \n",
       "998                      NaN          NaN     NaN  \n",
       "\n",
       "[999 rows x 15 columns]"
      ]
     },
     "execution_count": 14,
     "metadata": {},
     "output_type": "execute_result"
    }
   ],
   "source": [
    "data"
   ]
  },
  {
   "cell_type": "code",
   "execution_count": 15,
   "id": "d307add6",
   "metadata": {},
   "outputs": [],
   "source": [
    "data.dropna(axis=0, inplace=True, how='all')"
   ]
  },
  {
   "cell_type": "code",
   "execution_count": 16,
   "id": "bfc367c5",
   "metadata": {},
   "outputs": [
    {
     "data": {
      "text/html": [
       "<div>\n",
       "<style scoped>\n",
       "    .dataframe tbody tr th:only-of-type {\n",
       "        vertical-align: middle;\n",
       "    }\n",
       "\n",
       "    .dataframe tbody tr th {\n",
       "        vertical-align: top;\n",
       "    }\n",
       "\n",
       "    .dataframe thead th {\n",
       "        text-align: right;\n",
       "    }\n",
       "</style>\n",
       "<table border=\"1\" class=\"dataframe\">\n",
       "  <thead>\n",
       "    <tr style=\"text-align: right;\">\n",
       "      <th></th>\n",
       "      <th>Invoice ID</th>\n",
       "      <th>Customer type</th>\n",
       "      <th>Gender</th>\n",
       "      <th>Product line</th>\n",
       "      <th>Unit price</th>\n",
       "      <th>Quantity</th>\n",
       "      <th>Tax 5%</th>\n",
       "      <th>Total</th>\n",
       "      <th>Date</th>\n",
       "      <th>Time</th>\n",
       "      <th>Payment</th>\n",
       "      <th>cogs</th>\n",
       "      <th>gross margin percentage</th>\n",
       "      <th>gross income</th>\n",
       "      <th>Rating</th>\n",
       "    </tr>\n",
       "  </thead>\n",
       "  <tbody>\n",
       "    <tr>\n",
       "      <th>0</th>\n",
       "      <td>750-67-8428</td>\n",
       "      <td>Member</td>\n",
       "      <td>F</td>\n",
       "      <td>HEALTH and Beauty</td>\n",
       "      <td>N26,888.40</td>\n",
       "      <td>7.0</td>\n",
       "      <td>9410.94</td>\n",
       "      <td>197629.74</td>\n",
       "      <td>1/5/2019</td>\n",
       "      <td>13:08</td>\n",
       "      <td>Epay</td>\n",
       "      <td>188218.8</td>\n",
       "      <td>4.761905</td>\n",
       "      <td>N9,410.94</td>\n",
       "      <td>9.1</td>\n",
       "    </tr>\n",
       "    <tr>\n",
       "      <th>1</th>\n",
       "      <td>631-41-3108</td>\n",
       "      <td>Normal</td>\n",
       "      <td>M</td>\n",
       "      <td>Home and lifestyle</td>\n",
       "      <td>N16,678.80</td>\n",
       "      <td>7.0</td>\n",
       "      <td>5837.58</td>\n",
       "      <td>122589.18</td>\n",
       "      <td>3/3/2019</td>\n",
       "      <td>13:23</td>\n",
       "      <td>Card</td>\n",
       "      <td>116751.6</td>\n",
       "      <td>4.761905</td>\n",
       "      <td>N5,837.58</td>\n",
       "      <td>7.4</td>\n",
       "    </tr>\n",
       "    <tr>\n",
       "      <th>2</th>\n",
       "      <td>123-19-1176</td>\n",
       "      <td>Member</td>\n",
       "      <td>M</td>\n",
       "      <td>HEALTH and Beauty</td>\n",
       "      <td>N20,959.20</td>\n",
       "      <td>8.0</td>\n",
       "      <td>8383.68</td>\n",
       "      <td>176057.28</td>\n",
       "      <td>1/27/2019</td>\n",
       "      <td>20:33</td>\n",
       "      <td>Epay</td>\n",
       "      <td>167673.6</td>\n",
       "      <td>4.761905</td>\n",
       "      <td>N8,383.68</td>\n",
       "      <td>8.4</td>\n",
       "    </tr>\n",
       "    <tr>\n",
       "      <th>3</th>\n",
       "      <td>373-73-7910</td>\n",
       "      <td>Normal</td>\n",
       "      <td>M</td>\n",
       "      <td>Sports and travel</td>\n",
       "      <td>N31,071.60</td>\n",
       "      <td>7.0</td>\n",
       "      <td>10875.06</td>\n",
       "      <td>228376.26</td>\n",
       "      <td>2/8/2019</td>\n",
       "      <td>10:37</td>\n",
       "      <td>Epay</td>\n",
       "      <td>217501.2</td>\n",
       "      <td>4.761905</td>\n",
       "      <td>N10,875.06</td>\n",
       "      <td>5.3</td>\n",
       "    </tr>\n",
       "    <tr>\n",
       "      <th>4</th>\n",
       "      <td>355-53-5943</td>\n",
       "      <td>Member</td>\n",
       "      <td>F</td>\n",
       "      <td>Electronic accessories</td>\n",
       "      <td>N24,782.40</td>\n",
       "      <td>6.0</td>\n",
       "      <td>7434.72</td>\n",
       "      <td>156129.12</td>\n",
       "      <td>2/25/2019</td>\n",
       "      <td>14:36</td>\n",
       "      <td>Epay</td>\n",
       "      <td>148694.4</td>\n",
       "      <td>4.761905</td>\n",
       "      <td>N7,434.72</td>\n",
       "      <td>5.8</td>\n",
       "    </tr>\n",
       "    <tr>\n",
       "      <th>...</th>\n",
       "      <td>...</td>\n",
       "      <td>...</td>\n",
       "      <td>...</td>\n",
       "      <td>...</td>\n",
       "      <td>...</td>\n",
       "      <td>...</td>\n",
       "      <td>...</td>\n",
       "      <td>...</td>\n",
       "      <td>...</td>\n",
       "      <td>...</td>\n",
       "      <td>...</td>\n",
       "      <td>...</td>\n",
       "      <td>...</td>\n",
       "      <td>...</td>\n",
       "      <td>...</td>\n",
       "    </tr>\n",
       "    <tr>\n",
       "      <th>335</th>\n",
       "      <td>886-18-2897</td>\n",
       "      <td>Normal</td>\n",
       "      <td>F</td>\n",
       "      <td>Food and beverages</td>\n",
       "      <td>N20,361.60</td>\n",
       "      <td>5.0</td>\n",
       "      <td>5090.40</td>\n",
       "      <td>106898.40</td>\n",
       "      <td>3/22/2019</td>\n",
       "      <td>19:06</td>\n",
       "      <td>Card</td>\n",
       "      <td>101808.0</td>\n",
       "      <td>4.761905</td>\n",
       "      <td>N5,090.40</td>\n",
       "      <td>4.5</td>\n",
       "    </tr>\n",
       "    <tr>\n",
       "      <th>336</th>\n",
       "      <td>745-74-0715</td>\n",
       "      <td>Normal</td>\n",
       "      <td>M</td>\n",
       "      <td>Electronic accessories</td>\n",
       "      <td>N20,890.80</td>\n",
       "      <td>2.0</td>\n",
       "      <td>2089.08</td>\n",
       "      <td>43870.68</td>\n",
       "      <td>3/10/2019</td>\n",
       "      <td>20:46</td>\n",
       "      <td>Epay</td>\n",
       "      <td>41781.6</td>\n",
       "      <td>4.761905</td>\n",
       "      <td>N2,089.08</td>\n",
       "      <td>8.8</td>\n",
       "    </tr>\n",
       "    <tr>\n",
       "      <th>337</th>\n",
       "      <td>727-02-1313</td>\n",
       "      <td>Member</td>\n",
       "      <td>M</td>\n",
       "      <td>Food and beverages</td>\n",
       "      <td>N11,462.40</td>\n",
       "      <td>1.0</td>\n",
       "      <td>573.12</td>\n",
       "      <td>12035.52</td>\n",
       "      <td>2/9/2019</td>\n",
       "      <td>13:22</td>\n",
       "      <td>Cash</td>\n",
       "      <td>11462.4</td>\n",
       "      <td>4.761905</td>\n",
       "      <td>N573.12</td>\n",
       "      <td>7.7</td>\n",
       "    </tr>\n",
       "    <tr>\n",
       "      <th>338</th>\n",
       "      <td>347-56-2442</td>\n",
       "      <td>Normal</td>\n",
       "      <td>M</td>\n",
       "      <td>Home and lifestyle</td>\n",
       "      <td>N23,695.20</td>\n",
       "      <td>1.0</td>\n",
       "      <td>1184.76</td>\n",
       "      <td>24879.96</td>\n",
       "      <td>2/22/2019</td>\n",
       "      <td>15:33</td>\n",
       "      <td>Cash</td>\n",
       "      <td>23695.2</td>\n",
       "      <td>4.761905</td>\n",
       "      <td>N1,184.76</td>\n",
       "      <td>4.1</td>\n",
       "    </tr>\n",
       "    <tr>\n",
       "      <th>339</th>\n",
       "      <td>849-09-3807</td>\n",
       "      <td>Member</td>\n",
       "      <td>F</td>\n",
       "      <td>Fashion accessories</td>\n",
       "      <td>N31,802.40</td>\n",
       "      <td>7.0</td>\n",
       "      <td>11130.84</td>\n",
       "      <td>233747.64</td>\n",
       "      <td>2/18/2019</td>\n",
       "      <td>13:28</td>\n",
       "      <td>Cash</td>\n",
       "      <td>222616.8</td>\n",
       "      <td>4.761905</td>\n",
       "      <td>N11,130.84</td>\n",
       "      <td>6.6</td>\n",
       "    </tr>\n",
       "  </tbody>\n",
       "</table>\n",
       "<p>340 rows × 15 columns</p>\n",
       "</div>"
      ],
      "text/plain": [
       "      Invoice ID Customer type Gender            Product line  Unit price  \\\n",
       "0    750-67-8428        Member      F       HEALTH and Beauty  N26,888.40   \n",
       "1    631-41-3108        Normal      M      Home and lifestyle  N16,678.80   \n",
       "2    123-19-1176        Member      M       HEALTH and Beauty  N20,959.20   \n",
       "3    373-73-7910        Normal      M       Sports and travel  N31,071.60   \n",
       "4    355-53-5943        Member      F  Electronic accessories  N24,782.40   \n",
       "..           ...           ...    ...                     ...         ...   \n",
       "335  886-18-2897        Normal      F      Food and beverages  N20,361.60   \n",
       "336  745-74-0715        Normal      M  Electronic accessories  N20,890.80   \n",
       "337  727-02-1313        Member      M      Food and beverages  N11,462.40   \n",
       "338  347-56-2442        Normal      M      Home and lifestyle  N23,695.20   \n",
       "339  849-09-3807        Member      F     Fashion accessories  N31,802.40   \n",
       "\n",
       "     Quantity    Tax 5%      Total       Date   Time  Payment      cogs  \\\n",
       "0         7.0   9410.94  197629.74   1/5/2019  13:08     Epay  188218.8   \n",
       "1         7.0   5837.58  122589.18   3/3/2019  13:23     Card  116751.6   \n",
       "2         8.0   8383.68  176057.28  1/27/2019  20:33     Epay  167673.6   \n",
       "3         7.0  10875.06  228376.26   2/8/2019  10:37     Epay  217501.2   \n",
       "4         6.0   7434.72  156129.12  2/25/2019  14:36     Epay  148694.4   \n",
       "..        ...       ...        ...        ...    ...      ...       ...   \n",
       "335       5.0   5090.40  106898.40  3/22/2019  19:06     Card  101808.0   \n",
       "336       2.0   2089.08   43870.68  3/10/2019  20:46     Epay   41781.6   \n",
       "337       1.0    573.12   12035.52   2/9/2019  13:22     Cash   11462.4   \n",
       "338       1.0   1184.76   24879.96  2/22/2019  15:33     Cash   23695.2   \n",
       "339       7.0  11130.84  233747.64  2/18/2019  13:28     Cash  222616.8   \n",
       "\n",
       "     gross margin percentage gross income  Rating  \n",
       "0                   4.761905    N9,410.94     9.1  \n",
       "1                   4.761905    N5,837.58     7.4  \n",
       "2                   4.761905    N8,383.68     8.4  \n",
       "3                   4.761905   N10,875.06     5.3  \n",
       "4                   4.761905    N7,434.72     5.8  \n",
       "..                       ...          ...     ...  \n",
       "335                 4.761905    N5,090.40     4.5  \n",
       "336                 4.761905    N2,089.08     8.8  \n",
       "337                 4.761905      N573.12     7.7  \n",
       "338                 4.761905    N1,184.76     4.1  \n",
       "339                 4.761905   N11,130.84     6.6  \n",
       "\n",
       "[340 rows x 15 columns]"
      ]
     },
     "execution_count": 16,
     "metadata": {},
     "output_type": "execute_result"
    }
   ],
   "source": [
    "data"
   ]
  },
  {
   "cell_type": "code",
   "execution_count": 17,
   "id": "d0235fa6",
   "metadata": {},
   "outputs": [
    {
     "data": {
      "text/plain": [
       "0"
      ]
     },
     "execution_count": 17,
     "metadata": {},
     "output_type": "execute_result"
    }
   ],
   "source": [
    "data.duplicated().sum()"
   ]
  },
  {
   "cell_type": "code",
   "execution_count": 18,
   "id": "d91b0174",
   "metadata": {},
   "outputs": [],
   "source": [
    "data['Gender'] = data['Gender'].replace({'F':'Female', 'M':'Male'}) # variable re-assignment"
   ]
  },
  {
   "cell_type": "code",
   "execution_count": 19,
   "id": "f2a270cf",
   "metadata": {},
   "outputs": [
    {
     "data": {
      "text/plain": [
       "0      Female\n",
       "1        Male\n",
       "2        Male\n",
       "3        Male\n",
       "4      Female\n",
       "        ...  \n",
       "335    Female\n",
       "336      Male\n",
       "337      Male\n",
       "338      Male\n",
       "339    Female\n",
       "Name: Gender, Length: 340, dtype: object"
      ]
     },
     "execution_count": 19,
     "metadata": {},
     "output_type": "execute_result"
    }
   ],
   "source": [
    "data['Gender']"
   ]
  },
  {
   "cell_type": "code",
   "execution_count": 20,
   "id": "410983de",
   "metadata": {},
   "outputs": [
    {
     "data": {
      "text/html": [
       "<div>\n",
       "<style scoped>\n",
       "    .dataframe tbody tr th:only-of-type {\n",
       "        vertical-align: middle;\n",
       "    }\n",
       "\n",
       "    .dataframe tbody tr th {\n",
       "        vertical-align: top;\n",
       "    }\n",
       "\n",
       "    .dataframe thead th {\n",
       "        text-align: right;\n",
       "    }\n",
       "</style>\n",
       "<table border=\"1\" class=\"dataframe\">\n",
       "  <thead>\n",
       "    <tr style=\"text-align: right;\">\n",
       "      <th></th>\n",
       "      <th>Invoice ID</th>\n",
       "      <th>Customer type</th>\n",
       "      <th>Gender</th>\n",
       "      <th>Product line</th>\n",
       "      <th>Unit price</th>\n",
       "      <th>Quantity</th>\n",
       "      <th>Tax 5%</th>\n",
       "      <th>Total</th>\n",
       "      <th>Date</th>\n",
       "      <th>Time</th>\n",
       "      <th>Payment</th>\n",
       "      <th>cogs</th>\n",
       "      <th>gross margin percentage</th>\n",
       "      <th>gross income</th>\n",
       "      <th>Rating</th>\n",
       "    </tr>\n",
       "  </thead>\n",
       "  <tbody>\n",
       "    <tr>\n",
       "      <th>0</th>\n",
       "      <td>750-67-8428</td>\n",
       "      <td>Member</td>\n",
       "      <td>Female</td>\n",
       "      <td>HEALTH and Beauty</td>\n",
       "      <td>N26,888.40</td>\n",
       "      <td>7.0</td>\n",
       "      <td>9410.94</td>\n",
       "      <td>197629.74</td>\n",
       "      <td>1/5/2019</td>\n",
       "      <td>13:08</td>\n",
       "      <td>Epay</td>\n",
       "      <td>188218.8</td>\n",
       "      <td>4.761905</td>\n",
       "      <td>N9,410.94</td>\n",
       "      <td>9.1</td>\n",
       "    </tr>\n",
       "    <tr>\n",
       "      <th>1</th>\n",
       "      <td>631-41-3108</td>\n",
       "      <td>Normal</td>\n",
       "      <td>Male</td>\n",
       "      <td>Home and lifestyle</td>\n",
       "      <td>N16,678.80</td>\n",
       "      <td>7.0</td>\n",
       "      <td>5837.58</td>\n",
       "      <td>122589.18</td>\n",
       "      <td>3/3/2019</td>\n",
       "      <td>13:23</td>\n",
       "      <td>Card</td>\n",
       "      <td>116751.6</td>\n",
       "      <td>4.761905</td>\n",
       "      <td>N5,837.58</td>\n",
       "      <td>7.4</td>\n",
       "    </tr>\n",
       "    <tr>\n",
       "      <th>2</th>\n",
       "      <td>123-19-1176</td>\n",
       "      <td>Member</td>\n",
       "      <td>Male</td>\n",
       "      <td>HEALTH and Beauty</td>\n",
       "      <td>N20,959.20</td>\n",
       "      <td>8.0</td>\n",
       "      <td>8383.68</td>\n",
       "      <td>176057.28</td>\n",
       "      <td>1/27/2019</td>\n",
       "      <td>20:33</td>\n",
       "      <td>Epay</td>\n",
       "      <td>167673.6</td>\n",
       "      <td>4.761905</td>\n",
       "      <td>N8,383.68</td>\n",
       "      <td>8.4</td>\n",
       "    </tr>\n",
       "    <tr>\n",
       "      <th>3</th>\n",
       "      <td>373-73-7910</td>\n",
       "      <td>Normal</td>\n",
       "      <td>Male</td>\n",
       "      <td>Sports and travel</td>\n",
       "      <td>N31,071.60</td>\n",
       "      <td>7.0</td>\n",
       "      <td>10875.06</td>\n",
       "      <td>228376.26</td>\n",
       "      <td>2/8/2019</td>\n",
       "      <td>10:37</td>\n",
       "      <td>Epay</td>\n",
       "      <td>217501.2</td>\n",
       "      <td>4.761905</td>\n",
       "      <td>N10,875.06</td>\n",
       "      <td>5.3</td>\n",
       "    </tr>\n",
       "    <tr>\n",
       "      <th>4</th>\n",
       "      <td>355-53-5943</td>\n",
       "      <td>Member</td>\n",
       "      <td>Female</td>\n",
       "      <td>Electronic accessories</td>\n",
       "      <td>N24,782.40</td>\n",
       "      <td>6.0</td>\n",
       "      <td>7434.72</td>\n",
       "      <td>156129.12</td>\n",
       "      <td>2/25/2019</td>\n",
       "      <td>14:36</td>\n",
       "      <td>Epay</td>\n",
       "      <td>148694.4</td>\n",
       "      <td>4.761905</td>\n",
       "      <td>N7,434.72</td>\n",
       "      <td>5.8</td>\n",
       "    </tr>\n",
       "  </tbody>\n",
       "</table>\n",
       "</div>"
      ],
      "text/plain": [
       "    Invoice ID Customer type  Gender            Product line  Unit price  \\\n",
       "0  750-67-8428        Member  Female       HEALTH and Beauty  N26,888.40   \n",
       "1  631-41-3108        Normal    Male      Home and lifestyle  N16,678.80   \n",
       "2  123-19-1176        Member    Male       HEALTH and Beauty  N20,959.20   \n",
       "3  373-73-7910        Normal    Male       Sports and travel  N31,071.60   \n",
       "4  355-53-5943        Member  Female  Electronic accessories  N24,782.40   \n",
       "\n",
       "   Quantity    Tax 5%      Total       Date   Time  Payment      cogs  \\\n",
       "0       7.0   9410.94  197629.74   1/5/2019  13:08     Epay  188218.8   \n",
       "1       7.0   5837.58  122589.18   3/3/2019  13:23     Card  116751.6   \n",
       "2       8.0   8383.68  176057.28  1/27/2019  20:33     Epay  167673.6   \n",
       "3       7.0  10875.06  228376.26   2/8/2019  10:37     Epay  217501.2   \n",
       "4       6.0   7434.72  156129.12  2/25/2019  14:36     Epay  148694.4   \n",
       "\n",
       "   gross margin percentage gross income  Rating  \n",
       "0                 4.761905    N9,410.94     9.1  \n",
       "1                 4.761905    N5,837.58     7.4  \n",
       "2                 4.761905    N8,383.68     8.4  \n",
       "3                 4.761905   N10,875.06     5.3  \n",
       "4                 4.761905    N7,434.72     5.8  "
      ]
     },
     "execution_count": 20,
     "metadata": {},
     "output_type": "execute_result"
    }
   ],
   "source": [
    "data.head()"
   ]
  },
  {
   "cell_type": "code",
   "execution_count": 21,
   "id": "718dbf5f",
   "metadata": {},
   "outputs": [
    {
     "data": {
      "text/plain": [
       "Gender\n",
       "Male        179\n",
       "Female      159\n",
       "feminine      2\n",
       "Name: count, dtype: int64"
      ]
     },
     "execution_count": 21,
     "metadata": {},
     "output_type": "execute_result"
    }
   ],
   "source": [
    "data['Gender'].value_counts()"
   ]
  },
  {
   "cell_type": "code",
   "execution_count": 22,
   "id": "e508e457",
   "metadata": {},
   "outputs": [],
   "source": [
    "data['Gender'] = data['Gender'].replace({'feminine': 'Female'})"
   ]
  },
  {
   "cell_type": "code",
   "execution_count": 23,
   "id": "f1f32cd6",
   "metadata": {},
   "outputs": [
    {
     "data": {
      "text/plain": [
       "Gender\n",
       "Male      179\n",
       "Female    161\n",
       "Name: count, dtype: int64"
      ]
     },
     "execution_count": 23,
     "metadata": {},
     "output_type": "execute_result"
    }
   ],
   "source": [
    "data['Gender'].value_counts()"
   ]
  },
  {
   "cell_type": "markdown",
   "id": "17ba41c4",
   "metadata": {},
   "source": [
    "Apprx 53% of our customers are of the male gender"
   ]
  },
  {
   "cell_type": "code",
   "execution_count": 24,
   "id": "d78ed668",
   "metadata": {},
   "outputs": [],
   "source": [
    "data['Unit price'] = data['Unit price'].str[1:]"
   ]
  },
  {
   "cell_type": "code",
   "execution_count": 25,
   "id": "951b416c",
   "metadata": {},
   "outputs": [],
   "source": [
    "data['gross income'] = data['gross income'].str[1:]"
   ]
  },
  {
   "cell_type": "code",
   "execution_count": 26,
   "id": "47359de8",
   "metadata": {},
   "outputs": [
    {
     "data": {
      "text/html": [
       "<div>\n",
       "<style scoped>\n",
       "    .dataframe tbody tr th:only-of-type {\n",
       "        vertical-align: middle;\n",
       "    }\n",
       "\n",
       "    .dataframe tbody tr th {\n",
       "        vertical-align: top;\n",
       "    }\n",
       "\n",
       "    .dataframe thead th {\n",
       "        text-align: right;\n",
       "    }\n",
       "</style>\n",
       "<table border=\"1\" class=\"dataframe\">\n",
       "  <thead>\n",
       "    <tr style=\"text-align: right;\">\n",
       "      <th></th>\n",
       "      <th>Invoice ID</th>\n",
       "      <th>Customer type</th>\n",
       "      <th>Gender</th>\n",
       "      <th>Product line</th>\n",
       "      <th>Unit price</th>\n",
       "      <th>Quantity</th>\n",
       "      <th>Tax 5%</th>\n",
       "      <th>Total</th>\n",
       "      <th>Date</th>\n",
       "      <th>Time</th>\n",
       "      <th>Payment</th>\n",
       "      <th>cogs</th>\n",
       "      <th>gross margin percentage</th>\n",
       "      <th>gross income</th>\n",
       "      <th>Rating</th>\n",
       "    </tr>\n",
       "  </thead>\n",
       "  <tbody>\n",
       "    <tr>\n",
       "      <th>0</th>\n",
       "      <td>750-67-8428</td>\n",
       "      <td>Member</td>\n",
       "      <td>Female</td>\n",
       "      <td>HEALTH and Beauty</td>\n",
       "      <td>26,888.40</td>\n",
       "      <td>7.0</td>\n",
       "      <td>9410.94</td>\n",
       "      <td>197629.74</td>\n",
       "      <td>1/5/2019</td>\n",
       "      <td>13:08</td>\n",
       "      <td>Epay</td>\n",
       "      <td>188218.8</td>\n",
       "      <td>4.761905</td>\n",
       "      <td>9,410.94</td>\n",
       "      <td>9.1</td>\n",
       "    </tr>\n",
       "    <tr>\n",
       "      <th>1</th>\n",
       "      <td>631-41-3108</td>\n",
       "      <td>Normal</td>\n",
       "      <td>Male</td>\n",
       "      <td>Home and lifestyle</td>\n",
       "      <td>16,678.80</td>\n",
       "      <td>7.0</td>\n",
       "      <td>5837.58</td>\n",
       "      <td>122589.18</td>\n",
       "      <td>3/3/2019</td>\n",
       "      <td>13:23</td>\n",
       "      <td>Card</td>\n",
       "      <td>116751.6</td>\n",
       "      <td>4.761905</td>\n",
       "      <td>5,837.58</td>\n",
       "      <td>7.4</td>\n",
       "    </tr>\n",
       "    <tr>\n",
       "      <th>2</th>\n",
       "      <td>123-19-1176</td>\n",
       "      <td>Member</td>\n",
       "      <td>Male</td>\n",
       "      <td>HEALTH and Beauty</td>\n",
       "      <td>20,959.20</td>\n",
       "      <td>8.0</td>\n",
       "      <td>8383.68</td>\n",
       "      <td>176057.28</td>\n",
       "      <td>1/27/2019</td>\n",
       "      <td>20:33</td>\n",
       "      <td>Epay</td>\n",
       "      <td>167673.6</td>\n",
       "      <td>4.761905</td>\n",
       "      <td>8,383.68</td>\n",
       "      <td>8.4</td>\n",
       "    </tr>\n",
       "    <tr>\n",
       "      <th>3</th>\n",
       "      <td>373-73-7910</td>\n",
       "      <td>Normal</td>\n",
       "      <td>Male</td>\n",
       "      <td>Sports and travel</td>\n",
       "      <td>31,071.60</td>\n",
       "      <td>7.0</td>\n",
       "      <td>10875.06</td>\n",
       "      <td>228376.26</td>\n",
       "      <td>2/8/2019</td>\n",
       "      <td>10:37</td>\n",
       "      <td>Epay</td>\n",
       "      <td>217501.2</td>\n",
       "      <td>4.761905</td>\n",
       "      <td>10,875.06</td>\n",
       "      <td>5.3</td>\n",
       "    </tr>\n",
       "    <tr>\n",
       "      <th>4</th>\n",
       "      <td>355-53-5943</td>\n",
       "      <td>Member</td>\n",
       "      <td>Female</td>\n",
       "      <td>Electronic accessories</td>\n",
       "      <td>24,782.40</td>\n",
       "      <td>6.0</td>\n",
       "      <td>7434.72</td>\n",
       "      <td>156129.12</td>\n",
       "      <td>2/25/2019</td>\n",
       "      <td>14:36</td>\n",
       "      <td>Epay</td>\n",
       "      <td>148694.4</td>\n",
       "      <td>4.761905</td>\n",
       "      <td>7,434.72</td>\n",
       "      <td>5.8</td>\n",
       "    </tr>\n",
       "  </tbody>\n",
       "</table>\n",
       "</div>"
      ],
      "text/plain": [
       "    Invoice ID Customer type  Gender            Product line Unit price  \\\n",
       "0  750-67-8428        Member  Female       HEALTH and Beauty  26,888.40   \n",
       "1  631-41-3108        Normal    Male      Home and lifestyle  16,678.80   \n",
       "2  123-19-1176        Member    Male       HEALTH and Beauty  20,959.20   \n",
       "3  373-73-7910        Normal    Male       Sports and travel  31,071.60   \n",
       "4  355-53-5943        Member  Female  Electronic accessories  24,782.40   \n",
       "\n",
       "   Quantity    Tax 5%      Total       Date   Time  Payment      cogs  \\\n",
       "0       7.0   9410.94  197629.74   1/5/2019  13:08     Epay  188218.8   \n",
       "1       7.0   5837.58  122589.18   3/3/2019  13:23     Card  116751.6   \n",
       "2       8.0   8383.68  176057.28  1/27/2019  20:33     Epay  167673.6   \n",
       "3       7.0  10875.06  228376.26   2/8/2019  10:37     Epay  217501.2   \n",
       "4       6.0   7434.72  156129.12  2/25/2019  14:36     Epay  148694.4   \n",
       "\n",
       "   gross margin percentage gross income  Rating  \n",
       "0                 4.761905     9,410.94     9.1  \n",
       "1                 4.761905     5,837.58     7.4  \n",
       "2                 4.761905     8,383.68     8.4  \n",
       "3                 4.761905    10,875.06     5.3  \n",
       "4                 4.761905     7,434.72     5.8  "
      ]
     },
     "execution_count": 26,
     "metadata": {},
     "output_type": "execute_result"
    }
   ],
   "source": [
    "data.head()"
   ]
  },
  {
   "cell_type": "code",
   "execution_count": 27,
   "id": "b5fa9f41",
   "metadata": {},
   "outputs": [],
   "source": [
    "# rename columns to include currency symbol\n",
    "\n",
    "data.rename(columns={'Unit price': 'Unit price (N)}', 'gross income': 'gross income (N)'}, inplace=True)"
   ]
  },
  {
   "cell_type": "code",
   "execution_count": 28,
   "id": "5279c15d",
   "metadata": {},
   "outputs": [],
   "source": [
    "data.rename(columns={'Unit price (N)}': 'Unit price (N)'}, inplace=True)"
   ]
  },
  {
   "cell_type": "code",
   "execution_count": 29,
   "id": "07fa15c0",
   "metadata": {},
   "outputs": [
    {
     "name": "stdout",
     "output_type": "stream",
     "text": [
      "<class 'pandas.core.frame.DataFrame'>\n",
      "Index: 340 entries, 0 to 339\n",
      "Data columns (total 15 columns):\n",
      " #   Column                   Non-Null Count  Dtype  \n",
      "---  ------                   --------------  -----  \n",
      " 0   Invoice ID               340 non-null    object \n",
      " 1   Customer type            340 non-null    object \n",
      " 2   Gender                   340 non-null    object \n",
      " 3   Product line             340 non-null    object \n",
      " 4   Unit price (N)           340 non-null    object \n",
      " 5   Quantity                 340 non-null    float64\n",
      " 6   Tax 5%                   340 non-null    float64\n",
      " 7   Total                    340 non-null    float64\n",
      " 8   Date                     340 non-null    object \n",
      " 9   Time                     340 non-null    object \n",
      " 10  Payment                  340 non-null    object \n",
      " 11  cogs                     340 non-null    float64\n",
      " 12  gross margin percentage  340 non-null    float64\n",
      " 13  gross income (N)         340 non-null    object \n",
      " 14  Rating                   340 non-null    float64\n",
      "dtypes: float64(6), object(9)\n",
      "memory usage: 42.5+ KB\n"
     ]
    }
   ],
   "source": [
    "data.info()"
   ]
  },
  {
   "cell_type": "code",
   "execution_count": 30,
   "id": "facaaad6",
   "metadata": {},
   "outputs": [],
   "source": [
    "data['Unit price (N)'] = data['Unit price (N)'].str.replace(',','')"
   ]
  },
  {
   "cell_type": "code",
   "execution_count": 31,
   "id": "b9eef926",
   "metadata": {},
   "outputs": [],
   "source": [
    "data['gross income (N)'] = data['gross income (N)'].str.replace(',', '')"
   ]
  },
  {
   "cell_type": "code",
   "execution_count": 32,
   "id": "5cd3f478",
   "metadata": {},
   "outputs": [
    {
     "data": {
      "text/html": [
       "<div>\n",
       "<style scoped>\n",
       "    .dataframe tbody tr th:only-of-type {\n",
       "        vertical-align: middle;\n",
       "    }\n",
       "\n",
       "    .dataframe tbody tr th {\n",
       "        vertical-align: top;\n",
       "    }\n",
       "\n",
       "    .dataframe thead th {\n",
       "        text-align: right;\n",
       "    }\n",
       "</style>\n",
       "<table border=\"1\" class=\"dataframe\">\n",
       "  <thead>\n",
       "    <tr style=\"text-align: right;\">\n",
       "      <th></th>\n",
       "      <th>Invoice ID</th>\n",
       "      <th>Customer type</th>\n",
       "      <th>Gender</th>\n",
       "      <th>Product line</th>\n",
       "      <th>Unit price (N)</th>\n",
       "      <th>Quantity</th>\n",
       "      <th>Tax 5%</th>\n",
       "      <th>Total</th>\n",
       "      <th>Date</th>\n",
       "      <th>Time</th>\n",
       "      <th>Payment</th>\n",
       "      <th>cogs</th>\n",
       "      <th>gross margin percentage</th>\n",
       "      <th>gross income (N)</th>\n",
       "      <th>Rating</th>\n",
       "    </tr>\n",
       "  </thead>\n",
       "  <tbody>\n",
       "    <tr>\n",
       "      <th>0</th>\n",
       "      <td>750-67-8428</td>\n",
       "      <td>Member</td>\n",
       "      <td>Female</td>\n",
       "      <td>HEALTH and Beauty</td>\n",
       "      <td>26888.40</td>\n",
       "      <td>7.0</td>\n",
       "      <td>9410.94</td>\n",
       "      <td>197629.74</td>\n",
       "      <td>1/5/2019</td>\n",
       "      <td>13:08</td>\n",
       "      <td>Epay</td>\n",
       "      <td>188218.8</td>\n",
       "      <td>4.761905</td>\n",
       "      <td>9410.94</td>\n",
       "      <td>9.1</td>\n",
       "    </tr>\n",
       "    <tr>\n",
       "      <th>1</th>\n",
       "      <td>631-41-3108</td>\n",
       "      <td>Normal</td>\n",
       "      <td>Male</td>\n",
       "      <td>Home and lifestyle</td>\n",
       "      <td>16678.80</td>\n",
       "      <td>7.0</td>\n",
       "      <td>5837.58</td>\n",
       "      <td>122589.18</td>\n",
       "      <td>3/3/2019</td>\n",
       "      <td>13:23</td>\n",
       "      <td>Card</td>\n",
       "      <td>116751.6</td>\n",
       "      <td>4.761905</td>\n",
       "      <td>5837.58</td>\n",
       "      <td>7.4</td>\n",
       "    </tr>\n",
       "    <tr>\n",
       "      <th>2</th>\n",
       "      <td>123-19-1176</td>\n",
       "      <td>Member</td>\n",
       "      <td>Male</td>\n",
       "      <td>HEALTH and Beauty</td>\n",
       "      <td>20959.20</td>\n",
       "      <td>8.0</td>\n",
       "      <td>8383.68</td>\n",
       "      <td>176057.28</td>\n",
       "      <td>1/27/2019</td>\n",
       "      <td>20:33</td>\n",
       "      <td>Epay</td>\n",
       "      <td>167673.6</td>\n",
       "      <td>4.761905</td>\n",
       "      <td>8383.68</td>\n",
       "      <td>8.4</td>\n",
       "    </tr>\n",
       "    <tr>\n",
       "      <th>3</th>\n",
       "      <td>373-73-7910</td>\n",
       "      <td>Normal</td>\n",
       "      <td>Male</td>\n",
       "      <td>Sports and travel</td>\n",
       "      <td>31071.60</td>\n",
       "      <td>7.0</td>\n",
       "      <td>10875.06</td>\n",
       "      <td>228376.26</td>\n",
       "      <td>2/8/2019</td>\n",
       "      <td>10:37</td>\n",
       "      <td>Epay</td>\n",
       "      <td>217501.2</td>\n",
       "      <td>4.761905</td>\n",
       "      <td>10875.06</td>\n",
       "      <td>5.3</td>\n",
       "    </tr>\n",
       "    <tr>\n",
       "      <th>4</th>\n",
       "      <td>355-53-5943</td>\n",
       "      <td>Member</td>\n",
       "      <td>Female</td>\n",
       "      <td>Electronic accessories</td>\n",
       "      <td>24782.40</td>\n",
       "      <td>6.0</td>\n",
       "      <td>7434.72</td>\n",
       "      <td>156129.12</td>\n",
       "      <td>2/25/2019</td>\n",
       "      <td>14:36</td>\n",
       "      <td>Epay</td>\n",
       "      <td>148694.4</td>\n",
       "      <td>4.761905</td>\n",
       "      <td>7434.72</td>\n",
       "      <td>5.8</td>\n",
       "    </tr>\n",
       "  </tbody>\n",
       "</table>\n",
       "</div>"
      ],
      "text/plain": [
       "    Invoice ID Customer type  Gender            Product line Unit price (N)  \\\n",
       "0  750-67-8428        Member  Female       HEALTH and Beauty       26888.40   \n",
       "1  631-41-3108        Normal    Male      Home and lifestyle       16678.80   \n",
       "2  123-19-1176        Member    Male       HEALTH and Beauty       20959.20   \n",
       "3  373-73-7910        Normal    Male       Sports and travel       31071.60   \n",
       "4  355-53-5943        Member  Female  Electronic accessories       24782.40   \n",
       "\n",
       "   Quantity    Tax 5%      Total       Date   Time  Payment      cogs  \\\n",
       "0       7.0   9410.94  197629.74   1/5/2019  13:08     Epay  188218.8   \n",
       "1       7.0   5837.58  122589.18   3/3/2019  13:23     Card  116751.6   \n",
       "2       8.0   8383.68  176057.28  1/27/2019  20:33     Epay  167673.6   \n",
       "3       7.0  10875.06  228376.26   2/8/2019  10:37     Epay  217501.2   \n",
       "4       6.0   7434.72  156129.12  2/25/2019  14:36     Epay  148694.4   \n",
       "\n",
       "   gross margin percentage gross income (N)  Rating  \n",
       "0                 4.761905          9410.94     9.1  \n",
       "1                 4.761905          5837.58     7.4  \n",
       "2                 4.761905          8383.68     8.4  \n",
       "3                 4.761905         10875.06     5.3  \n",
       "4                 4.761905          7434.72     5.8  "
      ]
     },
     "execution_count": 32,
     "metadata": {},
     "output_type": "execute_result"
    }
   ],
   "source": [
    "data.head()"
   ]
  },
  {
   "cell_type": "code",
   "execution_count": 33,
   "id": "aa3efea9",
   "metadata": {},
   "outputs": [],
   "source": [
    "data['Unit price (N)'] = data['Unit price (N)'].astype('float64')"
   ]
  },
  {
   "cell_type": "code",
   "execution_count": 34,
   "id": "a87bda48",
   "metadata": {},
   "outputs": [],
   "source": [
    "data['gross income (N)'] = data['gross income (N)'].astype('float64')"
   ]
  },
  {
   "cell_type": "code",
   "execution_count": 35,
   "id": "6aed5748",
   "metadata": {},
   "outputs": [
    {
     "name": "stdout",
     "output_type": "stream",
     "text": [
      "<class 'pandas.core.frame.DataFrame'>\n",
      "Index: 340 entries, 0 to 339\n",
      "Data columns (total 15 columns):\n",
      " #   Column                   Non-Null Count  Dtype  \n",
      "---  ------                   --------------  -----  \n",
      " 0   Invoice ID               340 non-null    object \n",
      " 1   Customer type            340 non-null    object \n",
      " 2   Gender                   340 non-null    object \n",
      " 3   Product line             340 non-null    object \n",
      " 4   Unit price (N)           340 non-null    float64\n",
      " 5   Quantity                 340 non-null    float64\n",
      " 6   Tax 5%                   340 non-null    float64\n",
      " 7   Total                    340 non-null    float64\n",
      " 8   Date                     340 non-null    object \n",
      " 9   Time                     340 non-null    object \n",
      " 10  Payment                  340 non-null    object \n",
      " 11  cogs                     340 non-null    float64\n",
      " 12  gross margin percentage  340 non-null    float64\n",
      " 13  gross income (N)         340 non-null    float64\n",
      " 14  Rating                   340 non-null    float64\n",
      "dtypes: float64(8), object(7)\n",
      "memory usage: 42.5+ KB\n"
     ]
    }
   ],
   "source": [
    "data.info()"
   ]
  },
  {
   "cell_type": "code",
   "execution_count": 36,
   "id": "98e07ba5",
   "metadata": {},
   "outputs": [],
   "source": [
    "data['Date'] = pd.to_datetime(data['Date'])"
   ]
  },
  {
   "cell_type": "code",
   "execution_count": 37,
   "id": "4ed9b084",
   "metadata": {},
   "outputs": [
    {
     "name": "stdout",
     "output_type": "stream",
     "text": [
      "<class 'pandas.core.frame.DataFrame'>\n",
      "Index: 340 entries, 0 to 339\n",
      "Data columns (total 15 columns):\n",
      " #   Column                   Non-Null Count  Dtype         \n",
      "---  ------                   --------------  -----         \n",
      " 0   Invoice ID               340 non-null    object        \n",
      " 1   Customer type            340 non-null    object        \n",
      " 2   Gender                   340 non-null    object        \n",
      " 3   Product line             340 non-null    object        \n",
      " 4   Unit price (N)           340 non-null    float64       \n",
      " 5   Quantity                 340 non-null    float64       \n",
      " 6   Tax 5%                   340 non-null    float64       \n",
      " 7   Total                    340 non-null    float64       \n",
      " 8   Date                     340 non-null    datetime64[ns]\n",
      " 9   Time                     340 non-null    object        \n",
      " 10  Payment                  340 non-null    object        \n",
      " 11  cogs                     340 non-null    float64       \n",
      " 12  gross margin percentage  340 non-null    float64       \n",
      " 13  gross income (N)         340 non-null    float64       \n",
      " 14  Rating                   340 non-null    float64       \n",
      "dtypes: datetime64[ns](1), float64(8), object(6)\n",
      "memory usage: 42.5+ KB\n"
     ]
    }
   ],
   "source": [
    "data.info()"
   ]
  },
  {
   "cell_type": "code",
   "execution_count": 38,
   "id": "d6f1bdcd",
   "metadata": {},
   "outputs": [],
   "source": [
    "def categorize_rating(x):\n",
    "    if x >= 8:\n",
    "        return 'High'\n",
    "    elif x >= 5 and x < 8:\n",
    "        return 'Medium'\n",
    "    else:\n",
    "        return 'Low'\n",
    "\n",
    "data['Rating Category'] = data['Rating'].apply(categorize_rating)"
   ]
  },
  {
   "cell_type": "code",
   "execution_count": 39,
   "id": "bf695d6b",
   "metadata": {},
   "outputs": [
    {
     "data": {
      "text/html": [
       "<div>\n",
       "<style scoped>\n",
       "    .dataframe tbody tr th:only-of-type {\n",
       "        vertical-align: middle;\n",
       "    }\n",
       "\n",
       "    .dataframe tbody tr th {\n",
       "        vertical-align: top;\n",
       "    }\n",
       "\n",
       "    .dataframe thead th {\n",
       "        text-align: right;\n",
       "    }\n",
       "</style>\n",
       "<table border=\"1\" class=\"dataframe\">\n",
       "  <thead>\n",
       "    <tr style=\"text-align: right;\">\n",
       "      <th></th>\n",
       "      <th>Invoice ID</th>\n",
       "      <th>Customer type</th>\n",
       "      <th>Gender</th>\n",
       "      <th>Product line</th>\n",
       "      <th>Unit price (N)</th>\n",
       "      <th>Quantity</th>\n",
       "      <th>Tax 5%</th>\n",
       "      <th>Total</th>\n",
       "      <th>Date</th>\n",
       "      <th>Time</th>\n",
       "      <th>Payment</th>\n",
       "      <th>cogs</th>\n",
       "      <th>gross margin percentage</th>\n",
       "      <th>gross income (N)</th>\n",
       "      <th>Rating</th>\n",
       "      <th>Rating Category</th>\n",
       "    </tr>\n",
       "  </thead>\n",
       "  <tbody>\n",
       "    <tr>\n",
       "      <th>0</th>\n",
       "      <td>750-67-8428</td>\n",
       "      <td>Member</td>\n",
       "      <td>Female</td>\n",
       "      <td>HEALTH and Beauty</td>\n",
       "      <td>26888.4</td>\n",
       "      <td>7.0</td>\n",
       "      <td>9410.94</td>\n",
       "      <td>197629.74</td>\n",
       "      <td>2019-01-05</td>\n",
       "      <td>13:08</td>\n",
       "      <td>Epay</td>\n",
       "      <td>188218.8</td>\n",
       "      <td>4.761905</td>\n",
       "      <td>9410.94</td>\n",
       "      <td>9.1</td>\n",
       "      <td>High</td>\n",
       "    </tr>\n",
       "    <tr>\n",
       "      <th>1</th>\n",
       "      <td>631-41-3108</td>\n",
       "      <td>Normal</td>\n",
       "      <td>Male</td>\n",
       "      <td>Home and lifestyle</td>\n",
       "      <td>16678.8</td>\n",
       "      <td>7.0</td>\n",
       "      <td>5837.58</td>\n",
       "      <td>122589.18</td>\n",
       "      <td>2019-03-03</td>\n",
       "      <td>13:23</td>\n",
       "      <td>Card</td>\n",
       "      <td>116751.6</td>\n",
       "      <td>4.761905</td>\n",
       "      <td>5837.58</td>\n",
       "      <td>7.4</td>\n",
       "      <td>Medium</td>\n",
       "    </tr>\n",
       "    <tr>\n",
       "      <th>2</th>\n",
       "      <td>123-19-1176</td>\n",
       "      <td>Member</td>\n",
       "      <td>Male</td>\n",
       "      <td>HEALTH and Beauty</td>\n",
       "      <td>20959.2</td>\n",
       "      <td>8.0</td>\n",
       "      <td>8383.68</td>\n",
       "      <td>176057.28</td>\n",
       "      <td>2019-01-27</td>\n",
       "      <td>20:33</td>\n",
       "      <td>Epay</td>\n",
       "      <td>167673.6</td>\n",
       "      <td>4.761905</td>\n",
       "      <td>8383.68</td>\n",
       "      <td>8.4</td>\n",
       "      <td>High</td>\n",
       "    </tr>\n",
       "    <tr>\n",
       "      <th>3</th>\n",
       "      <td>373-73-7910</td>\n",
       "      <td>Normal</td>\n",
       "      <td>Male</td>\n",
       "      <td>Sports and travel</td>\n",
       "      <td>31071.6</td>\n",
       "      <td>7.0</td>\n",
       "      <td>10875.06</td>\n",
       "      <td>228376.26</td>\n",
       "      <td>2019-02-08</td>\n",
       "      <td>10:37</td>\n",
       "      <td>Epay</td>\n",
       "      <td>217501.2</td>\n",
       "      <td>4.761905</td>\n",
       "      <td>10875.06</td>\n",
       "      <td>5.3</td>\n",
       "      <td>Medium</td>\n",
       "    </tr>\n",
       "    <tr>\n",
       "      <th>4</th>\n",
       "      <td>355-53-5943</td>\n",
       "      <td>Member</td>\n",
       "      <td>Female</td>\n",
       "      <td>Electronic accessories</td>\n",
       "      <td>24782.4</td>\n",
       "      <td>6.0</td>\n",
       "      <td>7434.72</td>\n",
       "      <td>156129.12</td>\n",
       "      <td>2019-02-25</td>\n",
       "      <td>14:36</td>\n",
       "      <td>Epay</td>\n",
       "      <td>148694.4</td>\n",
       "      <td>4.761905</td>\n",
       "      <td>7434.72</td>\n",
       "      <td>5.8</td>\n",
       "      <td>Medium</td>\n",
       "    </tr>\n",
       "  </tbody>\n",
       "</table>\n",
       "</div>"
      ],
      "text/plain": [
       "    Invoice ID Customer type  Gender            Product line  Unit price (N)  \\\n",
       "0  750-67-8428        Member  Female       HEALTH and Beauty         26888.4   \n",
       "1  631-41-3108        Normal    Male      Home and lifestyle         16678.8   \n",
       "2  123-19-1176        Member    Male       HEALTH and Beauty         20959.2   \n",
       "3  373-73-7910        Normal    Male       Sports and travel         31071.6   \n",
       "4  355-53-5943        Member  Female  Electronic accessories         24782.4   \n",
       "\n",
       "   Quantity    Tax 5%      Total       Date   Time  Payment      cogs  \\\n",
       "0       7.0   9410.94  197629.74 2019-01-05  13:08     Epay  188218.8   \n",
       "1       7.0   5837.58  122589.18 2019-03-03  13:23     Card  116751.6   \n",
       "2       8.0   8383.68  176057.28 2019-01-27  20:33     Epay  167673.6   \n",
       "3       7.0  10875.06  228376.26 2019-02-08  10:37     Epay  217501.2   \n",
       "4       6.0   7434.72  156129.12 2019-02-25  14:36     Epay  148694.4   \n",
       "\n",
       "   gross margin percentage  gross income (N)  Rating Rating Category  \n",
       "0                 4.761905           9410.94     9.1            High  \n",
       "1                 4.761905           5837.58     7.4          Medium  \n",
       "2                 4.761905           8383.68     8.4            High  \n",
       "3                 4.761905          10875.06     5.3          Medium  \n",
       "4                 4.761905           7434.72     5.8          Medium  "
      ]
     },
     "execution_count": 39,
     "metadata": {},
     "output_type": "execute_result"
    }
   ],
   "source": [
    "data.head()"
   ]
  },
  {
   "cell_type": "code",
   "execution_count": 40,
   "id": "499af12b",
   "metadata": {},
   "outputs": [
    {
     "data": {
      "text/plain": [
       "Product line\n",
       "Home and lifestyle        65\n",
       "Electronic accessories    60\n",
       "Sports and travel         59\n",
       "Food and beverages        58\n",
       "Fashion accessories       51\n",
       "Health and beauty         29\n",
       "HEALTH and Beauty         18\n",
       "Name: count, dtype: int64"
      ]
     },
     "execution_count": 40,
     "metadata": {},
     "output_type": "execute_result"
    }
   ],
   "source": [
    "data['Product line'].value_counts()"
   ]
  },
  {
   "cell_type": "code",
   "execution_count": 41,
   "id": "e26b733a",
   "metadata": {},
   "outputs": [],
   "source": [
    "cat_columns = []\n",
    "\n",
    "for i in data.select_dtypes(include=['object']).columns:\n",
    "    cat_columns.append(i)"
   ]
  },
  {
   "cell_type": "code",
   "execution_count": 42,
   "id": "52eabe25",
   "metadata": {},
   "outputs": [
    {
     "data": {
      "text/plain": [
       "['Invoice ID',\n",
       " 'Customer type',\n",
       " 'Gender',\n",
       " 'Product line',\n",
       " 'Time',\n",
       " 'Payment',\n",
       " 'Rating Category']"
      ]
     },
     "execution_count": 42,
     "metadata": {},
     "output_type": "execute_result"
    }
   ],
   "source": [
    "cat_columns"
   ]
  },
  {
   "cell_type": "code",
   "execution_count": 43,
   "id": "f791649e",
   "metadata": {},
   "outputs": [],
   "source": [
    "cat_columns = [i for i in data.select_dtypes(include=['object']).columns]"
   ]
  },
  {
   "cell_type": "code",
   "execution_count": 44,
   "id": "1c6592de",
   "metadata": {},
   "outputs": [
    {
     "name": "stdout",
     "output_type": "stream",
     "text": [
      "Customer type\n",
      "Normal    173\n",
      "Member    167\n",
      "Name: count, dtype: int64\n",
      "-------------------\n",
      "--------------------\n",
      "Gender\n",
      "Male      179\n",
      "Female    161\n",
      "Name: count, dtype: int64\n",
      "-------------------\n",
      "--------------------\n",
      "Product line\n",
      "Home and lifestyle        65\n",
      "Electronic accessories    60\n",
      "Sports and travel         59\n",
      "Food and beverages        58\n",
      "Fashion accessories       51\n",
      "Health and beauty         29\n",
      "HEALTH and Beauty         18\n",
      "Name: count, dtype: int64\n",
      "-------------------\n",
      "--------------------\n",
      "Time\n",
      "19:44    3\n",
      "15:48    3\n",
      "13:34    3\n",
      "11:51    3\n",
      "12:43    3\n",
      "        ..\n",
      "12:14    1\n",
      "17:38    1\n",
      "18:22    1\n",
      "11:12    1\n",
      "15:33    1\n",
      "Name: count, Length: 275, dtype: int64\n",
      "-------------------\n",
      "--------------------\n",
      "Payment\n",
      "   Epay    126\n",
      "Cash       110\n",
      "Card       104\n",
      "Name: count, dtype: int64\n",
      "-------------------\n",
      "--------------------\n",
      "Rating Category\n",
      "Medium    176\n",
      "High      112\n",
      "Low        52\n",
      "Name: count, dtype: int64\n",
      "-------------------\n",
      "--------------------\n"
     ]
    }
   ],
   "source": [
    "for columns in cat_columns[1:]:\n",
    "    print(data[columns].value_counts())\n",
    "    print('-------------------')\n",
    "    print('--------------------')"
   ]
  },
  {
   "cell_type": "code",
   "execution_count": 45,
   "id": "9a39e71d",
   "metadata": {},
   "outputs": [],
   "source": [
    "data['Product line'] = data['Product line'].replace({'HEALTH and Beauty': 'Health and beauty'})"
   ]
  },
  {
   "cell_type": "code",
   "execution_count": 46,
   "id": "0df01972",
   "metadata": {},
   "outputs": [
    {
     "data": {
      "text/plain": [
       "Product line\n",
       "Home and lifestyle        65\n",
       "Electronic accessories    60\n",
       "Sports and travel         59\n",
       "Food and beverages        58\n",
       "Fashion accessories       51\n",
       "Health and beauty         47\n",
       "Name: count, dtype: int64"
      ]
     },
     "execution_count": 46,
     "metadata": {},
     "output_type": "execute_result"
    }
   ],
   "source": [
    "data['Product line'].value_counts()"
   ]
  },
  {
   "cell_type": "code",
   "execution_count": 47,
   "id": "847fc63a",
   "metadata": {},
   "outputs": [
    {
     "data": {
      "text/plain": [
       "Payment\n",
       "   Epay    126\n",
       "Cash       110\n",
       "Card       104\n",
       "Name: count, dtype: int64"
      ]
     },
     "execution_count": 47,
     "metadata": {},
     "output_type": "execute_result"
    }
   ],
   "source": [
    "data['Payment'].value_counts()"
   ]
  },
  {
   "cell_type": "code",
   "execution_count": 48,
   "id": "12dcb35a",
   "metadata": {},
   "outputs": [],
   "source": [
    "data['Payment'] = data['Payment'].str.strip()"
   ]
  },
  {
   "cell_type": "code",
   "execution_count": 49,
   "id": "abd3319e",
   "metadata": {},
   "outputs": [
    {
     "data": {
      "text/plain": [
       "Payment\n",
       "Epay    126\n",
       "Cash    110\n",
       "Card    104\n",
       "Name: count, dtype: int64"
      ]
     },
     "execution_count": 49,
     "metadata": {},
     "output_type": "execute_result"
    }
   ],
   "source": [
    "data['Payment'].value_counts()"
   ]
  },
  {
   "cell_type": "code",
   "execution_count": 50,
   "id": "374bd7c7",
   "metadata": {},
   "outputs": [
    {
     "data": {
      "text/html": [
       "<div>\n",
       "<style scoped>\n",
       "    .dataframe tbody tr th:only-of-type {\n",
       "        vertical-align: middle;\n",
       "    }\n",
       "\n",
       "    .dataframe tbody tr th {\n",
       "        vertical-align: top;\n",
       "    }\n",
       "\n",
       "    .dataframe thead th {\n",
       "        text-align: right;\n",
       "    }\n",
       "</style>\n",
       "<table border=\"1\" class=\"dataframe\">\n",
       "  <thead>\n",
       "    <tr style=\"text-align: right;\">\n",
       "      <th></th>\n",
       "      <th>Invoice ID</th>\n",
       "      <th>Customer type</th>\n",
       "      <th>Gender</th>\n",
       "      <th>Product line</th>\n",
       "      <th>Unit price (N)</th>\n",
       "      <th>Quantity</th>\n",
       "      <th>Tax 5%</th>\n",
       "      <th>Total</th>\n",
       "      <th>Date</th>\n",
       "      <th>Time</th>\n",
       "      <th>Payment</th>\n",
       "      <th>cogs</th>\n",
       "      <th>gross margin percentage</th>\n",
       "      <th>gross income (N)</th>\n",
       "      <th>Rating</th>\n",
       "      <th>Rating Category</th>\n",
       "    </tr>\n",
       "  </thead>\n",
       "  <tbody>\n",
       "    <tr>\n",
       "      <th>0</th>\n",
       "      <td>750-67-8428</td>\n",
       "      <td>Member</td>\n",
       "      <td>Female</td>\n",
       "      <td>Health and beauty</td>\n",
       "      <td>26888.4</td>\n",
       "      <td>7.0</td>\n",
       "      <td>9410.94</td>\n",
       "      <td>197629.74</td>\n",
       "      <td>2019-01-05</td>\n",
       "      <td>13:08</td>\n",
       "      <td>Epay</td>\n",
       "      <td>188218.8</td>\n",
       "      <td>4.761905</td>\n",
       "      <td>9410.94</td>\n",
       "      <td>9.1</td>\n",
       "      <td>High</td>\n",
       "    </tr>\n",
       "    <tr>\n",
       "      <th>1</th>\n",
       "      <td>631-41-3108</td>\n",
       "      <td>Normal</td>\n",
       "      <td>Male</td>\n",
       "      <td>Home and lifestyle</td>\n",
       "      <td>16678.8</td>\n",
       "      <td>7.0</td>\n",
       "      <td>5837.58</td>\n",
       "      <td>122589.18</td>\n",
       "      <td>2019-03-03</td>\n",
       "      <td>13:23</td>\n",
       "      <td>Card</td>\n",
       "      <td>116751.6</td>\n",
       "      <td>4.761905</td>\n",
       "      <td>5837.58</td>\n",
       "      <td>7.4</td>\n",
       "      <td>Medium</td>\n",
       "    </tr>\n",
       "    <tr>\n",
       "      <th>2</th>\n",
       "      <td>123-19-1176</td>\n",
       "      <td>Member</td>\n",
       "      <td>Male</td>\n",
       "      <td>Health and beauty</td>\n",
       "      <td>20959.2</td>\n",
       "      <td>8.0</td>\n",
       "      <td>8383.68</td>\n",
       "      <td>176057.28</td>\n",
       "      <td>2019-01-27</td>\n",
       "      <td>20:33</td>\n",
       "      <td>Epay</td>\n",
       "      <td>167673.6</td>\n",
       "      <td>4.761905</td>\n",
       "      <td>8383.68</td>\n",
       "      <td>8.4</td>\n",
       "      <td>High</td>\n",
       "    </tr>\n",
       "    <tr>\n",
       "      <th>3</th>\n",
       "      <td>373-73-7910</td>\n",
       "      <td>Normal</td>\n",
       "      <td>Male</td>\n",
       "      <td>Sports and travel</td>\n",
       "      <td>31071.6</td>\n",
       "      <td>7.0</td>\n",
       "      <td>10875.06</td>\n",
       "      <td>228376.26</td>\n",
       "      <td>2019-02-08</td>\n",
       "      <td>10:37</td>\n",
       "      <td>Epay</td>\n",
       "      <td>217501.2</td>\n",
       "      <td>4.761905</td>\n",
       "      <td>10875.06</td>\n",
       "      <td>5.3</td>\n",
       "      <td>Medium</td>\n",
       "    </tr>\n",
       "    <tr>\n",
       "      <th>4</th>\n",
       "      <td>355-53-5943</td>\n",
       "      <td>Member</td>\n",
       "      <td>Female</td>\n",
       "      <td>Electronic accessories</td>\n",
       "      <td>24782.4</td>\n",
       "      <td>6.0</td>\n",
       "      <td>7434.72</td>\n",
       "      <td>156129.12</td>\n",
       "      <td>2019-02-25</td>\n",
       "      <td>14:36</td>\n",
       "      <td>Epay</td>\n",
       "      <td>148694.4</td>\n",
       "      <td>4.761905</td>\n",
       "      <td>7434.72</td>\n",
       "      <td>5.8</td>\n",
       "      <td>Medium</td>\n",
       "    </tr>\n",
       "  </tbody>\n",
       "</table>\n",
       "</div>"
      ],
      "text/plain": [
       "    Invoice ID Customer type  Gender            Product line  Unit price (N)  \\\n",
       "0  750-67-8428        Member  Female       Health and beauty         26888.4   \n",
       "1  631-41-3108        Normal    Male      Home and lifestyle         16678.8   \n",
       "2  123-19-1176        Member    Male       Health and beauty         20959.2   \n",
       "3  373-73-7910        Normal    Male       Sports and travel         31071.6   \n",
       "4  355-53-5943        Member  Female  Electronic accessories         24782.4   \n",
       "\n",
       "   Quantity    Tax 5%      Total       Date   Time Payment      cogs  \\\n",
       "0       7.0   9410.94  197629.74 2019-01-05  13:08    Epay  188218.8   \n",
       "1       7.0   5837.58  122589.18 2019-03-03  13:23    Card  116751.6   \n",
       "2       8.0   8383.68  176057.28 2019-01-27  20:33    Epay  167673.6   \n",
       "3       7.0  10875.06  228376.26 2019-02-08  10:37    Epay  217501.2   \n",
       "4       6.0   7434.72  156129.12 2019-02-25  14:36    Epay  148694.4   \n",
       "\n",
       "   gross margin percentage  gross income (N)  Rating Rating Category  \n",
       "0                 4.761905           9410.94     9.1            High  \n",
       "1                 4.761905           5837.58     7.4          Medium  \n",
       "2                 4.761905           8383.68     8.4            High  \n",
       "3                 4.761905          10875.06     5.3          Medium  \n",
       "4                 4.761905           7434.72     5.8          Medium  "
      ]
     },
     "execution_count": 50,
     "metadata": {},
     "output_type": "execute_result"
    }
   ],
   "source": [
    "data.head()"
   ]
  },
  {
   "cell_type": "code",
   "execution_count": 51,
   "id": "7b3fb5ac",
   "metadata": {},
   "outputs": [],
   "source": [
    "# data.to_csv('cleaned_sales_data.csv')"
   ]
  },
  {
   "cell_type": "code",
   "execution_count": 52,
   "id": "c45b7b13",
   "metadata": {},
   "outputs": [
    {
     "data": {
      "text/plain": [
       "Invoice ID                 0\n",
       "Customer type              0\n",
       "Gender                     0\n",
       "Product line               0\n",
       "Unit price (N)             0\n",
       "Quantity                   0\n",
       "Tax 5%                     0\n",
       "Total                      0\n",
       "Date                       0\n",
       "Time                       0\n",
       "Payment                    0\n",
       "cogs                       0\n",
       "gross margin percentage    0\n",
       "gross income (N)           0\n",
       "Rating                     0\n",
       "Rating Category            0\n",
       "dtype: int64"
      ]
     },
     "execution_count": 52,
     "metadata": {},
     "output_type": "execute_result"
    }
   ],
   "source": [
    "data.isna().sum()"
   ]
  },
  {
   "cell_type": "code",
   "execution_count": 53,
   "id": "fa185d3d",
   "metadata": {},
   "outputs": [
    {
     "data": {
      "text/plain": [
       "Invoice ID                 0\n",
       "Customer type              0\n",
       "Gender                     0\n",
       "Product line               0\n",
       "Unit price (N)             0\n",
       "Quantity                   0\n",
       "Tax 5%                     0\n",
       "Total                      0\n",
       "Date                       0\n",
       "Time                       0\n",
       "Payment                    0\n",
       "cogs                       0\n",
       "gross margin percentage    0\n",
       "gross income (N)           0\n",
       "Rating                     0\n",
       "Rating Category            0\n",
       "dtype: int64"
      ]
     },
     "execution_count": 53,
     "metadata": {},
     "output_type": "execute_result"
    }
   ],
   "source": [
    "data.isnull().sum()"
   ]
  },
  {
   "cell_type": "markdown",
   "id": "6952d2d9",
   "metadata": {},
   "source": [
    "#### Data Exploration"
   ]
  },
  {
   "cell_type": "code",
   "execution_count": 74,
   "id": "8eb07acd",
   "metadata": {},
   "outputs": [
    {
     "data": {
      "text/html": [
       "<div>\n",
       "<style scoped>\n",
       "    .dataframe tbody tr th:only-of-type {\n",
       "        vertical-align: middle;\n",
       "    }\n",
       "\n",
       "    .dataframe tbody tr th {\n",
       "        vertical-align: top;\n",
       "    }\n",
       "\n",
       "    .dataframe thead th {\n",
       "        text-align: right;\n",
       "    }\n",
       "</style>\n",
       "<table border=\"1\" class=\"dataframe\">\n",
       "  <thead>\n",
       "    <tr style=\"text-align: right;\">\n",
       "      <th></th>\n",
       "      <th>Unit price (N)</th>\n",
       "      <th>Quantity</th>\n",
       "      <th>Tax 5%</th>\n",
       "      <th>Gross sales (N)</th>\n",
       "      <th>Date</th>\n",
       "      <th>cogs</th>\n",
       "      <th>gross margin percentage</th>\n",
       "      <th>gross income (N)</th>\n",
       "      <th>Rating</th>\n",
       "    </tr>\n",
       "  </thead>\n",
       "  <tbody>\n",
       "    <tr>\n",
       "      <th>count</th>\n",
       "      <td>340.000000</td>\n",
       "      <td>340.000000</td>\n",
       "      <td>340.000000</td>\n",
       "      <td>340.000000</td>\n",
       "      <td>340</td>\n",
       "      <td>340.000000</td>\n",
       "      <td>340.000000</td>\n",
       "      <td>340.000000</td>\n",
       "      <td>340.000000</td>\n",
       "    </tr>\n",
       "    <tr>\n",
       "      <th>mean</th>\n",
       "      <td>19721.107059</td>\n",
       "      <td>5.467647</td>\n",
       "      <td>5354.640529</td>\n",
       "      <td>112447.451118</td>\n",
       "      <td>2019-02-14 23:55:45.882352896</td>\n",
       "      <td>107092.810588</td>\n",
       "      <td>4.761905</td>\n",
       "      <td>5354.640529</td>\n",
       "      <td>7.027059</td>\n",
       "    </tr>\n",
       "    <tr>\n",
       "      <th>min</th>\n",
       "      <td>3628.800000</td>\n",
       "      <td>1.000000</td>\n",
       "      <td>217.620000</td>\n",
       "      <td>4570.020000</td>\n",
       "      <td>2019-01-01 00:00:00</td>\n",
       "      <td>4352.400000</td>\n",
       "      <td>4.761905</td>\n",
       "      <td>217.620000</td>\n",
       "      <td>4.000000</td>\n",
       "    </tr>\n",
       "    <tr>\n",
       "      <th>25%</th>\n",
       "      <td>11610.000000</td>\n",
       "      <td>3.000000</td>\n",
       "      <td>2356.965000</td>\n",
       "      <td>49496.265000</td>\n",
       "      <td>2019-01-23 00:00:00</td>\n",
       "      <td>47139.300000</td>\n",
       "      <td>4.761905</td>\n",
       "      <td>2356.965000</td>\n",
       "      <td>5.600000</td>\n",
       "    </tr>\n",
       "    <tr>\n",
       "      <th>50%</th>\n",
       "      <td>19164.600000</td>\n",
       "      <td>5.000000</td>\n",
       "      <td>4128.480000</td>\n",
       "      <td>86698.080000</td>\n",
       "      <td>2019-02-15 00:00:00</td>\n",
       "      <td>82569.600000</td>\n",
       "      <td>4.761905</td>\n",
       "      <td>4128.480000</td>\n",
       "      <td>7.100000</td>\n",
       "    </tr>\n",
       "    <tr>\n",
       "      <th>75%</th>\n",
       "      <td>27034.200000</td>\n",
       "      <td>8.000000</td>\n",
       "      <td>7874.415000</td>\n",
       "      <td>165362.715000</td>\n",
       "      <td>2019-03-10 00:00:00</td>\n",
       "      <td>157488.300000</td>\n",
       "      <td>4.761905</td>\n",
       "      <td>7874.415000</td>\n",
       "      <td>8.500000</td>\n",
       "    </tr>\n",
       "    <tr>\n",
       "      <th>max</th>\n",
       "      <td>35938.800000</td>\n",
       "      <td>10.000000</td>\n",
       "      <td>17816.400000</td>\n",
       "      <td>374144.400000</td>\n",
       "      <td>2019-03-30 00:00:00</td>\n",
       "      <td>356328.000000</td>\n",
       "      <td>4.761905</td>\n",
       "      <td>17816.400000</td>\n",
       "      <td>10.000000</td>\n",
       "    </tr>\n",
       "    <tr>\n",
       "      <th>std</th>\n",
       "      <td>9407.565699</td>\n",
       "      <td>2.859876</td>\n",
       "      <td>3970.971849</td>\n",
       "      <td>83390.408832</td>\n",
       "      <td>NaN</td>\n",
       "      <td>79419.436983</td>\n",
       "      <td>0.000000</td>\n",
       "      <td>3970.971849</td>\n",
       "      <td>1.731345</td>\n",
       "    </tr>\n",
       "  </tbody>\n",
       "</table>\n",
       "</div>"
      ],
      "text/plain": [
       "       Unit price (N)    Quantity        Tax 5%  Gross sales (N)  \\\n",
       "count      340.000000  340.000000    340.000000       340.000000   \n",
       "mean     19721.107059    5.467647   5354.640529    112447.451118   \n",
       "min       3628.800000    1.000000    217.620000      4570.020000   \n",
       "25%      11610.000000    3.000000   2356.965000     49496.265000   \n",
       "50%      19164.600000    5.000000   4128.480000     86698.080000   \n",
       "75%      27034.200000    8.000000   7874.415000    165362.715000   \n",
       "max      35938.800000   10.000000  17816.400000    374144.400000   \n",
       "std       9407.565699    2.859876   3970.971849     83390.408832   \n",
       "\n",
       "                                Date           cogs  gross margin percentage  \\\n",
       "count                            340     340.000000               340.000000   \n",
       "mean   2019-02-14 23:55:45.882352896  107092.810588                 4.761905   \n",
       "min              2019-01-01 00:00:00    4352.400000                 4.761905   \n",
       "25%              2019-01-23 00:00:00   47139.300000                 4.761905   \n",
       "50%              2019-02-15 00:00:00   82569.600000                 4.761905   \n",
       "75%              2019-03-10 00:00:00  157488.300000                 4.761905   \n",
       "max              2019-03-30 00:00:00  356328.000000                 4.761905   \n",
       "std                              NaN   79419.436983                 0.000000   \n",
       "\n",
       "       gross income (N)      Rating  \n",
       "count        340.000000  340.000000  \n",
       "mean        5354.640529    7.027059  \n",
       "min          217.620000    4.000000  \n",
       "25%         2356.965000    5.600000  \n",
       "50%         4128.480000    7.100000  \n",
       "75%         7874.415000    8.500000  \n",
       "max        17816.400000   10.000000  \n",
       "std         3970.971849    1.731345  "
      ]
     },
     "execution_count": 74,
     "metadata": {},
     "output_type": "execute_result"
    }
   ],
   "source": [
    "data.describe()"
   ]
  },
  {
   "cell_type": "markdown",
   "id": "060c4e3e",
   "metadata": {},
   "source": [
    "#### Interesting Stats\n",
    "\n",
    "- The price of goods range from ~ 3600 to ~ 36000\n",
    "- At a go, min quantity bought is 1 and max quantity bought is 10. On average ppl buy ~ 5 at a go.\n",
    "- Most ppl have an above average impression of their experience with the goods. "
   ]
  },
  {
   "cell_type": "code",
   "execution_count": 55,
   "id": "146dd5e7",
   "metadata": {},
   "outputs": [
    {
     "data": {
      "text/html": [
       "<div>\n",
       "<style scoped>\n",
       "    .dataframe tbody tr th:only-of-type {\n",
       "        vertical-align: middle;\n",
       "    }\n",
       "\n",
       "    .dataframe tbody tr th {\n",
       "        vertical-align: top;\n",
       "    }\n",
       "\n",
       "    .dataframe thead th {\n",
       "        text-align: right;\n",
       "    }\n",
       "</style>\n",
       "<table border=\"1\" class=\"dataframe\">\n",
       "  <thead>\n",
       "    <tr style=\"text-align: right;\">\n",
       "      <th></th>\n",
       "      <th>Invoice ID</th>\n",
       "      <th>Customer type</th>\n",
       "      <th>Gender</th>\n",
       "      <th>Product line</th>\n",
       "      <th>Unit price (N)</th>\n",
       "      <th>Quantity</th>\n",
       "      <th>Tax 5%</th>\n",
       "      <th>Total</th>\n",
       "      <th>Date</th>\n",
       "      <th>Time</th>\n",
       "      <th>Payment</th>\n",
       "      <th>cogs</th>\n",
       "      <th>gross margin percentage</th>\n",
       "      <th>gross income (N)</th>\n",
       "      <th>Rating</th>\n",
       "      <th>Rating Category</th>\n",
       "    </tr>\n",
       "  </thead>\n",
       "  <tbody>\n",
       "    <tr>\n",
       "      <th>0</th>\n",
       "      <td>750-67-8428</td>\n",
       "      <td>Member</td>\n",
       "      <td>Female</td>\n",
       "      <td>Health and beauty</td>\n",
       "      <td>26888.4</td>\n",
       "      <td>7.0</td>\n",
       "      <td>9410.94</td>\n",
       "      <td>197629.74</td>\n",
       "      <td>2019-01-05</td>\n",
       "      <td>13:08</td>\n",
       "      <td>Epay</td>\n",
       "      <td>188218.8</td>\n",
       "      <td>4.761905</td>\n",
       "      <td>9410.94</td>\n",
       "      <td>9.1</td>\n",
       "      <td>High</td>\n",
       "    </tr>\n",
       "    <tr>\n",
       "      <th>1</th>\n",
       "      <td>631-41-3108</td>\n",
       "      <td>Normal</td>\n",
       "      <td>Male</td>\n",
       "      <td>Home and lifestyle</td>\n",
       "      <td>16678.8</td>\n",
       "      <td>7.0</td>\n",
       "      <td>5837.58</td>\n",
       "      <td>122589.18</td>\n",
       "      <td>2019-03-03</td>\n",
       "      <td>13:23</td>\n",
       "      <td>Card</td>\n",
       "      <td>116751.6</td>\n",
       "      <td>4.761905</td>\n",
       "      <td>5837.58</td>\n",
       "      <td>7.4</td>\n",
       "      <td>Medium</td>\n",
       "    </tr>\n",
       "    <tr>\n",
       "      <th>2</th>\n",
       "      <td>123-19-1176</td>\n",
       "      <td>Member</td>\n",
       "      <td>Male</td>\n",
       "      <td>Health and beauty</td>\n",
       "      <td>20959.2</td>\n",
       "      <td>8.0</td>\n",
       "      <td>8383.68</td>\n",
       "      <td>176057.28</td>\n",
       "      <td>2019-01-27</td>\n",
       "      <td>20:33</td>\n",
       "      <td>Epay</td>\n",
       "      <td>167673.6</td>\n",
       "      <td>4.761905</td>\n",
       "      <td>8383.68</td>\n",
       "      <td>8.4</td>\n",
       "      <td>High</td>\n",
       "    </tr>\n",
       "    <tr>\n",
       "      <th>3</th>\n",
       "      <td>373-73-7910</td>\n",
       "      <td>Normal</td>\n",
       "      <td>Male</td>\n",
       "      <td>Sports and travel</td>\n",
       "      <td>31071.6</td>\n",
       "      <td>7.0</td>\n",
       "      <td>10875.06</td>\n",
       "      <td>228376.26</td>\n",
       "      <td>2019-02-08</td>\n",
       "      <td>10:37</td>\n",
       "      <td>Epay</td>\n",
       "      <td>217501.2</td>\n",
       "      <td>4.761905</td>\n",
       "      <td>10875.06</td>\n",
       "      <td>5.3</td>\n",
       "      <td>Medium</td>\n",
       "    </tr>\n",
       "    <tr>\n",
       "      <th>4</th>\n",
       "      <td>355-53-5943</td>\n",
       "      <td>Member</td>\n",
       "      <td>Female</td>\n",
       "      <td>Electronic accessories</td>\n",
       "      <td>24782.4</td>\n",
       "      <td>6.0</td>\n",
       "      <td>7434.72</td>\n",
       "      <td>156129.12</td>\n",
       "      <td>2019-02-25</td>\n",
       "      <td>14:36</td>\n",
       "      <td>Epay</td>\n",
       "      <td>148694.4</td>\n",
       "      <td>4.761905</td>\n",
       "      <td>7434.72</td>\n",
       "      <td>5.8</td>\n",
       "      <td>Medium</td>\n",
       "    </tr>\n",
       "  </tbody>\n",
       "</table>\n",
       "</div>"
      ],
      "text/plain": [
       "    Invoice ID Customer type  Gender            Product line  Unit price (N)  \\\n",
       "0  750-67-8428        Member  Female       Health and beauty         26888.4   \n",
       "1  631-41-3108        Normal    Male      Home and lifestyle         16678.8   \n",
       "2  123-19-1176        Member    Male       Health and beauty         20959.2   \n",
       "3  373-73-7910        Normal    Male       Sports and travel         31071.6   \n",
       "4  355-53-5943        Member  Female  Electronic accessories         24782.4   \n",
       "\n",
       "   Quantity    Tax 5%      Total       Date   Time Payment      cogs  \\\n",
       "0       7.0   9410.94  197629.74 2019-01-05  13:08    Epay  188218.8   \n",
       "1       7.0   5837.58  122589.18 2019-03-03  13:23    Card  116751.6   \n",
       "2       8.0   8383.68  176057.28 2019-01-27  20:33    Epay  167673.6   \n",
       "3       7.0  10875.06  228376.26 2019-02-08  10:37    Epay  217501.2   \n",
       "4       6.0   7434.72  156129.12 2019-02-25  14:36    Epay  148694.4   \n",
       "\n",
       "   gross margin percentage  gross income (N)  Rating Rating Category  \n",
       "0                 4.761905           9410.94     9.1            High  \n",
       "1                 4.761905           5837.58     7.4          Medium  \n",
       "2                 4.761905           8383.68     8.4            High  \n",
       "3                 4.761905          10875.06     5.3          Medium  \n",
       "4                 4.761905           7434.72     5.8          Medium  "
      ]
     },
     "execution_count": 55,
     "metadata": {},
     "output_type": "execute_result"
    }
   ],
   "source": [
    "data.head()"
   ]
  },
  {
   "cell_type": "code",
   "execution_count": 56,
   "id": "c70824c0",
   "metadata": {},
   "outputs": [
    {
     "name": "stdout",
     "output_type": "stream",
     "text": [
      "<class 'pandas.core.frame.DataFrame'>\n",
      "Index: 340 entries, 0 to 339\n",
      "Data columns (total 16 columns):\n",
      " #   Column                   Non-Null Count  Dtype         \n",
      "---  ------                   --------------  -----         \n",
      " 0   Invoice ID               340 non-null    object        \n",
      " 1   Customer type            340 non-null    object        \n",
      " 2   Gender                   340 non-null    object        \n",
      " 3   Product line             340 non-null    object        \n",
      " 4   Unit price (N)           340 non-null    float64       \n",
      " 5   Quantity                 340 non-null    float64       \n",
      " 6   Tax 5%                   340 non-null    float64       \n",
      " 7   Total                    340 non-null    float64       \n",
      " 8   Date                     340 non-null    datetime64[ns]\n",
      " 9   Time                     340 non-null    object        \n",
      " 10  Payment                  340 non-null    object        \n",
      " 11  cogs                     340 non-null    float64       \n",
      " 12  gross margin percentage  340 non-null    float64       \n",
      " 13  gross income (N)         340 non-null    float64       \n",
      " 14  Rating                   340 non-null    float64       \n",
      " 15  Rating Category          340 non-null    object        \n",
      "dtypes: datetime64[ns](1), float64(8), object(7)\n",
      "memory usage: 45.2+ KB\n"
     ]
    }
   ],
   "source": [
    "data.info()"
   ]
  },
  {
   "cell_type": "code",
   "execution_count": 60,
   "id": "dee09c06",
   "metadata": {},
   "outputs": [],
   "source": [
    "data.rename(columns={'Total': 'Gross sales (N)'}, inplace=True)"
   ]
  },
  {
   "cell_type": "code",
   "execution_count": 61,
   "id": "65360ef5",
   "metadata": {},
   "outputs": [
    {
     "data": {
      "text/html": [
       "<div>\n",
       "<style scoped>\n",
       "    .dataframe tbody tr th:only-of-type {\n",
       "        vertical-align: middle;\n",
       "    }\n",
       "\n",
       "    .dataframe tbody tr th {\n",
       "        vertical-align: top;\n",
       "    }\n",
       "\n",
       "    .dataframe thead th {\n",
       "        text-align: right;\n",
       "    }\n",
       "</style>\n",
       "<table border=\"1\" class=\"dataframe\">\n",
       "  <thead>\n",
       "    <tr style=\"text-align: right;\">\n",
       "      <th></th>\n",
       "      <th>Invoice ID</th>\n",
       "      <th>Customer type</th>\n",
       "      <th>Gender</th>\n",
       "      <th>Product line</th>\n",
       "      <th>Unit price (N)</th>\n",
       "      <th>Quantity</th>\n",
       "      <th>Tax 5%</th>\n",
       "      <th>Gross sales (N)</th>\n",
       "      <th>Date</th>\n",
       "      <th>Time</th>\n",
       "      <th>Payment</th>\n",
       "      <th>cogs</th>\n",
       "      <th>gross margin percentage</th>\n",
       "      <th>gross income (N)</th>\n",
       "      <th>Rating</th>\n",
       "      <th>Rating Category</th>\n",
       "    </tr>\n",
       "  </thead>\n",
       "  <tbody>\n",
       "    <tr>\n",
       "      <th>0</th>\n",
       "      <td>750-67-8428</td>\n",
       "      <td>Member</td>\n",
       "      <td>Female</td>\n",
       "      <td>Health and beauty</td>\n",
       "      <td>26888.4</td>\n",
       "      <td>7.0</td>\n",
       "      <td>9410.94</td>\n",
       "      <td>197629.74</td>\n",
       "      <td>2019-01-05</td>\n",
       "      <td>13:08</td>\n",
       "      <td>Epay</td>\n",
       "      <td>188218.8</td>\n",
       "      <td>4.761905</td>\n",
       "      <td>9410.94</td>\n",
       "      <td>9.1</td>\n",
       "      <td>High</td>\n",
       "    </tr>\n",
       "    <tr>\n",
       "      <th>1</th>\n",
       "      <td>631-41-3108</td>\n",
       "      <td>Normal</td>\n",
       "      <td>Male</td>\n",
       "      <td>Home and lifestyle</td>\n",
       "      <td>16678.8</td>\n",
       "      <td>7.0</td>\n",
       "      <td>5837.58</td>\n",
       "      <td>122589.18</td>\n",
       "      <td>2019-03-03</td>\n",
       "      <td>13:23</td>\n",
       "      <td>Card</td>\n",
       "      <td>116751.6</td>\n",
       "      <td>4.761905</td>\n",
       "      <td>5837.58</td>\n",
       "      <td>7.4</td>\n",
       "      <td>Medium</td>\n",
       "    </tr>\n",
       "    <tr>\n",
       "      <th>2</th>\n",
       "      <td>123-19-1176</td>\n",
       "      <td>Member</td>\n",
       "      <td>Male</td>\n",
       "      <td>Health and beauty</td>\n",
       "      <td>20959.2</td>\n",
       "      <td>8.0</td>\n",
       "      <td>8383.68</td>\n",
       "      <td>176057.28</td>\n",
       "      <td>2019-01-27</td>\n",
       "      <td>20:33</td>\n",
       "      <td>Epay</td>\n",
       "      <td>167673.6</td>\n",
       "      <td>4.761905</td>\n",
       "      <td>8383.68</td>\n",
       "      <td>8.4</td>\n",
       "      <td>High</td>\n",
       "    </tr>\n",
       "    <tr>\n",
       "      <th>3</th>\n",
       "      <td>373-73-7910</td>\n",
       "      <td>Normal</td>\n",
       "      <td>Male</td>\n",
       "      <td>Sports and travel</td>\n",
       "      <td>31071.6</td>\n",
       "      <td>7.0</td>\n",
       "      <td>10875.06</td>\n",
       "      <td>228376.26</td>\n",
       "      <td>2019-02-08</td>\n",
       "      <td>10:37</td>\n",
       "      <td>Epay</td>\n",
       "      <td>217501.2</td>\n",
       "      <td>4.761905</td>\n",
       "      <td>10875.06</td>\n",
       "      <td>5.3</td>\n",
       "      <td>Medium</td>\n",
       "    </tr>\n",
       "    <tr>\n",
       "      <th>4</th>\n",
       "      <td>355-53-5943</td>\n",
       "      <td>Member</td>\n",
       "      <td>Female</td>\n",
       "      <td>Electronic accessories</td>\n",
       "      <td>24782.4</td>\n",
       "      <td>6.0</td>\n",
       "      <td>7434.72</td>\n",
       "      <td>156129.12</td>\n",
       "      <td>2019-02-25</td>\n",
       "      <td>14:36</td>\n",
       "      <td>Epay</td>\n",
       "      <td>148694.4</td>\n",
       "      <td>4.761905</td>\n",
       "      <td>7434.72</td>\n",
       "      <td>5.8</td>\n",
       "      <td>Medium</td>\n",
       "    </tr>\n",
       "  </tbody>\n",
       "</table>\n",
       "</div>"
      ],
      "text/plain": [
       "    Invoice ID Customer type  Gender            Product line  Unit price (N)  \\\n",
       "0  750-67-8428        Member  Female       Health and beauty         26888.4   \n",
       "1  631-41-3108        Normal    Male      Home and lifestyle         16678.8   \n",
       "2  123-19-1176        Member    Male       Health and beauty         20959.2   \n",
       "3  373-73-7910        Normal    Male       Sports and travel         31071.6   \n",
       "4  355-53-5943        Member  Female  Electronic accessories         24782.4   \n",
       "\n",
       "   Quantity    Tax 5%  Gross sales (N)       Date   Time Payment      cogs  \\\n",
       "0       7.0   9410.94        197629.74 2019-01-05  13:08    Epay  188218.8   \n",
       "1       7.0   5837.58        122589.18 2019-03-03  13:23    Card  116751.6   \n",
       "2       8.0   8383.68        176057.28 2019-01-27  20:33    Epay  167673.6   \n",
       "3       7.0  10875.06        228376.26 2019-02-08  10:37    Epay  217501.2   \n",
       "4       6.0   7434.72        156129.12 2019-02-25  14:36    Epay  148694.4   \n",
       "\n",
       "   gross margin percentage  gross income (N)  Rating Rating Category  \n",
       "0                 4.761905           9410.94     9.1            High  \n",
       "1                 4.761905           5837.58     7.4          Medium  \n",
       "2                 4.761905           8383.68     8.4            High  \n",
       "3                 4.761905          10875.06     5.3          Medium  \n",
       "4                 4.761905           7434.72     5.8          Medium  "
      ]
     },
     "execution_count": 61,
     "metadata": {},
     "output_type": "execute_result"
    }
   ],
   "source": [
    "data.head()"
   ]
  },
  {
   "cell_type": "markdown",
   "id": "71bb41de",
   "metadata": {},
   "source": [
    "When exploring data, we would usually do the following\n",
    "\n",
    "- Density distribution of numerical columns\n",
    "- Variation of numerical columns\n",
    "- Countplot of the categorical/discreete columns\n",
    "- correlation"
   ]
  },
  {
   "cell_type": "code",
   "execution_count": 62,
   "id": "d07c2e5e",
   "metadata": {},
   "outputs": [
    {
     "name": "stdout",
     "output_type": "stream",
     "text": [
      "<class 'pandas.core.frame.DataFrame'>\n",
      "Index: 340 entries, 0 to 339\n",
      "Data columns (total 16 columns):\n",
      " #   Column                   Non-Null Count  Dtype         \n",
      "---  ------                   --------------  -----         \n",
      " 0   Invoice ID               340 non-null    object        \n",
      " 1   Customer type            340 non-null    object        \n",
      " 2   Gender                   340 non-null    object        \n",
      " 3   Product line             340 non-null    object        \n",
      " 4   Unit price (N)           340 non-null    float64       \n",
      " 5   Quantity                 340 non-null    float64       \n",
      " 6   Tax 5%                   340 non-null    float64       \n",
      " 7   Gross sales (N)          340 non-null    float64       \n",
      " 8   Date                     340 non-null    datetime64[ns]\n",
      " 9   Time                     340 non-null    object        \n",
      " 10  Payment                  340 non-null    object        \n",
      " 11  cogs                     340 non-null    float64       \n",
      " 12  gross margin percentage  340 non-null    float64       \n",
      " 13  gross income (N)         340 non-null    float64       \n",
      " 14  Rating                   340 non-null    float64       \n",
      " 15  Rating Category          340 non-null    object        \n",
      "dtypes: datetime64[ns](1), float64(8), object(7)\n",
      "memory usage: 45.2+ KB\n"
     ]
    }
   ],
   "source": [
    "data.info()"
   ]
  },
  {
   "cell_type": "code",
   "execution_count": 64,
   "id": "099c921a",
   "metadata": {},
   "outputs": [],
   "source": [
    "cat_columns = cat_columns[1:]"
   ]
  },
  {
   "cell_type": "code",
   "execution_count": 65,
   "id": "9677fdaa",
   "metadata": {},
   "outputs": [
    {
     "data": {
      "text/plain": [
       "['Customer type',\n",
       " 'Gender',\n",
       " 'Product line',\n",
       " 'Time',\n",
       " 'Payment',\n",
       " 'Rating Category']"
      ]
     },
     "execution_count": 65,
     "metadata": {},
     "output_type": "execute_result"
    }
   ],
   "source": [
    "cat_columns"
   ]
  },
  {
   "cell_type": "code",
   "execution_count": 68,
   "id": "a4221d15",
   "metadata": {},
   "outputs": [
    {
     "data": {
      "image/png": "[encoded data removed]",
      "text/plain": [
       "<Figure size 2000x800 with 1 Axes>"
      ]
     },
     "metadata": {},
     "output_type": "display_data"
    },
    {
     "data": {
      "image/png": "[encoded data removed]",
      "text/plain": [
       "<Figure size 640x480 with 1 Axes>"
      ]
     },
     "metadata": {},
     "output_type": "display_data"
    },
    {
     "data": {
      "image/png": "[encoded data removed]",
      "text/plain": [
       "<Figure size 640x480 with 1 Axes>"
      ]
     },
     "metadata": {},
     "output_type": "display_data"
    },
    {
     "data": {
      "image/png": "[encoded data removed]",
      "text/plain": [
       "<Figure size 640x480 with 1 Axes>"
      ]
     },
     "metadata": {},
     "output_type": "display_data"
    },
    {
     "data": {
      "image/png": "[encoded data removed]",
      "text/plain": [
       "<Figure size 640x480 with 1 Axes>"
      ]
     },
     "metadata": {},
     "output_type": "display_data"
    },
    {
     "data": {
      "image/png": "[encoded data removed]",
      "text/plain": [
       "<Figure size 640x480 with 1 Axes>"
      ]
     },
     "metadata": {},
     "output_type": "display_data"
    }
   ],
   "source": [
    "plt.figure(figsize=(20,8))\n",
    "\n",
    "for columns in cat_columns:\n",
    "    plt.title(f'Countplot of {columns}')\n",
    "    sb.countplot(y=columns, data=data)\n",
    "    plt.show()"
   ]
  },
  {
   "cell_type": "code",
   "execution_count": 69,
   "id": "a3c42f5b",
   "metadata": {},
   "outputs": [],
   "source": [
    "num_cols = [col for col in data.select_dtypes(include=['float64']).columns]"
   ]
  },
  {
   "cell_type": "code",
   "execution_count": 70,
   "id": "f2d05e39",
   "metadata": {},
   "outputs": [
    {
     "data": {
      "text/plain": [
       "['Unit price (N)',\n",
       " 'Quantity',\n",
       " 'Tax 5%',\n",
       " 'Gross sales (N)',\n",
       " 'cogs',\n",
       " 'gross margin percentage',\n",
       " 'gross income (N)',\n",
       " 'Rating']"
      ]
     },
     "execution_count": 70,
     "metadata": {},
     "output_type": "execute_result"
    }
   ],
   "source": [
    "num_cols"
   ]
  },
  {
   "cell_type": "code",
   "execution_count": 76,
   "id": "4275a34c",
   "metadata": {},
   "outputs": [
    {
     "data": {
      "image/png": "[encoded data removed]",
      "text/plain": [
       "<Figure size 640x480 with 1 Axes>"
      ]
     },
     "metadata": {},
     "output_type": "display_data"
    },
    {
     "data": {
      "image/png": "[encoded data removed]",
      "text/plain": [
       "<Figure size 640x480 with 1 Axes>"
      ]
     },
     "metadata": {},
     "output_type": "display_data"
    },
    {
     "data": {
      "image/png": "[encoded data removed]",
      "text/plain": [
       "<Figure size 640x480 with 1 Axes>"
      ]
     },
     "metadata": {},
     "output_type": "display_data"
    },
    {
     "data": {
      "image/png": "[encoded data removed]",
      "text/plain": [
       "<Figure size 640x480 with 1 Axes>"
      ]
     },
     "metadata": {},
     "output_type": "display_data"
    },
    {
     "data": {
      "image/png": "[encoded data removed]",
      "text/plain": [
       "<Figure size 640x480 with 1 Axes>"
      ]
     },
     "metadata": {},
     "output_type": "display_data"
    },
    {
     "data": {
      "image/png": "[encoded data removed]",
      "text/plain": [
       "<Figure size 640x480 with 1 Axes>"
      ]
     },
     "metadata": {},
     "output_type": "display_data"
    },
    {
     "data": {
      "image/png": "[encoded data removed]",
      "text/plain": [
       "<Figure size 640x480 with 1 Axes>"
      ]
     },
     "metadata": {},
     "output_type": "display_data"
    },
    {
     "data": {
      "image/png": "[encoded data removed]",
      "text/plain": [
       "<Figure size 640x480 with 1 Axes>"
      ]
     },
     "metadata": {},
     "output_type": "display_data"
    }
   ],
   "source": [
    "for column in num_cols:\n",
    "    plt.hist(data[column], bins=10, color='skyblue', edgecolor='black')\n",
    "    plt.title(f'Histogram of {column}')\n",
    "    plt.xlabel(column)\n",
    "    plt.ylabel('Frequency')\n",
    "    plt.show()"
   ]
  },
  {
   "cell_type": "markdown",
   "id": "78835414",
   "metadata": {},
   "source": [
    "The data distribution for gross sales and cogs suggests that there are more sales for low priced products than for high priced products. "
   ]
  },
  {
   "cell_type": "code",
   "execution_count": 73,
   "id": "07de51cd",
   "metadata": {},
   "outputs": [
    {
     "data": {
      "text/html": [
       "<div>\n",
       "<style scoped>\n",
       "    .dataframe tbody tr th:only-of-type {\n",
       "        vertical-align: middle;\n",
       "    }\n",
       "\n",
       "    .dataframe tbody tr th {\n",
       "        vertical-align: top;\n",
       "    }\n",
       "\n",
       "    .dataframe thead th {\n",
       "        text-align: right;\n",
       "    }\n",
       "</style>\n",
       "<table border=\"1\" class=\"dataframe\">\n",
       "  <thead>\n",
       "    <tr style=\"text-align: right;\">\n",
       "      <th></th>\n",
       "      <th>Invoice ID</th>\n",
       "      <th>Customer type</th>\n",
       "      <th>Gender</th>\n",
       "      <th>Product line</th>\n",
       "      <th>Unit price (N)</th>\n",
       "      <th>Quantity</th>\n",
       "      <th>Tax 5%</th>\n",
       "      <th>Gross sales (N)</th>\n",
       "      <th>Date</th>\n",
       "      <th>Time</th>\n",
       "      <th>Payment</th>\n",
       "      <th>cogs</th>\n",
       "      <th>gross margin percentage</th>\n",
       "      <th>gross income (N)</th>\n",
       "      <th>Rating</th>\n",
       "      <th>Rating Category</th>\n",
       "    </tr>\n",
       "  </thead>\n",
       "  <tbody>\n",
       "    <tr>\n",
       "      <th>0</th>\n",
       "      <td>750-67-8428</td>\n",
       "      <td>Member</td>\n",
       "      <td>Female</td>\n",
       "      <td>Health and beauty</td>\n",
       "      <td>26888.4</td>\n",
       "      <td>7.0</td>\n",
       "      <td>9410.94</td>\n",
       "      <td>197629.74</td>\n",
       "      <td>2019-01-05</td>\n",
       "      <td>13:08</td>\n",
       "      <td>Epay</td>\n",
       "      <td>188218.8</td>\n",
       "      <td>4.761905</td>\n",
       "      <td>9410.94</td>\n",
       "      <td>9.1</td>\n",
       "      <td>High</td>\n",
       "    </tr>\n",
       "    <tr>\n",
       "      <th>1</th>\n",
       "      <td>631-41-3108</td>\n",
       "      <td>Normal</td>\n",
       "      <td>Male</td>\n",
       "      <td>Home and lifestyle</td>\n",
       "      <td>16678.8</td>\n",
       "      <td>7.0</td>\n",
       "      <td>5837.58</td>\n",
       "      <td>122589.18</td>\n",
       "      <td>2019-03-03</td>\n",
       "      <td>13:23</td>\n",
       "      <td>Card</td>\n",
       "      <td>116751.6</td>\n",
       "      <td>4.761905</td>\n",
       "      <td>5837.58</td>\n",
       "      <td>7.4</td>\n",
       "      <td>Medium</td>\n",
       "    </tr>\n",
       "    <tr>\n",
       "      <th>2</th>\n",
       "      <td>123-19-1176</td>\n",
       "      <td>Member</td>\n",
       "      <td>Male</td>\n",
       "      <td>Health and beauty</td>\n",
       "      <td>20959.2</td>\n",
       "      <td>8.0</td>\n",
       "      <td>8383.68</td>\n",
       "      <td>176057.28</td>\n",
       "      <td>2019-01-27</td>\n",
       "      <td>20:33</td>\n",
       "      <td>Epay</td>\n",
       "      <td>167673.6</td>\n",
       "      <td>4.761905</td>\n",
       "      <td>8383.68</td>\n",
       "      <td>8.4</td>\n",
       "      <td>High</td>\n",
       "    </tr>\n",
       "    <tr>\n",
       "      <th>3</th>\n",
       "      <td>373-73-7910</td>\n",
       "      <td>Normal</td>\n",
       "      <td>Male</td>\n",
       "      <td>Sports and travel</td>\n",
       "      <td>31071.6</td>\n",
       "      <td>7.0</td>\n",
       "      <td>10875.06</td>\n",
       "      <td>228376.26</td>\n",
       "      <td>2019-02-08</td>\n",
       "      <td>10:37</td>\n",
       "      <td>Epay</td>\n",
       "      <td>217501.2</td>\n",
       "      <td>4.761905</td>\n",
       "      <td>10875.06</td>\n",
       "      <td>5.3</td>\n",
       "      <td>Medium</td>\n",
       "    </tr>\n",
       "    <tr>\n",
       "      <th>4</th>\n",
       "      <td>355-53-5943</td>\n",
       "      <td>Member</td>\n",
       "      <td>Female</td>\n",
       "      <td>Electronic accessories</td>\n",
       "      <td>24782.4</td>\n",
       "      <td>6.0</td>\n",
       "      <td>7434.72</td>\n",
       "      <td>156129.12</td>\n",
       "      <td>2019-02-25</td>\n",
       "      <td>14:36</td>\n",
       "      <td>Epay</td>\n",
       "      <td>148694.4</td>\n",
       "      <td>4.761905</td>\n",
       "      <td>7434.72</td>\n",
       "      <td>5.8</td>\n",
       "      <td>Medium</td>\n",
       "    </tr>\n",
       "    <tr>\n",
       "      <th>5</th>\n",
       "      <td>665-32-9167</td>\n",
       "      <td>Member</td>\n",
       "      <td>Female</td>\n",
       "      <td>Health and beauty</td>\n",
       "      <td>13053.6</td>\n",
       "      <td>2.0</td>\n",
       "      <td>1305.36</td>\n",
       "      <td>27412.56</td>\n",
       "      <td>2019-01-10</td>\n",
       "      <td>17:15</td>\n",
       "      <td>Card</td>\n",
       "      <td>26107.2</td>\n",
       "      <td>4.761905</td>\n",
       "      <td>1305.36</td>\n",
       "      <td>7.2</td>\n",
       "      <td>Medium</td>\n",
       "    </tr>\n",
       "    <tr>\n",
       "      <th>6</th>\n",
       "      <td>365-64-0515</td>\n",
       "      <td>Normal</td>\n",
       "      <td>Female</td>\n",
       "      <td>Electronic accessories</td>\n",
       "      <td>16902.0</td>\n",
       "      <td>5.0</td>\n",
       "      <td>4225.50</td>\n",
       "      <td>88735.50</td>\n",
       "      <td>2019-02-12</td>\n",
       "      <td>10:25</td>\n",
       "      <td>Epay</td>\n",
       "      <td>84510.0</td>\n",
       "      <td>4.761905</td>\n",
       "      <td>4225.50</td>\n",
       "      <td>7.1</td>\n",
       "      <td>Medium</td>\n",
       "    </tr>\n",
       "    <tr>\n",
       "      <th>7</th>\n",
       "      <td>252-56-2699</td>\n",
       "      <td>Normal</td>\n",
       "      <td>Male</td>\n",
       "      <td>Food and beverages</td>\n",
       "      <td>15548.4</td>\n",
       "      <td>10.0</td>\n",
       "      <td>7774.20</td>\n",
       "      <td>163258.20</td>\n",
       "      <td>2019-02-07</td>\n",
       "      <td>16:48</td>\n",
       "      <td>Epay</td>\n",
       "      <td>155484.0</td>\n",
       "      <td>4.761905</td>\n",
       "      <td>7774.20</td>\n",
       "      <td>8.2</td>\n",
       "      <td>High</td>\n",
       "    </tr>\n",
       "    <tr>\n",
       "      <th>8</th>\n",
       "      <td>829-34-3910</td>\n",
       "      <td>Normal</td>\n",
       "      <td>Female</td>\n",
       "      <td>Health and beauty</td>\n",
       "      <td>25696.8</td>\n",
       "      <td>10.0</td>\n",
       "      <td>12848.40</td>\n",
       "      <td>269816.40</td>\n",
       "      <td>2019-03-29</td>\n",
       "      <td>19:21</td>\n",
       "      <td>Cash</td>\n",
       "      <td>256968.0</td>\n",
       "      <td>4.761905</td>\n",
       "      <td>12848.40</td>\n",
       "      <td>5.7</td>\n",
       "      <td>Medium</td>\n",
       "    </tr>\n",
       "    <tr>\n",
       "      <th>9</th>\n",
       "      <td>656-95-9349</td>\n",
       "      <td>Member</td>\n",
       "      <td>Female</td>\n",
       "      <td>Health and beauty</td>\n",
       "      <td>24814.8</td>\n",
       "      <td>7.0</td>\n",
       "      <td>8685.18</td>\n",
       "      <td>182388.78</td>\n",
       "      <td>2019-03-11</td>\n",
       "      <td>11:03</td>\n",
       "      <td>Card</td>\n",
       "      <td>173703.6</td>\n",
       "      <td>4.761905</td>\n",
       "      <td>8685.18</td>\n",
       "      <td>4.6</td>\n",
       "      <td>Low</td>\n",
       "    </tr>\n",
       "    <tr>\n",
       "      <th>10</th>\n",
       "      <td>765-26-6951</td>\n",
       "      <td>Normal</td>\n",
       "      <td>Male</td>\n",
       "      <td>Sports and travel</td>\n",
       "      <td>26139.6</td>\n",
       "      <td>6.0</td>\n",
       "      <td>7841.88</td>\n",
       "      <td>164679.48</td>\n",
       "      <td>2019-01-01</td>\n",
       "      <td>10:39</td>\n",
       "      <td>Card</td>\n",
       "      <td>156837.6</td>\n",
       "      <td>4.761905</td>\n",
       "      <td>7841.88</td>\n",
       "      <td>6.9</td>\n",
       "      <td>Medium</td>\n",
       "    </tr>\n",
       "    <tr>\n",
       "      <th>11</th>\n",
       "      <td>329-62-1586</td>\n",
       "      <td>Normal</td>\n",
       "      <td>Male</td>\n",
       "      <td>Food and beverages</td>\n",
       "      <td>19681.2</td>\n",
       "      <td>3.0</td>\n",
       "      <td>2952.18</td>\n",
       "      <td>61995.78</td>\n",
       "      <td>2019-01-21</td>\n",
       "      <td>18:00</td>\n",
       "      <td>Card</td>\n",
       "      <td>59043.6</td>\n",
       "      <td>4.761905</td>\n",
       "      <td>2952.18</td>\n",
       "      <td>8.6</td>\n",
       "      <td>High</td>\n",
       "    </tr>\n",
       "    <tr>\n",
       "      <th>12</th>\n",
       "      <td>636-48-8204</td>\n",
       "      <td>Normal</td>\n",
       "      <td>Male</td>\n",
       "      <td>Electronic accessories</td>\n",
       "      <td>12441.6</td>\n",
       "      <td>5.0</td>\n",
       "      <td>3110.40</td>\n",
       "      <td>65318.40</td>\n",
       "      <td>2019-02-17</td>\n",
       "      <td>11:15</td>\n",
       "      <td>Epay</td>\n",
       "      <td>62208.0</td>\n",
       "      <td>4.761905</td>\n",
       "      <td>3110.40</td>\n",
       "      <td>9.9</td>\n",
       "      <td>High</td>\n",
       "    </tr>\n",
       "    <tr>\n",
       "      <th>13</th>\n",
       "      <td>549-59-1358</td>\n",
       "      <td>Member</td>\n",
       "      <td>Male</td>\n",
       "      <td>Sports and travel</td>\n",
       "      <td>31906.8</td>\n",
       "      <td>3.0</td>\n",
       "      <td>4786.02</td>\n",
       "      <td>100506.42</td>\n",
       "      <td>2019-03-02</td>\n",
       "      <td>17:36</td>\n",
       "      <td>Epay</td>\n",
       "      <td>95720.4</td>\n",
       "      <td>4.761905</td>\n",
       "      <td>4786.02</td>\n",
       "      <td>6.0</td>\n",
       "      <td>Medium</td>\n",
       "    </tr>\n",
       "    <tr>\n",
       "      <th>14</th>\n",
       "      <td>227-03-5010</td>\n",
       "      <td>Member</td>\n",
       "      <td>Female</td>\n",
       "      <td>Home and lifestyle</td>\n",
       "      <td>18932.4</td>\n",
       "      <td>8.0</td>\n",
       "      <td>7572.96</td>\n",
       "      <td>159032.16</td>\n",
       "      <td>2019-03-22</td>\n",
       "      <td>19:20</td>\n",
       "      <td>Card</td>\n",
       "      <td>151459.2</td>\n",
       "      <td>4.761905</td>\n",
       "      <td>7572.96</td>\n",
       "      <td>8.5</td>\n",
       "      <td>High</td>\n",
       "    </tr>\n",
       "    <tr>\n",
       "      <th>15</th>\n",
       "      <td>189-17-4241</td>\n",
       "      <td>Normal</td>\n",
       "      <td>Female</td>\n",
       "      <td>Fashion accessories</td>\n",
       "      <td>31561.2</td>\n",
       "      <td>2.0</td>\n",
       "      <td>3156.12</td>\n",
       "      <td>66278.52</td>\n",
       "      <td>2019-03-10</td>\n",
       "      <td>12:17</td>\n",
       "      <td>Card</td>\n",
       "      <td>63122.4</td>\n",
       "      <td>4.761905</td>\n",
       "      <td>3156.12</td>\n",
       "      <td>7.7</td>\n",
       "      <td>Medium</td>\n",
       "    </tr>\n",
       "    <tr>\n",
       "      <th>16</th>\n",
       "      <td>848-62-7243</td>\n",
       "      <td>Normal</td>\n",
       "      <td>Male</td>\n",
       "      <td>Health and beauty</td>\n",
       "      <td>8960.4</td>\n",
       "      <td>9.0</td>\n",
       "      <td>4032.18</td>\n",
       "      <td>84675.78</td>\n",
       "      <td>2019-03-15</td>\n",
       "      <td>15:36</td>\n",
       "      <td>Cash</td>\n",
       "      <td>80643.6</td>\n",
       "      <td>4.761905</td>\n",
       "      <td>4032.18</td>\n",
       "      <td>7.4</td>\n",
       "      <td>Medium</td>\n",
       "    </tr>\n",
       "    <tr>\n",
       "      <th>17</th>\n",
       "      <td>595-11-5460</td>\n",
       "      <td>Normal</td>\n",
       "      <td>Male</td>\n",
       "      <td>Health and beauty</td>\n",
       "      <td>34768.8</td>\n",
       "      <td>2.0</td>\n",
       "      <td>3476.88</td>\n",
       "      <td>73014.48</td>\n",
       "      <td>2019-03-15</td>\n",
       "      <td>10:12</td>\n",
       "      <td>Card</td>\n",
       "      <td>69537.6</td>\n",
       "      <td>4.761905</td>\n",
       "      <td>3476.88</td>\n",
       "      <td>5.1</td>\n",
       "      <td>Medium</td>\n",
       "    </tr>\n",
       "    <tr>\n",
       "      <th>18</th>\n",
       "      <td>129-29-8530</td>\n",
       "      <td>Member</td>\n",
       "      <td>Male</td>\n",
       "      <td>Sports and travel</td>\n",
       "      <td>22543.2</td>\n",
       "      <td>5.0</td>\n",
       "      <td>5635.80</td>\n",
       "      <td>118351.80</td>\n",
       "      <td>2019-03-10</td>\n",
       "      <td>19:15</td>\n",
       "      <td>Epay</td>\n",
       "      <td>112716.0</td>\n",
       "      <td>4.761905</td>\n",
       "      <td>5635.80</td>\n",
       "      <td>7.0</td>\n",
       "      <td>Medium</td>\n",
       "    </tr>\n",
       "    <tr>\n",
       "      <th>19</th>\n",
       "      <td>272-65-1806</td>\n",
       "      <td>Normal</td>\n",
       "      <td>Female</td>\n",
       "      <td>Electronic accessories</td>\n",
       "      <td>21916.8</td>\n",
       "      <td>9.0</td>\n",
       "      <td>9862.56</td>\n",
       "      <td>207113.76</td>\n",
       "      <td>2019-01-15</td>\n",
       "      <td>17:17</td>\n",
       "      <td>Epay</td>\n",
       "      <td>197251.2</td>\n",
       "      <td>4.761905</td>\n",
       "      <td>9862.56</td>\n",
       "      <td>4.7</td>\n",
       "      <td>Low</td>\n",
       "    </tr>\n",
       "  </tbody>\n",
       "</table>\n",
       "</div>"
      ],
      "text/plain": [
       "     Invoice ID Customer type  Gender            Product line  Unit price (N)  \\\n",
       "0   750-67-8428        Member  Female       Health and beauty         26888.4   \n",
       "1   631-41-3108        Normal    Male      Home and lifestyle         16678.8   \n",
       "2   123-19-1176        Member    Male       Health and beauty         20959.2   \n",
       "3   373-73-7910        Normal    Male       Sports and travel         31071.6   \n",
       "4   355-53-5943        Member  Female  Electronic accessories         24782.4   \n",
       "5   665-32-9167        Member  Female       Health and beauty         13053.6   \n",
       "6   365-64-0515        Normal  Female  Electronic accessories         16902.0   \n",
       "7   252-56-2699        Normal    Male      Food and beverages         15548.4   \n",
       "8   829-34-3910        Normal  Female       Health and beauty         25696.8   \n",
       "9   656-95-9349        Member  Female       Health and beauty         24814.8   \n",
       "10  765-26-6951        Normal    Male       Sports and travel         26139.6   \n",
       "11  329-62-1586        Normal    Male      Food and beverages         19681.2   \n",
       "12  636-48-8204        Normal    Male  Electronic accessories         12441.6   \n",
       "13  549-59-1358        Member    Male       Sports and travel         31906.8   \n",
       "14  227-03-5010        Member  Female      Home and lifestyle         18932.4   \n",
       "15  189-17-4241        Normal  Female     Fashion accessories         31561.2   \n",
       "16  848-62-7243        Normal    Male       Health and beauty          8960.4   \n",
       "17  595-11-5460        Normal    Male       Health and beauty         34768.8   \n",
       "18  129-29-8530        Member    Male       Sports and travel         22543.2   \n",
       "19  272-65-1806        Normal  Female  Electronic accessories         21916.8   \n",
       "\n",
       "    Quantity    Tax 5%  Gross sales (N)       Date   Time Payment      cogs  \\\n",
       "0        7.0   9410.94        197629.74 2019-01-05  13:08    Epay  188218.8   \n",
       "1        7.0   5837.58        122589.18 2019-03-03  13:23    Card  116751.6   \n",
       "2        8.0   8383.68        176057.28 2019-01-27  20:33    Epay  167673.6   \n",
       "3        7.0  10875.06        228376.26 2019-02-08  10:37    Epay  217501.2   \n",
       "4        6.0   7434.72        156129.12 2019-02-25  14:36    Epay  148694.4   \n",
       "5        2.0   1305.36         27412.56 2019-01-10  17:15    Card   26107.2   \n",
       "6        5.0   4225.50         88735.50 2019-02-12  10:25    Epay   84510.0   \n",
       "7       10.0   7774.20        163258.20 2019-02-07  16:48    Epay  155484.0   \n",
       "8       10.0  12848.40        269816.40 2019-03-29  19:21    Cash  256968.0   \n",
       "9        7.0   8685.18        182388.78 2019-03-11  11:03    Card  173703.6   \n",
       "10       6.0   7841.88        164679.48 2019-01-01  10:39    Card  156837.6   \n",
       "11       3.0   2952.18         61995.78 2019-01-21  18:00    Card   59043.6   \n",
       "12       5.0   3110.40         65318.40 2019-02-17  11:15    Epay   62208.0   \n",
       "13       3.0   4786.02        100506.42 2019-03-02  17:36    Epay   95720.4   \n",
       "14       8.0   7572.96        159032.16 2019-03-22  19:20    Card  151459.2   \n",
       "15       2.0   3156.12         66278.52 2019-03-10  12:17    Card   63122.4   \n",
       "16       9.0   4032.18         84675.78 2019-03-15  15:36    Cash   80643.6   \n",
       "17       2.0   3476.88         73014.48 2019-03-15  10:12    Card   69537.6   \n",
       "18       5.0   5635.80        118351.80 2019-03-10  19:15    Epay  112716.0   \n",
       "19       9.0   9862.56        207113.76 2019-01-15  17:17    Epay  197251.2   \n",
       "\n",
       "    gross margin percentage  gross income (N)  Rating Rating Category  \n",
       "0                  4.761905           9410.94     9.1            High  \n",
       "1                  4.761905           5837.58     7.4          Medium  \n",
       "2                  4.761905           8383.68     8.4            High  \n",
       "3                  4.761905          10875.06     5.3          Medium  \n",
       "4                  4.761905           7434.72     5.8          Medium  \n",
       "5                  4.761905           1305.36     7.2          Medium  \n",
       "6                  4.761905           4225.50     7.1          Medium  \n",
       "7                  4.761905           7774.20     8.2            High  \n",
       "8                  4.761905          12848.40     5.7          Medium  \n",
       "9                  4.761905           8685.18     4.6             Low  \n",
       "10                 4.761905           7841.88     6.9          Medium  \n",
       "11                 4.761905           2952.18     8.6            High  \n",
       "12                 4.761905           3110.40     9.9            High  \n",
       "13                 4.761905           4786.02     6.0          Medium  \n",
       "14                 4.761905           7572.96     8.5            High  \n",
       "15                 4.761905           3156.12     7.7          Medium  \n",
       "16                 4.761905           4032.18     7.4          Medium  \n",
       "17                 4.761905           3476.88     5.1          Medium  \n",
       "18                 4.761905           5635.80     7.0          Medium  \n",
       "19                 4.761905           9862.56     4.7             Low  "
      ]
     },
     "execution_count": 73,
     "metadata": {},
     "output_type": "execute_result"
    }
   ],
   "source": [
    "data.head(20)"
   ]
  },
  {
   "cell_type": "code",
   "execution_count": 86,
   "id": "c6dfb2cd",
   "metadata": {},
   "outputs": [
    {
     "data": {
      "image/png": "[encoded data removed]",
      "text/plain": [
       "<Figure size 640x480 with 1 Axes>"
      ]
     },
     "metadata": {},
     "output_type": "display_data"
    },
    {
     "data": {
      "image/png": "[encoded data removed]",
      "text/plain": [
       "<Figure size 640x480 with 1 Axes>"
      ]
     },
     "metadata": {},
     "output_type": "display_data"
    },
    {
     "data": {
      "image/png": "[encoded data removed]",
      "text/plain": [
       "<Figure size 640x480 with 1 Axes>"
      ]
     },
     "metadata": {},
     "output_type": "display_data"
    },
    {
     "data": {
      "image/png": "[encoded data removed]",
      "text/plain": [
       "<Figure size 640x480 with 1 Axes>"
      ]
     },
     "metadata": {},
     "output_type": "display_data"
    },
    {
     "data": {
      "image/png": "[encoded data removed]",
      "text/plain": [
       "<Figure size 640x480 with 1 Axes>"
      ]
     },
     "metadata": {},
     "output_type": "display_data"
    },
    {
     "data": {
      "image/png": "[encoded data removed]",
      "text/plain": [
       "<Figure size 640x480 with 1 Axes>"
      ]
     },
     "metadata": {},
     "output_type": "display_data"
    },
    {
     "data": {
      "image/png": "[encoded data removed]",
      "text/plain": [
       "<Figure size 640x480 with 1 Axes>"
      ]
     },
     "metadata": {},
     "output_type": "display_data"
    },
    {
     "data": {
      "image/png": "[encoded data removed]",
      "text/plain": [
       "<Figure size 640x480 with 1 Axes>"
      ]
     },
     "metadata": {},
     "output_type": "display_data"
    }
   ],
   "source": [
    "for column in num_cols:\n",
    "    plt.boxplot(data[column], notch=True,vert=False, patch_artist=True, boxprops=dict(facecolor='lightblue'))\n",
    "    plt.title(f'Box Plot of {column}')\n",
    "    plt.xlabel(column)\n",
    "    plt.show()"
   ]
  },
  {
   "attachments": {},
   "cell_type": "markdown",
   "id": "3a8c801b",
   "metadata": {},
   "source": [
    "#### Questions and Answers"
   ]
  },
  {
   "cell_type": "code",
   "execution_count": 87,
   "id": "7f34dfe2",
   "metadata": {},
   "outputs": [
    {
     "data": {
      "text/html": [
       "<div>\n",
       "<style scoped>\n",
       "    .dataframe tbody tr th:only-of-type {\n",
       "        vertical-align: middle;\n",
       "    }\n",
       "\n",
       "    .dataframe tbody tr th {\n",
       "        vertical-align: top;\n",
       "    }\n",
       "\n",
       "    .dataframe thead th {\n",
       "        text-align: right;\n",
       "    }\n",
       "</style>\n",
       "<table border=\"1\" class=\"dataframe\">\n",
       "  <thead>\n",
       "    <tr style=\"text-align: right;\">\n",
       "      <th></th>\n",
       "      <th>Unit price (N)</th>\n",
       "      <th>Quantity</th>\n",
       "      <th>Tax 5%</th>\n",
       "      <th>Gross sales (N)</th>\n",
       "      <th>Date</th>\n",
       "      <th>cogs</th>\n",
       "      <th>gross margin percentage</th>\n",
       "      <th>gross income (N)</th>\n",
       "      <th>Rating</th>\n",
       "    </tr>\n",
       "  </thead>\n",
       "  <tbody>\n",
       "    <tr>\n",
       "      <th>count</th>\n",
       "      <td>340.000000</td>\n",
       "      <td>340.000000</td>\n",
       "      <td>340.000000</td>\n",
       "      <td>340.000000</td>\n",
       "      <td>340</td>\n",
       "      <td>340.000000</td>\n",
       "      <td>340.000000</td>\n",
       "      <td>340.000000</td>\n",
       "      <td>340.000000</td>\n",
       "    </tr>\n",
       "    <tr>\n",
       "      <th>mean</th>\n",
       "      <td>19721.107059</td>\n",
       "      <td>5.467647</td>\n",
       "      <td>5354.640529</td>\n",
       "      <td>112447.451118</td>\n",
       "      <td>2019-02-14 23:55:45.882352896</td>\n",
       "      <td>107092.810588</td>\n",
       "      <td>4.761905</td>\n",
       "      <td>5354.640529</td>\n",
       "      <td>7.027059</td>\n",
       "    </tr>\n",
       "    <tr>\n",
       "      <th>min</th>\n",
       "      <td>3628.800000</td>\n",
       "      <td>1.000000</td>\n",
       "      <td>217.620000</td>\n",
       "      <td>4570.020000</td>\n",
       "      <td>2019-01-01 00:00:00</td>\n",
       "      <td>4352.400000</td>\n",
       "      <td>4.761905</td>\n",
       "      <td>217.620000</td>\n",
       "      <td>4.000000</td>\n",
       "    </tr>\n",
       "    <tr>\n",
       "      <th>25%</th>\n",
       "      <td>11610.000000</td>\n",
       "      <td>3.000000</td>\n",
       "      <td>2356.965000</td>\n",
       "      <td>49496.265000</td>\n",
       "      <td>2019-01-23 00:00:00</td>\n",
       "      <td>47139.300000</td>\n",
       "      <td>4.761905</td>\n",
       "      <td>2356.965000</td>\n",
       "      <td>5.600000</td>\n",
       "    </tr>\n",
       "    <tr>\n",
       "      <th>50%</th>\n",
       "      <td>19164.600000</td>\n",
       "      <td>5.000000</td>\n",
       "      <td>4128.480000</td>\n",
       "      <td>86698.080000</td>\n",
       "      <td>2019-02-15 00:00:00</td>\n",
       "      <td>82569.600000</td>\n",
       "      <td>4.761905</td>\n",
       "      <td>4128.480000</td>\n",
       "      <td>7.100000</td>\n",
       "    </tr>\n",
       "    <tr>\n",
       "      <th>75%</th>\n",
       "      <td>27034.200000</td>\n",
       "      <td>8.000000</td>\n",
       "      <td>7874.415000</td>\n",
       "      <td>165362.715000</td>\n",
       "      <td>2019-03-10 00:00:00</td>\n",
       "      <td>157488.300000</td>\n",
       "      <td>4.761905</td>\n",
       "      <td>7874.415000</td>\n",
       "      <td>8.500000</td>\n",
       "    </tr>\n",
       "    <tr>\n",
       "      <th>max</th>\n",
       "      <td>35938.800000</td>\n",
       "      <td>10.000000</td>\n",
       "      <td>17816.400000</td>\n",
       "      <td>374144.400000</td>\n",
       "      <td>2019-03-30 00:00:00</td>\n",
       "      <td>356328.000000</td>\n",
       "      <td>4.761905</td>\n",
       "      <td>17816.400000</td>\n",
       "      <td>10.000000</td>\n",
       "    </tr>\n",
       "    <tr>\n",
       "      <th>std</th>\n",
       "      <td>9407.565699</td>\n",
       "      <td>2.859876</td>\n",
       "      <td>3970.971849</td>\n",
       "      <td>83390.408832</td>\n",
       "      <td>NaN</td>\n",
       "      <td>79419.436983</td>\n",
       "      <td>0.000000</td>\n",
       "      <td>3970.971849</td>\n",
       "      <td>1.731345</td>\n",
       "    </tr>\n",
       "  </tbody>\n",
       "</table>\n",
       "</div>"
      ],
      "text/plain": [
       "       Unit price (N)    Quantity        Tax 5%  Gross sales (N)  \\\n",
       "count      340.000000  340.000000    340.000000       340.000000   \n",
       "mean     19721.107059    5.467647   5354.640529    112447.451118   \n",
       "min       3628.800000    1.000000    217.620000      4570.020000   \n",
       "25%      11610.000000    3.000000   2356.965000     49496.265000   \n",
       "50%      19164.600000    5.000000   4128.480000     86698.080000   \n",
       "75%      27034.200000    8.000000   7874.415000    165362.715000   \n",
       "max      35938.800000   10.000000  17816.400000    374144.400000   \n",
       "std       9407.565699    2.859876   3970.971849     83390.408832   \n",
       "\n",
       "                                Date           cogs  gross margin percentage  \\\n",
       "count                            340     340.000000               340.000000   \n",
       "mean   2019-02-14 23:55:45.882352896  107092.810588                 4.761905   \n",
       "min              2019-01-01 00:00:00    4352.400000                 4.761905   \n",
       "25%              2019-01-23 00:00:00   47139.300000                 4.761905   \n",
       "50%              2019-02-15 00:00:00   82569.600000                 4.761905   \n",
       "75%              2019-03-10 00:00:00  157488.300000                 4.761905   \n",
       "max              2019-03-30 00:00:00  356328.000000                 4.761905   \n",
       "std                              NaN   79419.436983                 0.000000   \n",
       "\n",
       "       gross income (N)      Rating  \n",
       "count        340.000000  340.000000  \n",
       "mean        5354.640529    7.027059  \n",
       "min          217.620000    4.000000  \n",
       "25%         2356.965000    5.600000  \n",
       "50%         4128.480000    7.100000  \n",
       "75%         7874.415000    8.500000  \n",
       "max        17816.400000   10.000000  \n",
       "std         3970.971849    1.731345  "
      ]
     },
     "execution_count": 87,
     "metadata": {},
     "output_type": "execute_result"
    }
   ],
   "source": [
    "## 1 Summary of key metrics \n",
    "\n",
    "data.describe()"
   ]
  },
  {
   "cell_type": "markdown",
   "id": "986f222c",
   "metadata": {},
   "source": [
    "- The date period is between 1st Jan 2019 and 30 Mar 2019"
   ]
  },
  {
   "cell_type": "code",
   "execution_count": 88,
   "id": "22228e56",
   "metadata": {},
   "outputs": [
    {
     "data": {
      "text/plain": [
       "['Unit price (N)',\n",
       " 'Quantity',\n",
       " 'Tax 5%',\n",
       " 'Gross sales (N)',\n",
       " 'cogs',\n",
       " 'gross margin percentage',\n",
       " 'gross income (N)',\n",
       " 'Rating']"
      ]
     },
     "execution_count": 88,
     "metadata": {},
     "output_type": "execute_result"
    }
   ],
   "source": [
    "num_cols"
   ]
  },
  {
   "cell_type": "code",
   "execution_count": 92,
   "id": "39f51500",
   "metadata": {},
   "outputs": [
    {
     "name": "stdout",
     "output_type": "stream",
     "text": [
      "Total Unit price (N) is 6705176.4\n",
      "Average Unit price (N) is 19721.1\n",
      "-------------------------------------------\n",
      "Total Quantity is 1859.0\n",
      "Average Quantity is 5.5\n",
      "-------------------------------------------\n",
      "Total Tax 5% is 1820577.8\n",
      "Average Tax 5% is 5354.6\n",
      "-------------------------------------------\n",
      "Total Gross sales (N) is 38232133.4\n",
      "Average Gross sales (N) is 112447.5\n",
      "-------------------------------------------\n",
      "Total cogs is 36411555.6\n",
      "Average cogs is 107092.8\n",
      "-------------------------------------------\n",
      "Total gross margin percentage is 1619.0\n",
      "Average gross margin percentage is 4.8\n",
      "-------------------------------------------\n",
      "Total gross income (N) is 1820577.8\n",
      "Average gross income (N) is 5354.6\n",
      "-------------------------------------------\n",
      "Total Rating is 2389.2\n",
      "Average Rating is 7.0\n",
      "-------------------------------------------\n"
     ]
    }
   ],
   "source": [
    "for column in num_cols:\n",
    "    print(f'Total {column} is {round(sum(data[column]),1)}')\n",
    "    print(f'Average {column} is {round(data[column].mean(),1)}')\n",
    "    print('-------------------------------------------')"
   ]
  },
  {
   "cell_type": "markdown",
   "id": "653487bf",
   "metadata": {},
   "source": [
    "2. Total gross sales, total gross income. total quantity for each product line"
   ]
  },
  {
   "cell_type": "code",
   "execution_count": 93,
   "id": "67059d88",
   "metadata": {},
   "outputs": [
    {
     "data": {
      "text/html": [
       "<div>\n",
       "<style scoped>\n",
       "    .dataframe tbody tr th:only-of-type {\n",
       "        vertical-align: middle;\n",
       "    }\n",
       "\n",
       "    .dataframe tbody tr th {\n",
       "        vertical-align: top;\n",
       "    }\n",
       "\n",
       "    .dataframe thead th {\n",
       "        text-align: right;\n",
       "    }\n",
       "</style>\n",
       "<table border=\"1\" class=\"dataframe\">\n",
       "  <thead>\n",
       "    <tr style=\"text-align: right;\">\n",
       "      <th></th>\n",
       "      <th>Invoice ID</th>\n",
       "      <th>Customer type</th>\n",
       "      <th>Gender</th>\n",
       "      <th>Product line</th>\n",
       "      <th>Unit price (N)</th>\n",
       "      <th>Quantity</th>\n",
       "      <th>Tax 5%</th>\n",
       "      <th>Gross sales (N)</th>\n",
       "      <th>Date</th>\n",
       "      <th>Time</th>\n",
       "      <th>Payment</th>\n",
       "      <th>cogs</th>\n",
       "      <th>gross margin percentage</th>\n",
       "      <th>gross income (N)</th>\n",
       "      <th>Rating</th>\n",
       "      <th>Rating Category</th>\n",
       "    </tr>\n",
       "  </thead>\n",
       "  <tbody>\n",
       "    <tr>\n",
       "      <th>0</th>\n",
       "      <td>750-67-8428</td>\n",
       "      <td>Member</td>\n",
       "      <td>Female</td>\n",
       "      <td>Health and beauty</td>\n",
       "      <td>26888.4</td>\n",
       "      <td>7.0</td>\n",
       "      <td>9410.94</td>\n",
       "      <td>197629.74</td>\n",
       "      <td>2019-01-05</td>\n",
       "      <td>13:08</td>\n",
       "      <td>Epay</td>\n",
       "      <td>188218.8</td>\n",
       "      <td>4.761905</td>\n",
       "      <td>9410.94</td>\n",
       "      <td>9.1</td>\n",
       "      <td>High</td>\n",
       "    </tr>\n",
       "    <tr>\n",
       "      <th>1</th>\n",
       "      <td>631-41-3108</td>\n",
       "      <td>Normal</td>\n",
       "      <td>Male</td>\n",
       "      <td>Home and lifestyle</td>\n",
       "      <td>16678.8</td>\n",
       "      <td>7.0</td>\n",
       "      <td>5837.58</td>\n",
       "      <td>122589.18</td>\n",
       "      <td>2019-03-03</td>\n",
       "      <td>13:23</td>\n",
       "      <td>Card</td>\n",
       "      <td>116751.6</td>\n",
       "      <td>4.761905</td>\n",
       "      <td>5837.58</td>\n",
       "      <td>7.4</td>\n",
       "      <td>Medium</td>\n",
       "    </tr>\n",
       "    <tr>\n",
       "      <th>2</th>\n",
       "      <td>123-19-1176</td>\n",
       "      <td>Member</td>\n",
       "      <td>Male</td>\n",
       "      <td>Health and beauty</td>\n",
       "      <td>20959.2</td>\n",
       "      <td>8.0</td>\n",
       "      <td>8383.68</td>\n",
       "      <td>176057.28</td>\n",
       "      <td>2019-01-27</td>\n",
       "      <td>20:33</td>\n",
       "      <td>Epay</td>\n",
       "      <td>167673.6</td>\n",
       "      <td>4.761905</td>\n",
       "      <td>8383.68</td>\n",
       "      <td>8.4</td>\n",
       "      <td>High</td>\n",
       "    </tr>\n",
       "    <tr>\n",
       "      <th>3</th>\n",
       "      <td>373-73-7910</td>\n",
       "      <td>Normal</td>\n",
       "      <td>Male</td>\n",
       "      <td>Sports and travel</td>\n",
       "      <td>31071.6</td>\n",
       "      <td>7.0</td>\n",
       "      <td>10875.06</td>\n",
       "      <td>228376.26</td>\n",
       "      <td>2019-02-08</td>\n",
       "      <td>10:37</td>\n",
       "      <td>Epay</td>\n",
       "      <td>217501.2</td>\n",
       "      <td>4.761905</td>\n",
       "      <td>10875.06</td>\n",
       "      <td>5.3</td>\n",
       "      <td>Medium</td>\n",
       "    </tr>\n",
       "    <tr>\n",
       "      <th>4</th>\n",
       "      <td>355-53-5943</td>\n",
       "      <td>Member</td>\n",
       "      <td>Female</td>\n",
       "      <td>Electronic accessories</td>\n",
       "      <td>24782.4</td>\n",
       "      <td>6.0</td>\n",
       "      <td>7434.72</td>\n",
       "      <td>156129.12</td>\n",
       "      <td>2019-02-25</td>\n",
       "      <td>14:36</td>\n",
       "      <td>Epay</td>\n",
       "      <td>148694.4</td>\n",
       "      <td>4.761905</td>\n",
       "      <td>7434.72</td>\n",
       "      <td>5.8</td>\n",
       "      <td>Medium</td>\n",
       "    </tr>\n",
       "  </tbody>\n",
       "</table>\n",
       "</div>"
      ],
      "text/plain": [
       "    Invoice ID Customer type  Gender            Product line  Unit price (N)  \\\n",
       "0  750-67-8428        Member  Female       Health and beauty         26888.4   \n",
       "1  631-41-3108        Normal    Male      Home and lifestyle         16678.8   \n",
       "2  123-19-1176        Member    Male       Health and beauty         20959.2   \n",
       "3  373-73-7910        Normal    Male       Sports and travel         31071.6   \n",
       "4  355-53-5943        Member  Female  Electronic accessories         24782.4   \n",
       "\n",
       "   Quantity    Tax 5%  Gross sales (N)       Date   Time Payment      cogs  \\\n",
       "0       7.0   9410.94        197629.74 2019-01-05  13:08    Epay  188218.8   \n",
       "1       7.0   5837.58        122589.18 2019-03-03  13:23    Card  116751.6   \n",
       "2       8.0   8383.68        176057.28 2019-01-27  20:33    Epay  167673.6   \n",
       "3       7.0  10875.06        228376.26 2019-02-08  10:37    Epay  217501.2   \n",
       "4       6.0   7434.72        156129.12 2019-02-25  14:36    Epay  148694.4   \n",
       "\n",
       "   gross margin percentage  gross income (N)  Rating Rating Category  \n",
       "0                 4.761905           9410.94     9.1            High  \n",
       "1                 4.761905           5837.58     7.4          Medium  \n",
       "2                 4.761905           8383.68     8.4            High  \n",
       "3                 4.761905          10875.06     5.3          Medium  \n",
       "4                 4.761905           7434.72     5.8          Medium  "
      ]
     },
     "execution_count": 93,
     "metadata": {},
     "output_type": "execute_result"
    }
   ],
   "source": [
    "data.head()"
   ]
  },
  {
   "cell_type": "code",
   "execution_count": 94,
   "id": "a617bf5d",
   "metadata": {},
   "outputs": [
    {
     "data": {
      "text/plain": [
       "Product line\n",
       "Home and lifestyle        65\n",
       "Electronic accessories    60\n",
       "Sports and travel         59\n",
       "Food and beverages        58\n",
       "Fashion accessories       51\n",
       "Health and beauty         47\n",
       "Name: count, dtype: int64"
      ]
     },
     "execution_count": 94,
     "metadata": {},
     "output_type": "execute_result"
    }
   ],
   "source": [
    "data['Product line'].value_counts()"
   ]
  },
  {
   "cell_type": "code",
   "execution_count": 97,
   "id": "e4dd4fd1",
   "metadata": {},
   "outputs": [],
   "source": [
    "data_sumbyProductline = data.groupby(by='Product line')[['Quantity', 'Gross sales (N)', 'gross income (N)']].sum()"
   ]
  },
  {
   "cell_type": "code",
   "execution_count": 117,
   "id": "02ba3cd1",
   "metadata": {},
   "outputs": [],
   "source": [
    "data_sumbyProductline.sort_values(by='Quantity', ascending=False, inplace=True)"
   ]
  },
  {
   "cell_type": "code",
   "execution_count": 105,
   "id": "7190b449",
   "metadata": {},
   "outputs": [],
   "source": [
    "data_avgProductLine = data.groupby(by='Product line')[['Unit price (N)']].mean()"
   ]
  },
  {
   "cell_type": "code",
   "execution_count": 109,
   "id": "1c7b482f",
   "metadata": {},
   "outputs": [],
   "source": [
    "data_avgProductLine['Unit price (N)'] = round(data_avgProductLine['Unit price (N)'],1)"
   ]
  },
  {
   "cell_type": "code",
   "execution_count": 110,
   "id": "78369e16",
   "metadata": {},
   "outputs": [
    {
     "data": {
      "text/html": [
       "<div>\n",
       "<style scoped>\n",
       "    .dataframe tbody tr th:only-of-type {\n",
       "        vertical-align: middle;\n",
       "    }\n",
       "\n",
       "    .dataframe tbody tr th {\n",
       "        vertical-align: top;\n",
       "    }\n",
       "\n",
       "    .dataframe thead th {\n",
       "        text-align: right;\n",
       "    }\n",
       "</style>\n",
       "<table border=\"1\" class=\"dataframe\">\n",
       "  <thead>\n",
       "    <tr style=\"text-align: right;\">\n",
       "      <th></th>\n",
       "      <th>Unit price (N)</th>\n",
       "    </tr>\n",
       "    <tr>\n",
       "      <th>Product line</th>\n",
       "      <th></th>\n",
       "    </tr>\n",
       "  </thead>\n",
       "  <tbody>\n",
       "    <tr>\n",
       "      <th>Electronic accessories</th>\n",
       "      <td>19753.6</td>\n",
       "    </tr>\n",
       "    <tr>\n",
       "      <th>Fashion accessories</th>\n",
       "      <td>20401.3</td>\n",
       "    </tr>\n",
       "    <tr>\n",
       "      <th>Food and beverages</th>\n",
       "      <td>19790.8</td>\n",
       "    </tr>\n",
       "    <tr>\n",
       "      <th>Health and beauty</th>\n",
       "      <td>17950.4</td>\n",
       "    </tr>\n",
       "    <tr>\n",
       "      <th>Home and lifestyle</th>\n",
       "      <td>20104.4</td>\n",
       "    </tr>\n",
       "    <tr>\n",
       "      <th>Sports and travel</th>\n",
       "      <td>20019.7</td>\n",
       "    </tr>\n",
       "  </tbody>\n",
       "</table>\n",
       "</div>"
      ],
      "text/plain": [
       "                        Unit price (N)\n",
       "Product line                          \n",
       "Electronic accessories         19753.6\n",
       "Fashion accessories            20401.3\n",
       "Food and beverages             19790.8\n",
       "Health and beauty              17950.4\n",
       "Home and lifestyle             20104.4\n",
       "Sports and travel              20019.7"
      ]
     },
     "execution_count": 110,
     "metadata": {},
     "output_type": "execute_result"
    }
   ],
   "source": [
    "data_avgProductLine"
   ]
  },
  {
   "cell_type": "code",
   "execution_count": 112,
   "id": "9cc08cb2",
   "metadata": {},
   "outputs": [
    {
     "data": {
      "text/plain": [
       "Index(['Unit price (N)'], dtype='object')"
      ]
     },
     "execution_count": 112,
     "metadata": {},
     "output_type": "execute_result"
    }
   ],
   "source": [
    "data_avgProductLine.columns"
   ]
  },
  {
   "cell_type": "code",
   "execution_count": 113,
   "id": "1d25c179",
   "metadata": {},
   "outputs": [
    {
     "data": {
      "text/plain": [
       "Index(['Electronic accessories', 'Fashion accessories', 'Food and beverages',\n",
       "       'Health and beauty', 'Home and lifestyle', 'Sports and travel'],\n",
       "      dtype='object', name='Product line')"
      ]
     },
     "execution_count": 113,
     "metadata": {},
     "output_type": "execute_result"
    }
   ],
   "source": [
    "data_avgProductLine.index"
   ]
  },
  {
   "cell_type": "markdown",
   "id": "bfcff4b9",
   "metadata": {},
   "source": [
    "The product line that generates the most sales is Home lifestyle."
   ]
  },
  {
   "cell_type": "code",
   "execution_count": 118,
   "id": "48507ed6",
   "metadata": {},
   "outputs": [
    {
     "data": {
      "text/html": [
       "<div>\n",
       "<style scoped>\n",
       "    .dataframe tbody tr th:only-of-type {\n",
       "        vertical-align: middle;\n",
       "    }\n",
       "\n",
       "    .dataframe tbody tr th {\n",
       "        vertical-align: top;\n",
       "    }\n",
       "\n",
       "    .dataframe thead th {\n",
       "        text-align: right;\n",
       "    }\n",
       "</style>\n",
       "<table border=\"1\" class=\"dataframe\">\n",
       "  <thead>\n",
       "    <tr style=\"text-align: right;\">\n",
       "      <th></th>\n",
       "      <th>Quantity</th>\n",
       "      <th>Gross sales (N)</th>\n",
       "      <th>gross income (N)</th>\n",
       "    </tr>\n",
       "    <tr>\n",
       "      <th>Product line</th>\n",
       "      <th></th>\n",
       "      <th></th>\n",
       "      <th></th>\n",
       "    </tr>\n",
       "  </thead>\n",
       "  <tbody>\n",
       "    <tr>\n",
       "      <th>Home and lifestyle</th>\n",
       "      <td>371.0</td>\n",
       "      <td>8070190.38</td>\n",
       "      <td>384294.78</td>\n",
       "    </tr>\n",
       "    <tr>\n",
       "      <th>Sports and travel</th>\n",
       "      <td>333.0</td>\n",
       "      <td>6974171.82</td>\n",
       "      <td>332103.42</td>\n",
       "    </tr>\n",
       "    <tr>\n",
       "      <th>Electronic accessories</th>\n",
       "      <td>322.0</td>\n",
       "      <td>6594160.86</td>\n",
       "      <td>314007.66</td>\n",
       "    </tr>\n",
       "    <tr>\n",
       "      <th>Food and beverages</th>\n",
       "      <td>313.0</td>\n",
       "      <td>6178716.18</td>\n",
       "      <td>294224.58</td>\n",
       "    </tr>\n",
       "    <tr>\n",
       "      <th>Fashion accessories</th>\n",
       "      <td>263.0</td>\n",
       "      <td>5879703.06</td>\n",
       "      <td>279985.86</td>\n",
       "    </tr>\n",
       "    <tr>\n",
       "      <th>Health and beauty</th>\n",
       "      <td>257.0</td>\n",
       "      <td>4535191.08</td>\n",
       "      <td>215961.48</td>\n",
       "    </tr>\n",
       "  </tbody>\n",
       "</table>\n",
       "</div>"
      ],
      "text/plain": [
       "                        Quantity  Gross sales (N)  gross income (N)\n",
       "Product line                                                       \n",
       "Home and lifestyle         371.0       8070190.38         384294.78\n",
       "Sports and travel          333.0       6974171.82         332103.42\n",
       "Electronic accessories     322.0       6594160.86         314007.66\n",
       "Food and beverages         313.0       6178716.18         294224.58\n",
       "Fashion accessories        263.0       5879703.06         279985.86\n",
       "Health and beauty          257.0       4535191.08         215961.48"
      ]
     },
     "execution_count": 118,
     "metadata": {},
     "output_type": "execute_result"
    }
   ],
   "source": [
    "data_sumbyProductline"
   ]
  },
  {
   "cell_type": "code",
   "execution_count": 126,
   "id": "c86677f9",
   "metadata": {},
   "outputs": [
    {
     "data": {
      "image/png": "[encoded data removed]",
      "text/plain": [
       "<Figure size 2000x800 with 1 Axes>"
      ]
     },
     "metadata": {},
     "output_type": "display_data"
    }
   ],
   "source": [
    "plt.figure(figsize=(20,8))\n",
    "\n",
    "plt.bar(x=data_sumbyProductline.index, height=data_sumbyProductline['Gross sales (N)'], color='lightgrey')\n",
    "plt.title('Gross sales for each product line')\n",
    "plt.xlabel('Product line')\n",
    "plt.ylabel('Gross sales')\n",
    "plt.show()"
   ]
  },
  {
   "cell_type": "markdown",
   "id": "2c9c40e7",
   "metadata": {},
   "source": [
    "#### Insights on customer type"
   ]
  },
  {
   "cell_type": "code",
   "execution_count": 127,
   "id": "19eb4f68",
   "metadata": {},
   "outputs": [
    {
     "data": {
      "text/html": [
       "<div>\n",
       "<style scoped>\n",
       "    .dataframe tbody tr th:only-of-type {\n",
       "        vertical-align: middle;\n",
       "    }\n",
       "\n",
       "    .dataframe tbody tr th {\n",
       "        vertical-align: top;\n",
       "    }\n",
       "\n",
       "    .dataframe thead th {\n",
       "        text-align: right;\n",
       "    }\n",
       "</style>\n",
       "<table border=\"1\" class=\"dataframe\">\n",
       "  <thead>\n",
       "    <tr style=\"text-align: right;\">\n",
       "      <th></th>\n",
       "      <th>Invoice ID</th>\n",
       "      <th>Customer type</th>\n",
       "      <th>Gender</th>\n",
       "      <th>Product line</th>\n",
       "      <th>Unit price (N)</th>\n",
       "      <th>Quantity</th>\n",
       "      <th>Tax 5%</th>\n",
       "      <th>Gross sales (N)</th>\n",
       "      <th>Date</th>\n",
       "      <th>Time</th>\n",
       "      <th>Payment</th>\n",
       "      <th>cogs</th>\n",
       "      <th>gross margin percentage</th>\n",
       "      <th>gross income (N)</th>\n",
       "      <th>Rating</th>\n",
       "      <th>Rating Category</th>\n",
       "    </tr>\n",
       "  </thead>\n",
       "  <tbody>\n",
       "    <tr>\n",
       "      <th>0</th>\n",
       "      <td>750-67-8428</td>\n",
       "      <td>Member</td>\n",
       "      <td>Female</td>\n",
       "      <td>Health and beauty</td>\n",
       "      <td>26888.4</td>\n",
       "      <td>7.0</td>\n",
       "      <td>9410.94</td>\n",
       "      <td>197629.74</td>\n",
       "      <td>2019-01-05</td>\n",
       "      <td>13:08</td>\n",
       "      <td>Epay</td>\n",
       "      <td>188218.8</td>\n",
       "      <td>4.761905</td>\n",
       "      <td>9410.94</td>\n",
       "      <td>9.1</td>\n",
       "      <td>High</td>\n",
       "    </tr>\n",
       "    <tr>\n",
       "      <th>1</th>\n",
       "      <td>631-41-3108</td>\n",
       "      <td>Normal</td>\n",
       "      <td>Male</td>\n",
       "      <td>Home and lifestyle</td>\n",
       "      <td>16678.8</td>\n",
       "      <td>7.0</td>\n",
       "      <td>5837.58</td>\n",
       "      <td>122589.18</td>\n",
       "      <td>2019-03-03</td>\n",
       "      <td>13:23</td>\n",
       "      <td>Card</td>\n",
       "      <td>116751.6</td>\n",
       "      <td>4.761905</td>\n",
       "      <td>5837.58</td>\n",
       "      <td>7.4</td>\n",
       "      <td>Medium</td>\n",
       "    </tr>\n",
       "    <tr>\n",
       "      <th>2</th>\n",
       "      <td>123-19-1176</td>\n",
       "      <td>Member</td>\n",
       "      <td>Male</td>\n",
       "      <td>Health and beauty</td>\n",
       "      <td>20959.2</td>\n",
       "      <td>8.0</td>\n",
       "      <td>8383.68</td>\n",
       "      <td>176057.28</td>\n",
       "      <td>2019-01-27</td>\n",
       "      <td>20:33</td>\n",
       "      <td>Epay</td>\n",
       "      <td>167673.6</td>\n",
       "      <td>4.761905</td>\n",
       "      <td>8383.68</td>\n",
       "      <td>8.4</td>\n",
       "      <td>High</td>\n",
       "    </tr>\n",
       "    <tr>\n",
       "      <th>3</th>\n",
       "      <td>373-73-7910</td>\n",
       "      <td>Normal</td>\n",
       "      <td>Male</td>\n",
       "      <td>Sports and travel</td>\n",
       "      <td>31071.6</td>\n",
       "      <td>7.0</td>\n",
       "      <td>10875.06</td>\n",
       "      <td>228376.26</td>\n",
       "      <td>2019-02-08</td>\n",
       "      <td>10:37</td>\n",
       "      <td>Epay</td>\n",
       "      <td>217501.2</td>\n",
       "      <td>4.761905</td>\n",
       "      <td>10875.06</td>\n",
       "      <td>5.3</td>\n",
       "      <td>Medium</td>\n",
       "    </tr>\n",
       "    <tr>\n",
       "      <th>4</th>\n",
       "      <td>355-53-5943</td>\n",
       "      <td>Member</td>\n",
       "      <td>Female</td>\n",
       "      <td>Electronic accessories</td>\n",
       "      <td>24782.4</td>\n",
       "      <td>6.0</td>\n",
       "      <td>7434.72</td>\n",
       "      <td>156129.12</td>\n",
       "      <td>2019-02-25</td>\n",
       "      <td>14:36</td>\n",
       "      <td>Epay</td>\n",
       "      <td>148694.4</td>\n",
       "      <td>4.761905</td>\n",
       "      <td>7434.72</td>\n",
       "      <td>5.8</td>\n",
       "      <td>Medium</td>\n",
       "    </tr>\n",
       "  </tbody>\n",
       "</table>\n",
       "</div>"
      ],
      "text/plain": [
       "    Invoice ID Customer type  Gender            Product line  Unit price (N)  \\\n",
       "0  750-67-8428        Member  Female       Health and beauty         26888.4   \n",
       "1  631-41-3108        Normal    Male      Home and lifestyle         16678.8   \n",
       "2  123-19-1176        Member    Male       Health and beauty         20959.2   \n",
       "3  373-73-7910        Normal    Male       Sports and travel         31071.6   \n",
       "4  355-53-5943        Member  Female  Electronic accessories         24782.4   \n",
       "\n",
       "   Quantity    Tax 5%  Gross sales (N)       Date   Time Payment      cogs  \\\n",
       "0       7.0   9410.94        197629.74 2019-01-05  13:08    Epay  188218.8   \n",
       "1       7.0   5837.58        122589.18 2019-03-03  13:23    Card  116751.6   \n",
       "2       8.0   8383.68        176057.28 2019-01-27  20:33    Epay  167673.6   \n",
       "3       7.0  10875.06        228376.26 2019-02-08  10:37    Epay  217501.2   \n",
       "4       6.0   7434.72        156129.12 2019-02-25  14:36    Epay  148694.4   \n",
       "\n",
       "   gross margin percentage  gross income (N)  Rating Rating Category  \n",
       "0                 4.761905           9410.94     9.1            High  \n",
       "1                 4.761905           5837.58     7.4          Medium  \n",
       "2                 4.761905           8383.68     8.4            High  \n",
       "3                 4.761905          10875.06     5.3          Medium  \n",
       "4                 4.761905           7434.72     5.8          Medium  "
      ]
     },
     "execution_count": 127,
     "metadata": {},
     "output_type": "execute_result"
    }
   ],
   "source": [
    "data.head()"
   ]
  },
  {
   "cell_type": "code",
   "execution_count": 128,
   "id": "b2565342",
   "metadata": {},
   "outputs": [
    {
     "data": {
      "text/plain": [
       "Gender\n",
       "Male      179\n",
       "Female    161\n",
       "Name: count, dtype: int64"
      ]
     },
     "execution_count": 128,
     "metadata": {},
     "output_type": "execute_result"
    }
   ],
   "source": [
    "data['Gender'].value_counts()"
   ]
  },
  {
   "cell_type": "code",
   "execution_count": 136,
   "id": "fd78ddfb",
   "metadata": {},
   "outputs": [
    {
     "data": {
      "image/png": "[encoded data removed]",
      "text/plain": [
       "<Figure size 640x480 with 1 Axes>"
      ]
     },
     "metadata": {},
     "output_type": "display_data"
    }
   ],
   "source": [
    "plt.pie(data['Gender'].value_counts(), labels=['Male', 'Female'], autopct='%1.1f%%')\n",
    "plt.title('Pie chart showing the count of gender')\n",
    "plt.show()"
   ]
  },
  {
   "cell_type": "code",
   "execution_count": 137,
   "id": "a3473eea",
   "metadata": {},
   "outputs": [
    {
     "data": {
      "text/plain": [
       "Customer type\n",
       "Normal    173\n",
       "Member    167\n",
       "Name: count, dtype: int64"
      ]
     },
     "execution_count": 137,
     "metadata": {},
     "output_type": "execute_result"
    }
   ],
   "source": [
    "data['Customer type'].value_counts()"
   ]
  },
  {
   "cell_type": "code",
   "execution_count": 145,
   "id": "b34b43ac",
   "metadata": {},
   "outputs": [
    {
     "name": "stderr",
     "output_type": "stream",
     "text": [
      "C:\\Users\\aaginam\\AppData\\Local\\Temp\\ipykernel_2212\\113011928.py:1: FutureWarning: The provided callable <built-in function sum> is currently using SeriesGroupBy.sum. In a future version of pandas, the provided callable will be used directly. To keep current behavior pass the string \"sum\" instead.\n",
      "  data_aggbyCustomerType = data.groupby(by='Customer type')[['Gross sales (N)']].agg([sum,'mean'])\n"
     ]
    }
   ],
   "source": [
    "data_aggbyCustomerType = data.groupby(by='Customer type')[['Gross sales (N)']].agg([sum,'mean'])"
   ]
  },
  {
   "cell_type": "code",
   "execution_count": 146,
   "id": "8369b949",
   "metadata": {},
   "outputs": [
    {
     "data": {
      "text/html": [
       "<div>\n",
       "<style scoped>\n",
       "    .dataframe tbody tr th:only-of-type {\n",
       "        vertical-align: middle;\n",
       "    }\n",
       "\n",
       "    .dataframe tbody tr th {\n",
       "        vertical-align: top;\n",
       "    }\n",
       "\n",
       "    .dataframe thead tr th {\n",
       "        text-align: left;\n",
       "    }\n",
       "\n",
       "    .dataframe thead tr:last-of-type th {\n",
       "        text-align: right;\n",
       "    }\n",
       "</style>\n",
       "<table border=\"1\" class=\"dataframe\">\n",
       "  <thead>\n",
       "    <tr>\n",
       "      <th></th>\n",
       "      <th colspan=\"2\" halign=\"left\">Gross sales (N)</th>\n",
       "    </tr>\n",
       "    <tr>\n",
       "      <th></th>\n",
       "      <th>sum</th>\n",
       "      <th>mean</th>\n",
       "    </tr>\n",
       "    <tr>\n",
       "      <th>Customer type</th>\n",
       "      <th></th>\n",
       "      <th></th>\n",
       "    </tr>\n",
       "  </thead>\n",
       "  <tbody>\n",
       "    <tr>\n",
       "      <th>Member</th>\n",
       "      <td>19309491.18</td>\n",
       "      <td>115625.695689</td>\n",
       "    </tr>\n",
       "    <tr>\n",
       "      <th>Normal</th>\n",
       "      <td>18922642.20</td>\n",
       "      <td>109379.434682</td>\n",
       "    </tr>\n",
       "  </tbody>\n",
       "</table>\n",
       "</div>"
      ],
      "text/plain": [
       "              Gross sales (N)               \n",
       "                          sum           mean\n",
       "Customer type                               \n",
       "Member            19309491.18  115625.695689\n",
       "Normal            18922642.20  109379.434682"
      ]
     },
     "execution_count": 146,
     "metadata": {},
     "output_type": "execute_result"
    }
   ],
   "source": [
    "data_aggbyCustomerType"
   ]
  },
  {
   "cell_type": "code",
   "execution_count": 142,
   "id": "72a826f4",
   "metadata": {},
   "outputs": [
    {
     "data": {
      "image/png": "[encoded data removed]",
      "text/plain": [
       "<Figure size 640x480 with 1 Axes>"
      ]
     },
     "metadata": {},
     "output_type": "display_data"
    }
   ],
   "source": [
    "plt.pie(data_sumbyCustomerType['Gross sales (N)'], labels=data_sumbyCustomerType.index , autopct='%1.1f%%')\n",
    "plt.title('Pie chart showing the count of Customer type')\n",
    "plt.show()"
   ]
  },
  {
   "cell_type": "markdown",
   "id": "d2d0c4a2",
   "metadata": {},
   "source": [
    "#### Conclusions\n",
    "- "
   ]
  },
  {
   "cell_type": "markdown",
   "id": "ad724f20",
   "metadata": {},
   "source": [
    "##### Recommendations\n",
    "- "
   ]
  }
 ],
 "metadata": {
  "kernelspec": {
   "display_name": "Python 3 (ipykernel)",
   "language": "python",
   "name": "python3"
  },
  "language_info": {
   "codemirror_mode": {
    "name": "ipython",
    "version": 3
   },
   "file_extension": ".py",
   "mimetype": "text/x-python",
   "name": "python",
   "nbconvert_exporter": "python",
   "pygments_lexer": "ipython3",
   "version": "3.11.5"
  }
 },
 "nbformat": 4,
 "nbformat_minor": 5
}
